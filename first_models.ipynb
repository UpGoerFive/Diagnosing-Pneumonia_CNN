{
  "nbformat": 4,
  "nbformat_minor": 0,
  "metadata": {
    "colab": {
      "name": "first_models.ipynb",
      "provenance": [],
      "authorship_tag": "ABX9TyMcC+eyf/yaqf7Kahn+vQqh",
      "include_colab_link": true
    },
    "kernelspec": {
      "name": "python3",
      "display_name": "Python 3"
    },
    "language_info": {
      "name": "python"
    },
    "accelerator": "TPU"
  },
  "cells": [
    {
      "cell_type": "markdown",
      "metadata": {
        "id": "view-in-github",
        "colab_type": "text"
      },
      "source": [
        "<a href=\"https://colab.research.google.com/github/grace-arina/Diagnosing-Pneumonia_CNN/blob/grace-iter-models/first_models.ipynb\" target=\"_parent\"><img src=\"https://colab.research.google.com/assets/colab-badge.svg\" alt=\"Open In Colab\"/></a>"
      ]
    },
    {
      "cell_type": "code",
      "source": [
        "!pip install opendatasets"
      ],
      "metadata": {
        "id": "75Z_VgGbv714",
        "colab": {
          "base_uri": "https://localhost:8080/"
        },
        "outputId": "2b6d76b8-cfdd-42b1-a852-5620b6e7868f"
      },
      "execution_count": null,
      "outputs": [
        {
          "output_type": "stream",
          "name": "stdout",
          "text": [
            "Collecting opendatasets\n",
            "  Downloading opendatasets-0.1.20-py3-none-any.whl (14 kB)\n",
            "Requirement already satisfied: tqdm in /usr/local/lib/python3.7/dist-packages (from opendatasets) (4.62.3)\n",
            "Requirement already satisfied: click in /usr/local/lib/python3.7/dist-packages (from opendatasets) (7.1.2)\n",
            "Requirement already satisfied: kaggle in /usr/local/lib/python3.7/dist-packages (from opendatasets) (1.5.12)\n",
            "Requirement already satisfied: python-dateutil in /usr/local/lib/python3.7/dist-packages (from kaggle->opendatasets) (2.8.2)\n",
            "Requirement already satisfied: certifi in /usr/local/lib/python3.7/dist-packages (from kaggle->opendatasets) (2021.10.8)\n",
            "Requirement already satisfied: six>=1.10 in /usr/local/lib/python3.7/dist-packages (from kaggle->opendatasets) (1.15.0)\n",
            "Requirement already satisfied: python-slugify in /usr/local/lib/python3.7/dist-packages (from kaggle->opendatasets) (5.0.2)\n",
            "Requirement already satisfied: urllib3 in /usr/local/lib/python3.7/dist-packages (from kaggle->opendatasets) (1.24.3)\n",
            "Requirement already satisfied: requests in /usr/local/lib/python3.7/dist-packages (from kaggle->opendatasets) (2.23.0)\n",
            "Requirement already satisfied: text-unidecode>=1.3 in /usr/local/lib/python3.7/dist-packages (from python-slugify->kaggle->opendatasets) (1.3)\n",
            "Requirement already satisfied: chardet<4,>=3.0.2 in /usr/local/lib/python3.7/dist-packages (from requests->kaggle->opendatasets) (3.0.4)\n",
            "Requirement already satisfied: idna<3,>=2.5 in /usr/local/lib/python3.7/dist-packages (from requests->kaggle->opendatasets) (2.10)\n",
            "Installing collected packages: opendatasets\n",
            "Successfully installed opendatasets-0.1.20\n"
          ]
        }
      ]
    },
    {
      "cell_type": "code",
      "execution_count": null,
      "metadata": {
        "colab": {
          "base_uri": "https://localhost:8080/"
        },
        "id": "ycxzUFcIys7v",
        "outputId": "7a3a3220-817c-4bb8-a1d0-80aa047fad76"
      },
      "outputs": [
        {
          "output_type": "stream",
          "name": "stdout",
          "text": [
            "Please provide your Kaggle credentials to download this dataset. Learn more: http://bit.ly/kaggle-creds\n",
            "Your Kaggle username: gracearina\n",
            "Your Kaggle Key: ··········\n",
            "Downloading chest-xray-pneumonia.zip to ./chest-xray-pneumonia\n"
          ]
        },
        {
          "output_type": "stream",
          "name": "stderr",
          "text": [
            "100%|██████████| 2.29G/2.29G [00:15<00:00, 164MB/s] \n"
          ]
        },
        {
          "output_type": "stream",
          "name": "stdout",
          "text": [
            "\n"
          ]
        }
      ],
      "source": [
        "import opendatasets as od\n",
        "od.download('https://www.kaggle.com/paultimothymooney/chest-xray-pneumonia')"
      ]
    },
    {
      "cell_type": "code",
      "source": [
        "import numpy as np\n",
        "import pandas as pd\n",
        "import matplotlib.pyplot as plt\n",
        "\n",
        "import tensorflow as tf\n",
        "from tensorflow.keras import datasets, layers, models\n",
        "from tensorflow.keras.preprocessing.image import ImageDataGenerator, array_to_img, img_to_array, load_img"
      ],
      "metadata": {
        "id": "RQxJp_dYBymh"
      },
      "execution_count": null,
      "outputs": []
    },
    {
      "cell_type": "code",
      "source": [
        "import shutil"
      ],
      "metadata": {
        "id": "nYGsM4BmNnh0"
      },
      "execution_count": null,
      "outputs": []
    },
    {
      "cell_type": "markdown",
      "source": [
        "**Generate the Dataset**"
      ],
      "metadata": {
        "id": "vD4xCuNx1bs1"
      }
    },
    {
      "cell_type": "code",
      "source": [
        "val_pneu_dir = 'chest-xray-pneumonia/chest_xray/val/PNEUMONIA'\n",
        "val_norm_dir = 'chest-xray-pneumonia/chest_xray/val/NORMAL'\n",
        "\n",
        "train_pneu_dir = 'chest-xray-pneumonia/chest_xray/train/PNEUMONIA'\n",
        "train_norm_dir = 'chest-xray-pneumonia/chest_xray/train/NORMAL'"
      ],
      "metadata": {
        "id": "6bwIxqf51idO"
      },
      "execution_count": null,
      "outputs": []
    },
    {
      "cell_type": "code",
      "source": [
        "import os\n",
        "first_onetwenty_norm = [file for file in os.listdir(train_norm_dir)][0:240]\n",
        "first_onetwenty_pneumonia = [file for file in os.listdir(train_pneu_dir)][0:240]\n",
        "\n",
        "for file in first_onetwenty_norm:\n",
        "    shutil.move(os.path.join(train_norm_dir, file), os.path.join(val_norm_dir, file))\n",
        "\n",
        "for file in first_onetwenty_pneumonia:\n",
        "    shutil.move(os.path.join(train_pneu_dir, file), os.path.join(val_pneu_dir, file))"
      ],
      "metadata": {
        "id": "2n56opk9-94v"
      },
      "execution_count": null,
      "outputs": []
    },
    {
      "cell_type": "markdown",
      "source": [
        "**Data Preprocessing**"
      ],
      "metadata": {
        "id": "2Hy_UfeBjT7A"
      }
    },
    {
      "cell_type": "markdown",
      "source": [
        "Data should be formatted into appropriately preprocessed floatingpoint\n",
        "tensors before being fed into the network. Currently, the data sits on a drive as\n",
        "JPEG files, so the steps for getting it into the network are roughly as follows:\n",
        "1.  Read the picture files.\n",
        "2.  Decode the JPEG content to RGB grids of pixels.\n",
        "3.  Convert these into floating-point tensors.\n",
        "4.  Rescale the pixel values (between 0 and 255) to the [0, 1] interval (as you know,\n",
        "neural networks prefer to deal with small input values)."
      ],
      "metadata": {
        "id": "k-Yq7jodGu2R"
      }
    },
    {
      "cell_type": "code",
      "source": [
        "idg = ImageDataGenerator(rescale=1./255)\n",
        "\n",
        "train_set = idg.flow_from_directory('./chest-xray-pneumonia/chest_xray/train/',\n",
        "                                                 target_size=(150, 150),\n",
        "                                                 #batch_size=20,\n",
        "                                                 class_mode='binary',\n",
        "                                                 color_mode='grayscale')\n",
        "\n",
        "val_set = idg.flow_from_directory('./chest-xray-pneumonia/chest_xray/val/',\n",
        "                                          target_size=(150, 150),\n",
        "                                          #batch_size=20,\n",
        "                                          class_mode='binary',\n",
        "                                          color_mode='grayscale')\n",
        "\n",
        "test_set = idg.flow_from_directory('./chest-xray-pneumonia/chest_xray/test/',\n",
        "                                            target_size=(150, 150),\n",
        "                                            #batch_size=20,\n",
        "                                            class_mode='binary', \n",
        "                                            color_mode='grayscale')"
      ],
      "metadata": {
        "colab": {
          "base_uri": "https://localhost:8080/"
        },
        "id": "g_4GchlqACCx",
        "outputId": "e85c2f23-e654-4011-dcb4-350d6c5626ef"
      },
      "execution_count": null,
      "outputs": [
        {
          "output_type": "stream",
          "name": "stdout",
          "text": [
            "Found 4736 images belonging to 2 classes.\n",
            "Found 496 images belonging to 2 classes.\n",
            "Found 624 images belonging to 2 classes.\n"
          ]
        }
      ]
    },
    {
      "cell_type": "code",
      "source": [
        "for data_batch, labels_batch in train_set:\n",
        "  print(\"Train shape:\", data_batch.shape)\n",
        "  print(\"Train labels shape:\", labels_batch.shape)\n",
        "  break\n",
        "for data_batch, labels_batch in val_set:\n",
        "  print(\"Validation shape:\", data_batch.shape)\n",
        "  print(\"Validation labels shape:\", labels_batch.shape)\n",
        "  break\n",
        "for data_batch, labels_batch in test_set:\n",
        "  print(\"Test shape:\", data_batch.shape)\n",
        "  print(\"Test labels shape:\", labels_batch.shape)\n",
        "  break"
      ],
      "metadata": {
        "colab": {
          "base_uri": "https://localhost:8080/"
        },
        "id": "a0uf44XXjn8r",
        "outputId": "deec7b37-52c5-429c-d755-0cc0c01b8759"
      },
      "execution_count": null,
      "outputs": [
        {
          "output_type": "stream",
          "name": "stdout",
          "text": [
            "Train shape: (32, 150, 150, 1)\n",
            "Train labels shape: (32,)\n",
            "Validation shape: (32, 150, 150, 1)\n",
            "Validation labels shape: (32,)\n",
            "Test shape: (32, 150, 150, 1)\n",
            "Test labels shape: (32,)\n"
          ]
        }
      ]
    },
    {
      "cell_type": "markdown",
      "source": [
        "**Example Images From the Dataset**"
      ],
      "metadata": {
        "id": "KOT-U8PHsWKD"
      }
    },
    {
      "cell_type": "code",
      "source": [
        "import seaborn as sns\n",
        "\n",
        "# Creating a series of the training labels and mapping on readable names\n",
        "class_labels = pd.Series(train_set.labels).map({0: 'normal', \n",
        "                                                   1: 'pneumonia'})\n",
        "\n",
        "# Plotting the distribution of the classes\n",
        "fig, ax = plt.subplots(figsize=(8,6)) \n",
        "ax = sns.countplot(x=class_labels)\n",
        "ax.set_title('Pneumonia and Normal Class Distribution', \n",
        "             fontdict={'fontsize': 20});"
      ],
      "metadata": {
        "colab": {
          "base_uri": "https://localhost:8080/",
          "height": 395
        },
        "id": "Gx0lVtlcBZYl",
        "outputId": "14fbfe3e-43c3-4289-a511-34974549f96a"
      },
      "execution_count": null,
      "outputs": [
        {
          "output_type": "display_data",
          "data": {
            "image/png": "[encoded data removed]",
            "text/plain": [
              "<Figure size 576x432 with 1 Axes>"
            ]
          },
          "metadata": {
            "needs_background": "light"
          }
        }
      ]
    },
    {
      "cell_type": "markdown",
      "source": [
        "Each split contains the same number of samples from each class: this is a balanced\n",
        "binary-classification problem, which means classification accuracy will be an\n",
        "appropriate measure of success."
      ],
      "metadata": {
        "id": "h_VEUblOFnl7"
      }
    },
    {
      "cell_type": "markdown",
      "source": [
        "**Evaluation Functions for the Models**"
      ],
      "metadata": {
        "id": "weHiJCdnfgpa"
      }
    },
    {
      "cell_type": "code",
      "source": [
        "# Pulling out X and y variables from the image sets for visualizing\n",
        "X_train, y_train = next(train_set)\n",
        "X_val, y_val = next(val_set)\n",
        "X_test, y_test = next(test_set)"
      ],
      "metadata": {
        "id": "PnMhCNJ6li_q"
      },
      "execution_count": null,
      "outputs": []
    },
    {
      "cell_type": "code",
      "source": [
        "def plot_model_metrics(hist, label=''):\n",
        "    '''\n",
        "    Generates plots on model metrics from the history.\n",
        "    \n",
        "    Args:\n",
        "        hist (history object): Keras model history object\n",
        "        label (str): Name of model to be used for titles of graphs\n",
        "        \n",
        "    Returns:\n",
        "        Model history record as a DataFrame\n",
        "    \n",
        "    Example:\n",
        "        plot_model_metrics(history1, label='Base CNN Model')\n",
        "        \n",
        "    '''\n",
        "    \n",
        "#   Turning history into a DataFrame and saving to local drive\n",
        "    history_df = pd.DataFrame(hist.history)\n",
        "    name = label.replace(' ', '')\n",
        "    history_df.to_csv(f'history{name}.csv')\n",
        "    \n",
        "    \n",
        "#   Defining the training and validation variables    \n",
        "    train_loss = history_df['loss']\n",
        "    train_accuracy = history_df['acc']\n",
        "    train_recall = history_df[history_df.columns[2]]\n",
        "    val_loss = history_df['val_loss']\n",
        "    val_accuracy = history_df['val_acc']\n",
        "    val_recall = history_df[history_df.columns[5]]\n",
        "\n",
        "#   Plotting the training vs validation accuracy\n",
        "    plt.plot(train_accuracy, label='Training Accuracy')\n",
        "    plt.plot(val_accuracy, label='Validation Accuracy')\n",
        "    plt.title(f'Accuracy For {label}', fontdict={'fontsize':17})\n",
        "    plt.xlabel('Epoch')\n",
        "    plt.ylabel('Accuracy')\n",
        "    plt.legend()\n",
        "    \n",
        "#   Plotting the training vs validation loss\n",
        "    plt.figure()\n",
        "    plt.plot(train_loss, label='Training Loss')\n",
        "    plt.plot(val_loss, label='Validation Loss')\n",
        "    plt.title(f'Loss For {label}', fontdict={'fontsize':17})\n",
        "    plt.xlabel('Epoch')\n",
        "    plt.ylabel('Loss')\n",
        "    plt.legend()\n",
        "    \n",
        "#   Plotting the training vs validation recall\n",
        "    plt.figure()\n",
        "    plt.plot(train_recall, label='Training Recall')\n",
        "    plt.plot(val_recall, label='Validation Recall')\n",
        "    plt.title(f'Recall For {label}', fontdict={'fontsize':17})\n",
        "    plt.xlabel('Epoch')\n",
        "    plt.ylabel('Recall')\n",
        "    plt.legend()\n",
        "    plt.show()\n",
        "    \n",
        "    return history_df"
      ],
      "metadata": {
        "id": "sjVxwOMAfsmD"
      },
      "execution_count": null,
      "outputs": []
    },
    {
      "cell_type": "code",
      "source": [
        "from sklearn import metrics\n",
        "\n",
        "def classification_report(model, y_true=y_test, Xtest=X_test, label=''):\n",
        "    '''\n",
        "    Creates a classification report for a model and saves model predictions\n",
        "    \n",
        "    Args:\n",
        "        model (classification model): Keras compatable model\n",
        "        y_true (array): Test set labels\n",
        "        Xtest (array): Test set images\n",
        "        label (str): Name of model to be used for titles\n",
        "    \n",
        "    Returns:\n",
        "        Classification report\n",
        "    \n",
        "    Example:\n",
        "        classification_report(model1, label='Base CNN Model')\n",
        "    '''\n",
        "    \n",
        "#   Generating predictions and saving to CSV file\n",
        "    y_hat = model.predict(Xtest).round()\n",
        "    name = label.replace(' ', '')\n",
        "    prediction_df = pd.DataFrame(y_hat)\n",
        "    prediction_df.to_csv(f'{name}Predictions.csv')\n",
        "\n",
        "#   Generating report and printing with nice formating\n",
        "    print('_____'*12)\n",
        "    print(f'CLASSIFICATION REPORT FOR: \\n\\t{label}')\n",
        "    print('_____'*12)     \n",
        "    report = metrics.classification_report(y_true, y_hat, \n",
        "                                        target_names=['normal', 'pneumonia'])\n",
        "    print(report)\n",
        "    print('_____'*12)\n",
        "    \n",
        "    return report"
      ],
      "metadata": {
        "id": "ehWa5FgvfzrR"
      },
      "execution_count": null,
      "outputs": []
    },
    {
      "cell_type": "code",
      "source": [
        "def confusion_matrix(model, y_true=y_test, Xtest=X_test, label=''):\n",
        "    '''\n",
        "    Creates a confusion matrix plot with model predictions\n",
        "    \n",
        "    Args:\n",
        "        model (classification model): Keras compatable model\n",
        "        y_true (array): Test set labels\n",
        "        Xtest (array): Test set images\n",
        "        label (str): Name of model to be used for titles\n",
        "        \n",
        "    Returns:\n",
        "        Predictions from model\n",
        "        \n",
        "    Example:\n",
        "        confusion_matrix(model1, label='Base CNN Model')'''\n",
        "    \n",
        "#   Generate predictions\n",
        "    y_hat = model.predict(Xtest).round()\n",
        "     \n",
        "#   Plot the confusion matrix as a heatmap\n",
        "    ax = sns.heatmap(metrics.confusion_matrix(y_true, y_hat, \n",
        "                                         normalize='true'), \n",
        "                                         cmap='Greens', annot=True, \n",
        "                                        xticklabels=['normal', 'pneumonia'], \n",
        "                                        yticklabels=['normal', 'pneumonia'])\n",
        "    \n",
        "#   Setting labels and title\n",
        "    ax.set_xlabel('Predicted Label', fontdict={'fontsize':13})\n",
        "    ax.set_ylabel('True Label', fontdict={'fontsize':13})\n",
        "    ax.set_title(f'Confusion Matrix For {label}', fontdict={'fontsize':17})\n",
        "    \n",
        "    return y_hat"
      ],
      "metadata": {
        "id": "98zyBTlYf2w6"
      },
      "execution_count": null,
      "outputs": []
    },
    {
      "cell_type": "code",
      "source": [
        "def evaluate_model(model, hist, y_true=y_test, Xtest=X_test, label=''):\n",
        "    '''\n",
        "    Saves model as a file and runs various evaluation functions\n",
        "    \n",
        "    Args:\n",
        "        model (classification model): Keras compatable model\n",
        "        hist (history object): Keras model history object\n",
        "        y_true (array): Test set labels\n",
        "        Xtest (array): Test set images\n",
        "        label (str): Name of model used for titles\n",
        "        \n",
        "    Returns:\n",
        "        Model\n",
        "    \n",
        "    Examples:\n",
        "        evaluate_model(model1, history1, label='Base CNN Model')\n",
        "    '''\n",
        "    \n",
        "#   Saving model as a file to local drive\n",
        "    name = label.replace(' ', '')\n",
        "    model.save(f'{name}.h5')\n",
        "    \n",
        "#   Running model evaluation functions\n",
        "    plot_model_metrics(hist, label=label)\n",
        "    classification_report(model, y_true=y_true, Xtest=Xtest, label=label)\n",
        "    confusion_matrix(model, y_true=y_true, Xtest=Xtest, label=label)\n",
        "    \n",
        "    return model"
      ],
      "metadata": {
        "id": "dmMf_jvlf8Li"
      },
      "execution_count": null,
      "outputs": []
    },
    {
      "cell_type": "markdown",
      "source": [
        "## **Building the Baseline Model**"
      ],
      "metadata": {
        "id": "jEfs_QvGiFzs"
      }
    },
    {
      "cell_type": "markdown",
      "source": [
        "We will start the model with a Rescaling layer, which will\n",
        "rescale image inputs and the model will have four Conv2D and MaxPooling2D\n",
        "stages. This serves both to augment the capacity of the model and to further reduce the\n",
        "size of the feature maps so they aren’t overly large when we reach the Flatten layer. Because we’re looking at a binary-classification problem, we’ll end the model with a\n",
        "single unit (a Dense layer of size 1) and a sigmoid activation. This unit will encode the\n",
        "probability that the model is looking at one class or the other."
      ],
      "metadata": {
        "id": "r_eBpG2iiXt3"
      }
    },
    {
      "cell_type": "code",
      "source": [
        "from tensorflow import keras\n",
        "from tensorflow.keras import layers"
      ],
      "metadata": {
        "id": "rm9jQURUqToc"
      },
      "execution_count": null,
      "outputs": []
    },
    {
      "cell_type": "markdown",
      "source": [
        "Early stopping will save time with modeling as the model will stop fitting once it is not improving anymore. The monitor for the early stopping will be validation loss as there is a class imbalance so accuracy is not as reliable of a metric with this data. A dictionary of the class weights can be passed when fitting the model to try to adjust for class imbalance."
      ],
      "metadata": {
        "id": "YCxVufgOjD2v"
      }
    },
    {
      "cell_type": "code",
      "source": [
        "from keras.callbacks import EarlyStopping\n",
        "\n",
        "# Setting paramaters on early stopping\n",
        "earlystop = EarlyStopping(monitor='val_loss', \n",
        "                          min_delta=0, \n",
        "                          patience=20, \n",
        "                          verbose=1, \n",
        "                          mode='min', \n",
        "                          restore_best_weights=True)"
      ],
      "metadata": {
        "id": "X97AXkLykYhq"
      },
      "execution_count": null,
      "outputs": []
    },
    {
      "cell_type": "code",
      "source": [
        "# Building the model\n",
        "model1 = models.Sequential()\n",
        "model1.add(layers.Conv2D(32, 7, input_shape=(150,150,1), padding='same', \n",
        "                         activation='relu')) \n",
        "#model1.add(layers.MaxPooling2D(2))\n",
        "#model1.add(layers.Conv2D(64, 3, padding='same', activation='relu'))\n",
        "#model1.add(layers.MaxPooling2D(2))\n",
        "model1.add(layers.Flatten())\n",
        "model1.add(layers.Dense(64, activation='relu'))\n",
        "model1.add(layers.Dense(32, activation='relu'))\n",
        "model1.add(layers.Dense(1, activation='sigmoid'))"
      ],
      "metadata": {
        "id": "-6U5DmDSQFo1"
      },
      "execution_count": null,
      "outputs": []
    },
    {
      "cell_type": "markdown",
      "source": [
        "Let’s look at how the dimensions of the feature maps change with every successive\n",
        "layer:"
      ],
      "metadata": {
        "id": "s6qZmx7HGF48"
      }
    },
    {
      "cell_type": "code",
      "source": [
        "model1.compile(optimizer=\"adam\", loss=\"binary_crossentropy\", metrics=['acc', tf.metrics.Recall()])\n"
      ],
      "metadata": {
        "id": "0ZiLZ3Ysw8jz"
      },
      "execution_count": null,
      "outputs": []
    },
    {
      "cell_type": "code",
      "source": [
        "model1.summary()"
      ],
      "metadata": {
        "colab": {
          "base_uri": "https://localhost:8080/"
        },
        "id": "0PDW2U3hopzI",
        "outputId": "ca755164-549b-448c-89d7-fb8c6c8c398e"
      },
      "execution_count": null,
      "outputs": [
        {
          "output_type": "stream",
          "name": "stdout",
          "text": [
            "Model: \"sequential_4\"\n",
            "_________________________________________________________________\n",
            " Layer (type)                Output Shape              Param #   \n",
            "=================================================================\n",
            " conv2d_5 (Conv2D)           (None, 150, 150, 32)      1600      \n",
            "                                                                 \n",
            " flatten_3 (Flatten)         (None, 720000)            0         \n",
            "                                                                 \n",
            " dense_9 (Dense)             (None, 64)                46080064  \n",
            "                                                                 \n",
            " dense_10 (Dense)            (None, 32)                2080      \n",
            "                                                                 \n",
            " dense_11 (Dense)            (None, 1)                 33        \n",
            "                                                                 \n",
            "=================================================================\n",
            "Total params: 46,083,777\n",
            "Trainable params: 46,083,777\n",
            "Non-trainable params: 0\n",
            "_________________________________________________________________\n"
          ]
        }
      ]
    },
    {
      "cell_type": "code",
      "source": [
        "# Fitting the model\n",
        "history1 = model1.fit(train_set, \n",
        "                    validation_data=val_set,\n",
        "                    steps_per_epoch=100, \n",
        "                    epochs=30,\n",
        "                    callbacks=[earlystop]\n",
        "                    )"
      ],
      "metadata": {
        "colab": {
          "base_uri": "https://localhost:8080/"
        },
        "id": "6_OjG31CxZL8",
        "outputId": "01a75c80-6cbc-49df-ad27-3a70c7cea4e1"
      },
      "execution_count": null,
      "outputs": [
        {
          "output_type": "stream",
          "name": "stdout",
          "text": [
            "Epoch 1/30\n",
            "100/100 [==============================] - 123s 1s/step - loss: 0.9496 - acc: 0.8484 - recall_4: 0.9453 - val_loss: 0.2407 - val_acc: 0.9093 - val_recall_4: 0.9637\n",
            "Epoch 2/30\n",
            "100/100 [==============================] - 118s 1s/step - loss: 0.1305 - acc: 0.9541 - recall_4: 0.9739 - val_loss: 0.3019 - val_acc: 0.8851 - val_recall_4: 0.9879\n",
            "Epoch 3/30\n",
            "100/100 [==============================] - 116s 1s/step - loss: 0.1308 - acc: 0.9484 - recall_4: 0.9692 - val_loss: 0.2059 - val_acc: 0.9274 - val_recall_4: 0.9798\n",
            "Epoch 4/30\n",
            "100/100 [==============================] - 114s 1s/step - loss: 0.0714 - acc: 0.9728 - recall_4: 0.9842 - val_loss: 0.1361 - val_acc: 0.9476 - val_recall_4: 0.9677\n",
            "Epoch 5/30\n",
            "100/100 [==============================] - 116s 1s/step - loss: 0.0524 - acc: 0.9828 - recall_4: 0.9883 - val_loss: 0.1624 - val_acc: 0.9476 - val_recall_4: 0.9839\n",
            "Epoch 6/30\n",
            "100/100 [==============================] - 121s 1s/step - loss: 0.0386 - acc: 0.9872 - recall_4: 0.9919 - val_loss: 0.1783 - val_acc: 0.9355 - val_recall_4: 0.9879\n",
            "Epoch 7/30\n",
            "100/100 [==============================] - 116s 1s/step - loss: 0.0328 - acc: 0.9884 - recall_4: 0.9935 - val_loss: 0.1377 - val_acc: 0.9556 - val_recall_4: 0.9677\n",
            "Epoch 8/30\n",
            "100/100 [==============================] - 116s 1s/step - loss: 0.0210 - acc: 0.9947 - recall_4: 0.9963 - val_loss: 0.1439 - val_acc: 0.9556 - val_recall_4: 0.9798\n",
            "Epoch 9/30\n",
            "100/100 [==============================] - 116s 1s/step - loss: 0.0163 - acc: 0.9959 - recall_4: 0.9967 - val_loss: 0.1324 - val_acc: 0.9677 - val_recall_4: 0.9677\n",
            "Epoch 10/30\n",
            "100/100 [==============================] - 113s 1s/step - loss: 0.0158 - acc: 0.9953 - recall_4: 0.9967 - val_loss: 0.1483 - val_acc: 0.9637 - val_recall_4: 0.9556\n",
            "Epoch 11/30\n",
            "100/100 [==============================] - 117s 1s/step - loss: 0.0091 - acc: 0.9972 - recall_4: 0.9976 - val_loss: 0.1471 - val_acc: 0.9637 - val_recall_4: 0.9637\n",
            "Epoch 12/30\n",
            "100/100 [==============================] - 116s 1s/step - loss: 0.0176 - acc: 0.9928 - recall_4: 0.9960 - val_loss: 0.1446 - val_acc: 0.9617 - val_recall_4: 0.9476\n",
            "Epoch 13/30\n",
            "100/100 [==============================] - 115s 1s/step - loss: 0.0147 - acc: 0.9953 - recall_4: 0.9967 - val_loss: 0.1696 - val_acc: 0.9617 - val_recall_4: 0.9758\n",
            "Epoch 14/30\n",
            "100/100 [==============================] - 115s 1s/step - loss: 0.0195 - acc: 0.9925 - recall_4: 0.9956 - val_loss: 0.2001 - val_acc: 0.9577 - val_recall_4: 0.9677\n",
            "Epoch 15/30\n",
            "100/100 [==============================] - 118s 1s/step - loss: 0.0057 - acc: 0.9984 - recall_4: 0.9984 - val_loss: 0.1820 - val_acc: 0.9536 - val_recall_4: 0.9597\n",
            "Epoch 16/30\n",
            "100/100 [==============================] - 116s 1s/step - loss: 0.0037 - acc: 0.9994 - recall_4: 1.0000 - val_loss: 0.2342 - val_acc: 0.9516 - val_recall_4: 0.9597\n",
            "Epoch 17/30\n",
            "100/100 [==============================] - 118s 1s/step - loss: 0.0028 - acc: 0.9991 - recall_4: 0.9992 - val_loss: 0.2442 - val_acc: 0.9536 - val_recall_4: 0.9597\n",
            "Epoch 18/30\n",
            "100/100 [==============================] - 118s 1s/step - loss: 0.0186 - acc: 0.9934 - recall_4: 0.9955 - val_loss: 0.4223 - val_acc: 0.8931 - val_recall_4: 0.9798\n",
            "Epoch 19/30\n",
            "100/100 [==============================] - 116s 1s/step - loss: 0.0245 - acc: 0.9919 - recall_4: 0.9955 - val_loss: 0.2665 - val_acc: 0.9274 - val_recall_4: 0.9718\n",
            "Epoch 20/30\n",
            "100/100 [==============================] - 118s 1s/step - loss: 0.0188 - acc: 0.9934 - recall_4: 0.9955 - val_loss: 0.1741 - val_acc: 0.9577 - val_recall_4: 0.9798\n",
            "Epoch 21/30\n",
            "100/100 [==============================] - 117s 1s/step - loss: 0.0035 - acc: 0.9984 - recall_4: 0.9992 - val_loss: 0.1861 - val_acc: 0.9657 - val_recall_4: 0.9677\n",
            "Epoch 22/30\n",
            "100/100 [==============================] - 117s 1s/step - loss: 0.0282 - acc: 0.9912 - recall_4: 0.9943 - val_loss: 0.2085 - val_acc: 0.9415 - val_recall_4: 0.9677\n",
            "Epoch 23/30\n",
            "100/100 [==============================] - 116s 1s/step - loss: 0.0169 - acc: 0.9937 - recall_4: 0.9976 - val_loss: 0.1646 - val_acc: 0.9597 - val_recall_4: 0.9637\n",
            "Epoch 24/30\n",
            "100/100 [==============================] - 116s 1s/step - loss: 0.1455 - acc: 0.9822 - recall_4: 0.9874 - val_loss: 0.9574 - val_acc: 0.6331 - val_recall_4: 1.0000\n",
            "Epoch 25/30\n",
            "100/100 [==============================] - 117s 1s/step - loss: 0.1549 - acc: 0.9472 - recall_4: 0.9661 - val_loss: 0.1834 - val_acc: 0.9415 - val_recall_4: 0.9395\n",
            "Epoch 26/30\n",
            "100/100 [==============================] - 116s 1s/step - loss: 0.0373 - acc: 0.9875 - recall_4: 0.9923 - val_loss: 0.2576 - val_acc: 0.9234 - val_recall_4: 0.9718\n",
            "Epoch 27/30\n",
            "100/100 [==============================] - 116s 1s/step - loss: 0.0393 - acc: 0.9856 - recall_4: 0.9911 - val_loss: 0.1705 - val_acc: 0.9496 - val_recall_4: 0.9556\n",
            "Epoch 28/30\n",
            "100/100 [==============================] - 116s 1s/step - loss: 0.0293 - acc: 0.9906 - recall_4: 0.9939 - val_loss: 0.3674 - val_acc: 0.9032 - val_recall_4: 0.9839\n",
            "Epoch 29/30\n",
            " 35/100 [=========>....................] - ETA: 1:09 - loss: 0.0548 - acc: 0.9777 - recall_4: 0.9862"
          ]
        }
      ]
    },
    {
      "cell_type": "code",
      "source": [
        "# Running the evaluation function\n",
        "evaluate_model(model=model1, hist=history1, label='Baseline Model')"
      ],
      "metadata": {
        "id": "GV_Jwvx-aBox",
        "colab": {
          "base_uri": "https://localhost:8080/",
          "height": 1000
        },
        "outputId": "565e4bb2-73c3-40ef-b09e-9994ab81909e"
      },
      "execution_count": null,
      "outputs": [
        {
          "output_type": "display_data",
          "data": {
            "image/png": "[encoded data removed]",
            "text/plain": [
              "<Figure size 432x288 with 1 Axes>"
            ]
          },
          "metadata": {
            "needs_background": "light"
          }
        },
        {
          "output_type": "display_data",
          "data": {
            "image/png": "[encoded data removed]",
            "text/plain": [
              "<Figure size 432x288 with 1 Axes>"
            ]
          },
          "metadata": {
            "needs_background": "light"
          }
        },
        {
          "output_type": "display_data",
          "data": {
            "image/png": "[encoded data removed]",
            "text/plain": [
              "<Figure size 432x288 with 1 Axes>"
            ]
          },
          "metadata": {
            "needs_background": "light"
          }
        },
        {
          "output_type": "stream",
          "name": "stdout",
          "text": [
            "____________________________________________________________\n",
            "CLASSIFICATION REPORT FOR: \n",
            "\tBaseline Model\n",
            "____________________________________________________________\n",
            "              precision    recall  f1-score   support\n",
            "\n",
            "      normal       0.67      0.40      0.50         5\n",
            "   pneumonia       0.90      0.96      0.93        27\n",
            "\n",
            "    accuracy                           0.88        32\n",
            "   macro avg       0.78      0.68      0.71        32\n",
            "weighted avg       0.86      0.88      0.86        32\n",
            "\n",
            "____________________________________________________________\n"
          ]
        },
        {
          "output_type": "execute_result",
          "data": {
            "text/plain": [
              "<keras.engine.sequential.Sequential at 0x7fc279933f50>"
            ]
          },
          "metadata": {},
          "execution_count": 44
        },
        {
          "output_type": "display_data",
          "data": {
            "image/png": "[encoded data removed]",
            "text/plain": [
              "<Figure size 432x288 with 2 Axes>"
            ]
          },
          "metadata": {
            "needs_background": "light"
          }
        }
      ]
    },
    {
      "cell_type": "code",
      "source": [
        "model1.evaluate(test_set)"
      ],
      "metadata": {
        "id": "qaguAEuMqdsH",
        "colab": {
          "base_uri": "https://localhost:8080/"
        },
        "outputId": "6e390260-742d-48ed-c129-e2da86bb5ca2"
      },
      "execution_count": null,
      "outputs": [
        {
          "output_type": "stream",
          "name": "stdout",
          "text": [
            "20/20 [==============================] - 9s 446ms/step - loss: 1.8677 - acc: 0.7372 - recall_4: 0.9923\n"
          ]
        },
        {
          "output_type": "execute_result",
          "data": {
            "text/plain": [
              "[1.867653727531433, 0.7371794581413269, 0.9923076629638672]"
            ]
          },
          "metadata": {},
          "execution_count": 47
        }
      ]
    },
    {
      "cell_type": "code",
      "source": [
        ""
      ],
      "metadata": {
        "id": "g_u7OQ6zwjH5"
      },
      "execution_count": null,
      "outputs": []
    },
    {
      "cell_type": "markdown",
      "source": [
        ""
      ],
      "metadata": {
        "id": "iyZzonDcq5bQ"
      }
    },
    {
      "cell_type": "code",
      "source": [
        "model2 = models.Sequential()\n",
        "model2.add(layers.Conv2D(64, 3, strides=2, input_shape=(150,150,1), activation=\"relu\", padding=\"same\"))\n",
        "model2.add(layers.Conv2D(64, 3, activation=\"relu\", padding=\"same\"))\n",
        "model2.add(layers.Conv2D(128, 3, strides=2, activation=\"relu\", padding=\"same\"))\n",
        "model2.add(layers.Conv2D(128, 3, activation=\"relu\", padding=\"same\"))\n",
        "model2.add(layers.Conv2D(256, 3, strides=2, padding=\"same\", activation=\"relu\"))\n",
        "model2.add(layers.Conv2D(256, 3, activation=\"relu\", padding=\"same\"))\n",
        "model2.add(layers.Conv2DTranspose(256, 3, activation=\"relu\", padding=\"same\"))\n",
        "model2.add(layers.Conv2DTranspose(256, 3, activation=\"relu\", padding=\"same\", strides=2))\n",
        "'''model2.add(layers.Conv2DTranspose(128, 3, activation=\"relu\", padding=\"same\"))\n",
        "model2.add(layers.Conv2DTranspose(128, 3, activation=\"relu\", padding=\"same\", strides=2))\n",
        "model2.add(layers.Conv2DTranspose(64, 3, activation=\"relu\", padding=\"same\"))\n",
        "model2.add(layers.Conv2DTranspose(64, 3, activation=\"relu\", padding=\"same\", strides=2))'''\n",
        "model2.add(layers.Conv2D(32, 3, activation=\"softmax\",padding=\"same\"))\n",
        "model2.add(layers.Flatten())\n",
        "model2.add(layers.Dense(64, activation='relu'))\n",
        "model2.add(layers.Dense(32, activation='relu'))\n",
        "model2.add(layers.Dense(1, activation='sigmoid'))\n",
        "\n",
        "model2.summary()"
      ],
      "metadata": {
        "id": "X-xtB6dNwkWo",
        "colab": {
          "base_uri": "https://localhost:8080/"
        },
        "outputId": "7176731e-ff4c-44e4-f728-5c820fa711b8"
      },
      "execution_count": null,
      "outputs": [
        {
          "output_type": "stream",
          "name": "stdout",
          "text": [
            "Model: \"sequential_9\"\n",
            "_________________________________________________________________\n",
            " Layer (type)                Output Shape              Param #   \n",
            "=================================================================\n",
            " conv2d_41 (Conv2D)          (None, 75, 75, 64)        640       \n",
            "                                                                 \n",
            " conv2d_42 (Conv2D)          (None, 75, 75, 64)        36928     \n",
            "                                                                 \n",
            " conv2d_43 (Conv2D)          (None, 38, 38, 128)       73856     \n",
            "                                                                 \n",
            " conv2d_44 (Conv2D)          (None, 38, 38, 128)       147584    \n",
            "                                                                 \n",
            " conv2d_45 (Conv2D)          (None, 19, 19, 256)       295168    \n",
            "                                                                 \n",
            " conv2d_46 (Conv2D)          (None, 19, 19, 256)       590080    \n",
            "                                                                 \n",
            " conv2d_transpose_14 (Conv2D  (None, 19, 19, 256)      590080    \n",
            " Transpose)                                                      \n",
            "                                                                 \n",
            " conv2d_transpose_15 (Conv2D  (None, 38, 38, 256)      590080    \n",
            " Transpose)                                                      \n",
            "                                                                 \n",
            " conv2d_47 (Conv2D)          (None, 38, 38, 32)        73760     \n",
            "                                                                 \n",
            " flatten_5 (Flatten)         (None, 46208)             0         \n",
            "                                                                 \n",
            " dense_15 (Dense)            (None, 64)                2957376   \n",
            "                                                                 \n",
            " dense_16 (Dense)            (None, 32)                2080      \n",
            "                                                                 \n",
            " dense_17 (Dense)            (None, 1)                 33        \n",
            "                                                                 \n",
            "=================================================================\n",
            "Total params: 5,357,665\n",
            "Trainable params: 5,357,665\n",
            "Non-trainable params: 0\n",
            "_________________________________________________________________\n"
          ]
        }
      ]
    },
    {
      "cell_type": "code",
      "source": [
        "model2.compile(optimizer=\"adam\", loss=\"binary_crossentropy\", metrics=['acc', tf.metrics.Recall()])\n"
      ],
      "metadata": {
        "id": "JxUONFPKaKuK"
      },
      "execution_count": null,
      "outputs": []
    },
    {
      "cell_type": "code",
      "source": [
        "# Fitting the model\n",
        "history2 = model2.fit(train_set, \n",
        "                    validation_data=val_set,\n",
        "                    steps_per_epoch=100, \n",
        "                    epochs=30,\n",
        "                    callbacks=[earlystop]\n",
        "                    )"
      ],
      "metadata": {
        "id": "e5kgkr-IaLtk",
        "outputId": "fa24ed1d-3c66-4115-e7b0-2a96a4ccc211",
        "colab": {
          "base_uri": "https://localhost:8080/"
        }
      },
      "execution_count": null,
      "outputs": [
        {
          "output_type": "stream",
          "name": "stdout",
          "text": [
            "Epoch 1/30\n",
            "100/100 [==============================] - 655s 7s/step - loss: 0.5625 - acc: 0.7663 - recall_11: 0.9903 - val_loss: 0.8288 - val_acc: 0.5000 - val_recall_11: 1.0000\n",
            "Epoch 2/30\n",
            "100/100 [==============================] - 649s 6s/step - loss: 0.5559 - acc: 0.7716 - recall_11: 1.0000 - val_loss: 0.7894 - val_acc: 0.5000 - val_recall_11: 1.0000\n",
            "Epoch 3/30\n",
            "100/100 [==============================] - 638s 6s/step - loss: 0.5545 - acc: 0.7644 - recall_11: 1.0000 - val_loss: 0.8104 - val_acc: 0.5000 - val_recall_11: 1.0000\n",
            "Epoch 4/30\n",
            "100/100 [==============================] - 639s 6s/step - loss: 0.5434 - acc: 0.7694 - recall_11: 1.0000 - val_loss: 0.9038 - val_acc: 0.5000 - val_recall_11: 1.0000\n",
            "Epoch 5/30\n",
            "100/100 [==============================] - 650s 6s/step - loss: 0.5489 - acc: 0.7650 - recall_11: 1.0000 - val_loss: 0.8415 - val_acc: 0.5000 - val_recall_11: 1.0000\n",
            "Epoch 6/30\n",
            "100/100 [==============================] - 646s 6s/step - loss: 0.5529 - acc: 0.7656 - recall_11: 1.0000 - val_loss: 0.8144 - val_acc: 0.5000 - val_recall_11: 1.0000\n",
            "Epoch 7/30\n",
            "100/100 [==============================] - 650s 6s/step - loss: 0.5671 - acc: 0.7547 - recall_11: 1.0000 - val_loss: 0.8912 - val_acc: 0.5000 - val_recall_11: 1.0000\n",
            "Epoch 8/30\n",
            "100/100 [==============================] - 647s 6s/step - loss: 0.5569 - acc: 0.7603 - recall_11: 1.0000 - val_loss: 0.8438 - val_acc: 0.5000 - val_recall_11: 1.0000\n",
            "Epoch 9/30\n",
            "100/100 [==============================] - 642s 6s/step - loss: 0.5405 - acc: 0.7722 - recall_11: 1.0000 - val_loss: 0.8124 - val_acc: 0.5000 - val_recall_11: 1.0000\n",
            "Epoch 10/30\n",
            "100/100 [==============================] - 641s 6s/step - loss: 0.5376 - acc: 0.7769 - recall_11: 1.0000 - val_loss: 0.8510 - val_acc: 0.5000 - val_recall_11: 1.0000\n",
            "Epoch 11/30\n",
            "100/100 [==============================] - 643s 6s/step - loss: 0.5525 - acc: 0.7638 - recall_11: 1.0000 - val_loss: 0.8936 - val_acc: 0.5000 - val_recall_11: 1.0000\n",
            "Epoch 12/30\n",
            "100/100 [==============================] - 648s 6s/step - loss: 0.5418 - acc: 0.7706 - recall_11: 1.0000 - val_loss: 0.8379 - val_acc: 0.5000 - val_recall_11: 1.0000\n",
            "Epoch 13/30\n",
            "100/100 [==============================] - 644s 6s/step - loss: 0.5489 - acc: 0.7650 - recall_11: 1.0000 - val_loss: 0.9067 - val_acc: 0.5000 - val_recall_11: 1.0000\n",
            "Epoch 14/30\n",
            "100/100 [==============================] - 642s 6s/step - loss: 0.5360 - acc: 0.7756 - recall_11: 1.0000 - val_loss: 0.8435 - val_acc: 0.5000 - val_recall_11: 1.0000\n",
            "Epoch 15/30\n",
            "100/100 [==============================] - 642s 6s/step - loss: 0.5490 - acc: 0.7625 - recall_11: 1.0000 - val_loss: 0.8702 - val_acc: 0.5000 - val_recall_11: 1.0000\n",
            "Epoch 16/30\n",
            "100/100 [==============================] - 640s 6s/step - loss: 0.5441 - acc: 0.7688 - recall_11: 1.0000 - val_loss: 0.8980 - val_acc: 0.5000 - val_recall_11: 1.0000\n",
            "Epoch 17/30\n",
            "100/100 [==============================] - 635s 6s/step - loss: 0.5394 - acc: 0.7725 - recall_11: 1.0000 - val_loss: 0.9681 - val_acc: 0.5000 - val_recall_11: 1.0000\n",
            "Epoch 18/30\n",
            " 77/100 [======================>.......] - ETA: 2:19 - loss: 0.5474 - acc: 0.7675 - recall_11: 1.0000"
          ]
        }
      ]
    },
    {
      "cell_type": "code",
      "source": [
        "evaluate_model(model=model1, hist=history2, label='Second Model')"
      ],
      "metadata": {
        "id": "0yNeHlB-ceI5",
        "colab": {
          "base_uri": "https://localhost:8080/",
          "height": 168
        },
        "outputId": "9bec777b-83e4-4af6-9861-c5827bee8e67"
      },
      "execution_count": 1,
      "outputs": [
        {
          "output_type": "error",
          "ename": "NameError",
          "evalue": "ignored",
          "traceback": [
            "\u001b[0;31m---------------------------------------------------------------------------\u001b[0m",
            "\u001b[0;31mNameError\u001b[0m                                 Traceback (most recent call last)",
            "\u001b[0;32m<ipython-input-1-e767c5e6d0d8>\u001b[0m in \u001b[0;36m<module>\u001b[0;34m()\u001b[0m\n\u001b[0;32m----> 1\u001b[0;31m \u001b[0mevaluate_model\u001b[0m\u001b[0;34m(\u001b[0m\u001b[0mmodel\u001b[0m\u001b[0;34m=\u001b[0m\u001b[0mmodel1\u001b[0m\u001b[0;34m,\u001b[0m \u001b[0mhist\u001b[0m\u001b[0;34m=\u001b[0m\u001b[0mhistory2\u001b[0m\u001b[0;34m,\u001b[0m \u001b[0mlabel\u001b[0m\u001b[0;34m=\u001b[0m\u001b[0;34m'Second Model'\u001b[0m\u001b[0;34m)\u001b[0m\u001b[0;34m\u001b[0m\u001b[0;34m\u001b[0m\u001b[0m\n\u001b[0m",
            "\u001b[0;31mNameError\u001b[0m: name 'evaluate_model' is not defined"
          ]
        }
      ]
    },
    {
      "cell_type": "code",
      "source": [
        "model2.evaluate(test_set)"
      ],
      "metadata": {
        "id": "-Z-saYk-eT_k",
        "colab": {
          "base_uri": "https://localhost:8080/",
          "height": 168
        },
        "outputId": "06266437-6b07-4936-f160-80de0ce7af7e"
      },
      "execution_count": 2,
      "outputs": [
        {
          "output_type": "error",
          "ename": "NameError",
          "evalue": "ignored",
          "traceback": [
            "\u001b[0;31m---------------------------------------------------------------------------\u001b[0m",
            "\u001b[0;31mNameError\u001b[0m                                 Traceback (most recent call last)",
            "\u001b[0;32m<ipython-input-2-96f8b7ec945f>\u001b[0m in \u001b[0;36m<module>\u001b[0;34m()\u001b[0m\n\u001b[0;32m----> 1\u001b[0;31m \u001b[0mmodel2\u001b[0m\u001b[0;34m.\u001b[0m\u001b[0mevaluate\u001b[0m\u001b[0;34m(\u001b[0m\u001b[0mtest_set\u001b[0m\u001b[0;34m)\u001b[0m\u001b[0;34m\u001b[0m\u001b[0;34m\u001b[0m\u001b[0m\n\u001b[0m",
            "\u001b[0;31mNameError\u001b[0m: name 'model2' is not defined"
          ]
        }
      ]
    },
    {
      "cell_type": "code",
      "source": [
        "from sklearn.utils.class_weight import compute_class_weight\n",
        "\n",
        "# Calculating the class weights\n",
        "weights = compute_class_weight('balanced', np.unique(training_set.labels), \n",
        "                               train_set.labels)\n",
        "weights"
      ],
      "metadata": {
        "id": "OI52jcQ2L5bx"
      },
      "execution_count": null,
      "outputs": []
    },
    {
      "cell_type": "code",
      "source": [
        "# Zipping the class weights into a dictionary\n",
        "weights = dict(zip(np.unique(train_set.labels), weights))\n",
        "weights"
      ],
      "metadata": {
        "id": "jd-orxqtZ3rc"
      },
      "execution_count": null,
      "outputs": []
    },
    {
      "cell_type": "code",
      "source": [
        "# Building the model\n",
        "model3 = models.Sequential()\n",
        "model3.add(layers.Conv2D(32, 7, input_shape=(150,150,1), padding='same', \n",
        "                         activation='relu')) \n",
        "model3.add(layers.MaxPooling2D(2))\n",
        "model3.add(layers.Conv2D(64, 3, padding='same', activation='relu'))\n",
        "model3.add(layers.MaxPooling2D(2))\n",
        "model3.add(layers.Flatten())\n",
        "model3.add(layers.Dense(64, activation='relu'))\n",
        "model3.add(layers.Dense(32, activation='relu'))\n",
        "model3.add(layers.Dense(1, activation='sigmoid'))"
      ],
      "metadata": {
        "id": "yRU-ZMKUaHUD"
      },
      "execution_count": null,
      "outputs": []
    },
    {
      "cell_type": "code",
      "source": [
        "# Compiling the model and looking at the summary\n",
        "model3.compile(loss='binary_crossentropy', \n",
        "              optimizer='adam', \n",
        "              metrics=['accuracy', tf.metrics.Recall()])\n",
        "model3.summary()"
      ],
      "metadata": {
        "id": "oXx4YfyvaPub"
      },
      "execution_count": null,
      "outputs": []
    },
    {
      "cell_type": "code",
      "source": [
        "# Fitting the model\n",
        "history3 = model3.fit(train_set, \n",
        "                    validation_data=val_set,\n",
        "                    steps_per_epoch=100, \n",
        "                    epochs=30,\n",
        "                    class_weight=weights,\n",
        "                    callbacks=[earlystop]\n",
        "                    )"
      ],
      "metadata": {
        "id": "XE3BStTsaU8F"
      },
      "execution_count": null,
      "outputs": []
    },
    {
      "cell_type": "code",
      "source": [
        "# Running the evaluation function\n",
        "evaluate_model(model=model3, hist=history3, label='Class Weights Model')"
      ],
      "metadata": {
        "id": "l-UjyqXHce70"
      },
      "execution_count": null,
      "outputs": []
    },
    {
      "cell_type": "code",
      "source": [
        "model3.evaluate(test_set)"
      ],
      "metadata": {
        "id": "wu-WdS8jcfSO"
      },
      "execution_count": null,
      "outputs": []
    }
  ]
}