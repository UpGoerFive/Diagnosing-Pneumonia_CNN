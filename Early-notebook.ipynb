{
 "cells": [
  {
   "cell_type": "code",
   "execution_count": 1,
   "metadata": {},
   "outputs": [],
   "source": [
    "import numpy as np\n",
    "import pandas as pd\n",
    "import matplotlib.pyplot as plt\n",
    "\n",
    "import tensorflow as tf\n",
    "from tensorflow.keras import datasets, layers, models\n",
    "from tensorflow.keras.preprocessing.image import ImageDataGenerator, array_to_img, img_to_array, load_img"
   ]
  },
  {
   "cell_type": "code",
   "execution_count": 2,
   "metadata": {},
   "outputs": [
    {
     "name": "stdout",
     "output_type": "stream",
     "text": [
      "1 Physical GPUs, 1 Logical GPUs\n"
     ]
    }
   ],
   "source": [
    "gpus = tf.config.list_physical_devices('GPU')\n",
    "if gpus:\n",
    "  try:\n",
    "    # Currently, memory growth needs to be the same across GPUs\n",
    "    for gpu in gpus:\n",
    "      tf.config.experimental.set_memory_growth(gpu, True)\n",
    "    logical_gpus = tf.config.list_logical_devices('GPU')\n",
    "    print(len(gpus), \"Physical GPUs,\", len(logical_gpus), \"Logical GPUs\")\n",
    "  except RuntimeError as e:\n",
    "    # Memory growth must be set before GPUs have been initialized\n",
    "    print(e)"
   ]
  },
  {
   "cell_type": "markdown",
   "metadata": {},
   "source": [
    "# Get train, test, and val paths of images\n",
    "This code relies on the notebook being started from a bash shell"
   ]
  },
  {
   "cell_type": "code",
   "execution_count": 3,
   "metadata": {},
   "outputs": [],
   "source": [
    "train_viral = !find 'data/chest_xray/train/PNEUMONIA/' -regex '.*virus.*'\n",
    "train_bacterial = !find 'data/chest_xray/train/PNEUMONIA/' -regex '.*bacteria.*'\n",
    "train_normal = !ls 'data/chest_xray/train/NORMAL'\n",
    "train_normal = ['data/chest_xray/train/NORMAL/' + file for file in train_normal]\n",
    "\n",
    "test_viral = !find 'data/chest_xray/test/PNEUMONIA/' -regex '.*virus.*'\n",
    "test_bacterial = !find 'data/chest_xray/test/PNEUMONIA/' -regex '.*bacteria.*'\n",
    "test_normal = !ls 'data/chest_xray/test/NORMAL'\n",
    "test_normal = ['data/chest_xray/test/NORMAL/' + file for file in test_normal]\n",
    "\n",
    "val_viral = !find 'data/chest_xray/val/PNEUMONIA/' -regex '.*virus.*'\n",
    "val_bacterial = !find 'data/chest_xray/val/PNEUMONIA/' -regex '.*bacteria.*'\n",
    "val_normal = !ls 'data/chest_xray/val/NORMAL'\n",
    "val_normal = ['data/chest_xray/val/NORMAL/' + file for file in val_normal]"
   ]
  },
  {
   "cell_type": "markdown",
   "metadata": {},
   "source": [
    "Code from Grace's EDA notebook"
   ]
  },
  {
   "cell_type": "code",
   "execution_count": 4,
   "metadata": {},
   "outputs": [
    {
     "name": "stdout",
     "output_type": "stream",
     "text": [
      "Found 5216 images belonging to 2 classes.\n",
      "Found 16 images belonging to 2 classes.\n",
      "Found 624 images belonging to 2 classes.\n"
     ]
    }
   ],
   "source": [
    "# Creating an datagenerator object that will perform image augmentation\n",
    "train_datagen = ImageDataGenerator(rescale=1./255,\n",
    "                                   rotation_range=90,\n",
    "                                   width_shift_range=.2,\n",
    "                                   height_shift_range=.2,\n",
    "                                   shear_range=.2,\n",
    "                                   zoom_range=.2,\n",
    "                                   horizontal_flip=True,\n",
    "                                   brightness_range=[.5, 1.5])\n",
    "\n",
    "# Datagenerators for the test and validation set will only rescale the images\n",
    "test_datagen = ImageDataGenerator(rescale=1./255)\n",
    "val_datagen = ImageDataGenerator(rescale=1./255)\n",
    "\n",
    "\n",
    "# Applying the datagenerator objects to the images in the folders\n",
    "image_size = (96, 96)\n",
    "training_set = train_datagen.flow_from_directory('data/chest_xray/train',\n",
    "                                                 target_size=image_size,\n",
    "                                                 batch_size=32,\n",
    "                                                 class_mode='binary',\n",
    "                                                 color_mode='grayscale')\n",
    "\n",
    "val_set = val_datagen.flow_from_directory('data/chest_xray/val',\n",
    "                                          target_size=image_size,\n",
    "                                          batch_size=32,\n",
    "                                          class_mode='binary',\n",
    "                                          color_mode='grayscale')\n",
    "\n",
    "test_set = test_datagen.flow_from_directory('data/chest_xray/test',\n",
    "                                            target_size=image_size,\n",
    "                                            batch_size=32,\n",
    "                                            class_mode='binary', \n",
    "                                            color_mode='grayscale')"
   ]
  },
  {
   "cell_type": "code",
   "execution_count": 5,
   "metadata": {},
   "outputs": [],
   "source": [
    "model = models.Sequential()\n",
    "model.add(layers.Conv2D(32, (3, 3), activation='relu',\n",
    "                        input_shape=(96, 96, 1)))\n",
    "model.add(layers.MaxPooling2D((2, 2)))\n",
    "\n",
    "model.add(layers.Conv2D(32, (4, 4), activation='relu'))\n",
    "model.add(layers.MaxPooling2D((2, 2)))\n",
    "\n",
    "model.add(layers.Conv2D(64, (3, 3), activation='relu'))\n",
    "model.add(layers.MaxPooling2D((2, 2)))\n",
    "\n",
    "model.add(layers.Flatten())\n",
    "model.add(layers.Dense(64, activation='relu'))\n",
    "model.add(layers.Dense(1, activation='sigmoid'))\n",
    "\n",
    "model.compile(loss='binary_crossentropy',\n",
    "              optimizer=\"adam\",\n",
    "              metrics=['acc'])"
   ]
  },
  {
   "cell_type": "code",
   "execution_count": 6,
   "metadata": {},
   "outputs": [
    {
     "name": "stdout",
     "output_type": "stream",
     "text": [
      "Model: \"sequential\"\n",
      "_________________________________________________________________\n",
      "Layer (type)                 Output Shape              Param #   \n",
      "=================================================================\n",
      "conv2d (Conv2D)              (None, 94, 94, 32)        320       \n",
      "_________________________________________________________________\n",
      "max_pooling2d (MaxPooling2D) (None, 47, 47, 32)        0         \n",
      "_________________________________________________________________\n",
      "conv2d_1 (Conv2D)            (None, 44, 44, 32)        16416     \n",
      "_________________________________________________________________\n",
      "max_pooling2d_1 (MaxPooling2 (None, 22, 22, 32)        0         \n",
      "_________________________________________________________________\n",
      "conv2d_2 (Conv2D)            (None, 20, 20, 64)        18496     \n",
      "_________________________________________________________________\n",
      "max_pooling2d_2 (MaxPooling2 (None, 10, 10, 64)        0         \n",
      "_________________________________________________________________\n",
      "flatten (Flatten)            (None, 6400)              0         \n",
      "_________________________________________________________________\n",
      "dense (Dense)                (None, 64)                409664    \n",
      "_________________________________________________________________\n",
      "dense_1 (Dense)              (None, 1)                 65        \n",
      "=================================================================\n",
      "Total params: 444,961\n",
      "Trainable params: 444,961\n",
      "Non-trainable params: 0\n",
      "_________________________________________________________________\n"
     ]
    }
   ],
   "source": [
    "model.summary()"
   ]
  },
  {
   "cell_type": "code",
   "execution_count": 7,
   "metadata": {},
   "outputs": [
    {
     "name": "stdout",
     "output_type": "stream",
     "text": [
      "Epoch 1/15\n",
      "163/163 [==============================] - 147s 898ms/step - loss: 0.5370 - acc: 0.7362 - val_loss: 0.6680 - val_acc: 0.4375\n",
      "Epoch 2/15\n",
      "163/163 [==============================] - 119s 726ms/step - loss: 0.4795 - acc: 0.7402 - val_loss: 0.7004 - val_acc: 0.5000\n",
      "Epoch 3/15\n",
      "163/163 [==============================] - 92s 563ms/step - loss: 0.4626 - acc: 0.7427 - val_loss: 0.6437 - val_acc: 0.5000\n",
      "Epoch 4/15\n",
      "163/163 [==============================] - 92s 565ms/step - loss: 0.4573 - acc: 0.7475 - val_loss: 1.0161 - val_acc: 0.5000\n",
      "Epoch 5/15\n",
      "163/163 [==============================] - 93s 571ms/step - loss: 0.4286 - acc: 0.7812 - val_loss: 0.6127 - val_acc: 0.6250\n",
      "Epoch 6/15\n",
      "163/163 [==============================] - 94s 573ms/step - loss: 0.3586 - acc: 0.8307 - val_loss: 0.6047 - val_acc: 0.6875\n",
      "Epoch 7/15\n",
      "163/163 [==============================] - 92s 564ms/step - loss: 0.3402 - acc: 0.8485 - val_loss: 0.8408 - val_acc: 0.7500\n",
      "Epoch 8/15\n",
      "163/163 [==============================] - 93s 566ms/step - loss: 0.3274 - acc: 0.8558 - val_loss: 0.6076 - val_acc: 0.8125\n",
      "Epoch 9/15\n",
      "163/163 [==============================] - 95s 579ms/step - loss: 0.2921 - acc: 0.8714 - val_loss: 0.9418 - val_acc: 0.7500\n",
      "Epoch 10/15\n",
      "163/163 [==============================] - 92s 564ms/step - loss: 0.2891 - acc: 0.8752 - val_loss: 0.8633 - val_acc: 0.8125\n",
      "Epoch 11/15\n",
      "163/163 [==============================] - 92s 565ms/step - loss: 0.2837 - acc: 0.8752 - val_loss: 0.6145 - val_acc: 0.7500\n",
      "Epoch 12/15\n",
      "163/163 [==============================] - 95s 580ms/step - loss: 0.2735 - acc: 0.8817 - val_loss: 0.5273 - val_acc: 0.8125\n",
      "Epoch 13/15\n",
      "163/163 [==============================] - 92s 564ms/step - loss: 0.2739 - acc: 0.8800 - val_loss: 0.5008 - val_acc: 0.8750\n",
      "Epoch 14/15\n",
      "163/163 [==============================] - 92s 564ms/step - loss: 0.2661 - acc: 0.8850 - val_loss: 0.9859 - val_acc: 0.7500\n",
      "Epoch 15/15\n",
      "163/163 [==============================] - 92s 562ms/step - loss: 0.2520 - acc: 0.8961 - val_loss: 0.5198 - val_acc: 0.8125\n"
     ]
    }
   ],
   "source": [
    "tf.debugging.set_log_device_placement(True)\n",
    "\n",
    "with tf.device('/CPU:0'):\n",
    "    results = model.fit(training_set, batch_size=32, validation_data=val_set, epochs=15)"
   ]
  },
  {
   "cell_type": "code",
   "execution_count": 8,
   "metadata": {},
   "outputs": [],
   "source": [
    "second_model = models.Sequential()\n",
    "second_model.add(layers.Conv2D(32, (3, 3), activation='relu',\n",
    "                        input_shape=(96, 96, 1)))\n",
    "second_model.add(layers.MaxPooling2D((2, 2)))\n",
    "\n",
    "second_model.add(layers.Conv2D(32, (4, 4), activation='relu'))\n",
    "second_model.add(layers.MaxPooling2D((2, 2)))\n",
    "\n",
    "second_model.add(layers.Conv2D(64, (3, 3), activation='relu'))\n",
    "second_model.add(layers.MaxPooling2D((2, 2)))\n",
    "\n",
    "second_model.add(layers.Flatten())\n",
    "second_model.add(layers.Dense(64, activation='relu'))\n",
    "second_model.add(layers.Dense(64, activation='relu'))\n",
    "second_model.add(layers.Dense(1, activation='sigmoid'))\n",
    "\n",
    "second_model.compile(loss='binary_crossentropy',\n",
    "              optimizer=\"adam\",\n",
    "              metrics=['acc'])"
   ]
  },
  {
   "cell_type": "code",
   "execution_count": 9,
   "metadata": {},
   "outputs": [
    {
     "name": "stdout",
     "output_type": "stream",
     "text": [
      "[PhysicalDevice(name='/physical_device:CPU:0', device_type='CPU'), PhysicalDevice(name='/physical_device:GPU:0', device_type='GPU')]\n"
     ]
    }
   ],
   "source": [
    "print(tf.config.list_physical_devices())\n"
   ]
  },
  {
   "cell_type": "code",
   "execution_count": 10,
   "metadata": {},
   "outputs": [
    {
     "name": "stdout",
     "output_type": "stream",
     "text": [
      "Epoch 1/15\n",
      "163/163 [==============================] - 180s 986ms/step - loss: 0.5447 - acc: 0.7429 - val_loss: 1.1671 - val_acc: 0.5000\n",
      "Epoch 2/15\n",
      "163/163 [==============================] - 106s 650ms/step - loss: 0.4910 - acc: 0.7345 - val_loss: 0.7562 - val_acc: 0.5000\n",
      "Epoch 3/15\n",
      "163/163 [==============================] - 93s 571ms/step - loss: 0.4638 - acc: 0.7412 - val_loss: 0.9281 - val_acc: 0.4375\n",
      "Epoch 4/15\n",
      "163/163 [==============================] - 89s 547ms/step - loss: 0.4546 - acc: 0.7502 - val_loss: 0.7560 - val_acc: 0.5625\n",
      "Epoch 5/15\n",
      "163/163 [==============================] - 87s 536ms/step - loss: 0.4626 - acc: 0.7477 - val_loss: 0.7386 - val_acc: 0.4375\n",
      "Epoch 6/15\n",
      "163/163 [==============================] - 78s 478ms/step - loss: 0.4414 - acc: 0.7678 - val_loss: 0.7477 - val_acc: 0.5000\n",
      "Epoch 7/15\n",
      "163/163 [==============================] - 77s 470ms/step - loss: 0.4171 - acc: 0.7937 - val_loss: 0.6697 - val_acc: 0.7500\n",
      "Epoch 8/15\n",
      "163/163 [==============================] - 77s 470ms/step - loss: 0.3718 - acc: 0.8313 - val_loss: 0.7485 - val_acc: 0.7500\n",
      "Epoch 9/15\n",
      "163/163 [==============================] - 76s 467ms/step - loss: 0.3572 - acc: 0.8411 - val_loss: 0.5914 - val_acc: 0.6875\n",
      "Epoch 10/15\n",
      "163/163 [==============================] - 77s 470ms/step - loss: 0.3216 - acc: 0.8562 - val_loss: 0.4997 - val_acc: 0.7500\n",
      "Epoch 11/15\n",
      "163/163 [==============================] - 77s 471ms/step - loss: 0.3103 - acc: 0.8622 - val_loss: 0.7290 - val_acc: 0.7500\n",
      "Epoch 12/15\n",
      "163/163 [==============================] - 77s 469ms/step - loss: 0.2907 - acc: 0.8738 - val_loss: 0.6894 - val_acc: 0.6875\n",
      "Epoch 13/15\n",
      "163/163 [==============================] - 76s 467ms/step - loss: 0.2789 - acc: 0.8779 - val_loss: 0.3899 - val_acc: 0.8750\n",
      "Epoch 14/15\n",
      "163/163 [==============================] - 77s 472ms/step - loss: 0.2709 - acc: 0.8819 - val_loss: 0.5377 - val_acc: 0.7500\n",
      "Epoch 15/15\n",
      "163/163 [==============================] - 80s 489ms/step - loss: 0.2718 - acc: 0.8815 - val_loss: 0.7673 - val_acc: 0.6250\n"
     ]
    }
   ],
   "source": [
    "with tf.device('/GPU:0'):\n",
    "    results = second_model.fit(training_set, batch_size=32, validation_data=val_set, epochs=15)"
   ]
  },
  {
   "cell_type": "code",
   "execution_count": null,
   "metadata": {},
   "outputs": [],
   "source": []
  }
 ],
 "metadata": {
  "interpreter": {
   "hash": "3760e2ce6c52a35ff326483b98f65cfd635d5a7ca3438db90c46a89913356f86"
  },
  "kernelspec": {
   "display_name": "Python 3.8.5 ('learn-env')",
   "language": "python",
   "name": "python3"
  },
  "language_info": {
   "codemirror_mode": {
    "name": "ipython",
    "version": 3
   },
   "file_extension": ".py",
   "mimetype": "text/x-python",
   "name": "python",
   "nbconvert_exporter": "python",
   "pygments_lexer": "ipython3",
   "version": "3.8.5"
  },
  "orig_nbformat": 4
 },
 "nbformat": 4,
 "nbformat_minor": 2
}
