{
 "cells": [
  {
   "cell_type": "code",
   "execution_count": 1,
   "metadata": {},
   "outputs": [],
   "source": [
    "import numpy as np\n",
    "import pandas as pd\n",
    "import matplotlib.pyplot as plt\n",
    "\n",
    "import tensorflow as tf\n",
    "from tensorflow.keras import datasets, layers, models\n",
    "from tensorflow.keras.preprocessing.image import ImageDataGenerator, array_to_img, img_to_array, load_img"
   ]
  },
  {
   "cell_type": "markdown",
   "metadata": {},
   "source": [
    "# Get train, test, and val paths of images\n",
    "This code relies on the notebook being started from a bash shell"
   ]
  },
  {
   "cell_type": "code",
   "execution_count": 2,
   "metadata": {},
   "outputs": [],
   "source": [
    "train_viral = !find 'data/chest_xray/train/PNEUMONIA/' -regex '.*virus.*'\n",
    "train_bacterial = !find 'data/chest_xray/train/PNEUMONIA/' -regex '.*bacteria.*'\n",
    "train_normal = !ls 'data/chest_xray/train/NORMAL'\n",
    "train_normal = ['data/chest_xray/train/NORMAL/' + file for file in train_normal]\n",
    "\n",
    "test_viral = !find 'data/chest_xray/test/PNEUMONIA/' -regex '.*virus.*'\n",
    "test_bacterial = !find 'data/chest_xray/test/PNEUMONIA/' -regex '.*bacteria.*'\n",
    "test_normal = !ls 'data/chest_xray/test/NORMAL'\n",
    "test_normal = ['data/chest_xray/test/NORMAL/' + file for file in test_normal]\n",
    "\n",
    "val_viral = !find 'data/chest_xray/val/PNEUMONIA/' -regex '.*virus.*'\n",
    "val_bacterial = !find 'data/chest_xray/val/PNEUMONIA/' -regex '.*bacteria.*'\n",
    "val_normal = !ls 'data/chest_xray/val/NORMAL'\n",
    "val_normal = ['data/chest_xray/val/NORMAL/' + file for file in val_normal]"
   ]
  },
  {
   "cell_type": "markdown",
   "metadata": {},
   "source": [
    "Code from Grace's EDA notebook"
   ]
  },
  {
   "cell_type": "code",
   "execution_count": 7,
   "metadata": {},
   "outputs": [
    {
     "name": "stdout",
     "output_type": "stream",
     "text": [
      "Found 5216 images belonging to 2 classes.\n",
      "Found 16 images belonging to 2 classes.\n",
      "Found 624 images belonging to 2 classes.\n"
     ]
    }
   ],
   "source": [
    "# Creating an datagenerator object that will perform image augmentation\n",
    "train_datagen = ImageDataGenerator(rescale=1./255,\n",
    "                                   rotation_range=90,\n",
    "                                   width_shift_range=.2,\n",
    "                                   height_shift_range=.2,\n",
    "                                   shear_range=.2,\n",
    "                                   zoom_range=.2,\n",
    "                                   horizontal_flip=True,\n",
    "                                   brightness_range=[.5, 1.5])\n",
    "\n",
    "# Datagenerators for the test and validation set will only rescale the images\n",
    "test_datagen = ImageDataGenerator(rescale=1./255)\n",
    "val_datagen = ImageDataGenerator(rescale=1./255)\n",
    "\n",
    "\n",
    "# Applying the datagenerator objects to the images in the folders\n",
    "image_size = (96, 96)\n",
    "training_set = train_datagen.flow_from_directory('data/chest_xray/train',\n",
    "                                                 target_size=image_size,\n",
    "                                                 batch_size=32,\n",
    "                                                 class_mode='binary',\n",
    "                                                 color_mode='grayscale')\n",
    "\n",
    "val_set = val_datagen.flow_from_directory('data/chest_xray/val',\n",
    "                                          target_size=image_size,\n",
    "                                          batch_size=32,\n",
    "                                          class_mode='binary',\n",
    "                                          color_mode='grayscale')\n",
    "\n",
    "test_set = test_datagen.flow_from_directory('data/chest_xray/test',\n",
    "                                            target_size=image_size,\n",
    "                                            batch_size=32,\n",
    "                                            class_mode='binary', \n",
    "                                            color_mode='grayscale')"
   ]
  },
  {
   "cell_type": "code",
   "execution_count": 4,
   "metadata": {},
   "outputs": [],
   "source": [
    "model = models.Sequential()\n",
    "model.add(layers.Conv2D(32, (3, 3), activation='relu',\n",
    "                        input_shape=(96, 96, 1)))\n",
    "model.add(layers.MaxPooling2D((2, 2)))\n",
    "\n",
    "model.add(layers.Conv2D(32, (4, 4), activation='relu'))\n",
    "model.add(layers.MaxPooling2D((2, 2)))\n",
    "\n",
    "model.add(layers.Conv2D(64, (3, 3), activation='relu'))\n",
    "model.add(layers.MaxPooling2D((2, 2)))\n",
    "\n",
    "model.add(layers.Flatten())\n",
    "model.add(layers.Dense(64, activation='relu'))\n",
    "model.add(layers.Dense(1, activation='sigmoid'))\n",
    "\n",
    "model.compile(loss='binary_crossentropy',\n",
    "              optimizer=\"adam\",\n",
    "              metrics=['acc'])"
   ]
  },
  {
   "cell_type": "code",
   "execution_count": 5,
   "metadata": {},
   "outputs": [
    {
     "name": "stdout",
     "output_type": "stream",
     "text": [
      "Model: \"sequential\"\n",
      "_________________________________________________________________\n",
      "Layer (type)                 Output Shape              Param #   \n",
      "=================================================================\n",
      "conv2d (Conv2D)              (None, 94, 94, 32)        320       \n",
      "_________________________________________________________________\n",
      "max_pooling2d (MaxPooling2D) (None, 47, 47, 32)        0         \n",
      "_________________________________________________________________\n",
      "conv2d_1 (Conv2D)            (None, 44, 44, 32)        16416     \n",
      "_________________________________________________________________\n",
      "max_pooling2d_1 (MaxPooling2 (None, 22, 22, 32)        0         \n",
      "_________________________________________________________________\n",
      "conv2d_2 (Conv2D)            (None, 20, 20, 64)        18496     \n",
      "_________________________________________________________________\n",
      "max_pooling2d_2 (MaxPooling2 (None, 10, 10, 64)        0         \n",
      "_________________________________________________________________\n",
      "flatten (Flatten)            (None, 6400)              0         \n",
      "_________________________________________________________________\n",
      "dense (Dense)                (None, 64)                409664    \n",
      "_________________________________________________________________\n",
      "dense_1 (Dense)              (None, 1)                 65        \n",
      "=================================================================\n",
      "Total params: 444,961\n",
      "Trainable params: 444,961\n",
      "Non-trainable params: 0\n",
      "_________________________________________________________________\n"
     ]
    }
   ],
   "source": [
    "model.summary()"
   ]
  },
  {
   "cell_type": "code",
   "execution_count": 9,
   "metadata": {},
   "outputs": [
    {
     "name": "stdout",
     "output_type": "stream",
     "text": [
      "Epoch 1/15\n",
      "163/163 [==============================] - 146s 898ms/step - loss: 0.5041 - acc: 0.7398 - val_loss: 0.8643 - val_acc: 0.5000\n",
      "Epoch 2/15\n",
      "163/163 [==============================] - 109s 671ms/step - loss: 0.4681 - acc: 0.7427 - val_loss: 0.7270 - val_acc: 0.5000\n",
      "Epoch 3/15\n",
      "163/163 [==============================] - 101s 617ms/step - loss: 0.4501 - acc: 0.7636 - val_loss: 0.7117 - val_acc: 0.5625\n",
      "Epoch 4/15\n",
      "163/163 [==============================] - 97s 596ms/step - loss: 0.4262 - acc: 0.7905 - val_loss: 0.7012 - val_acc: 0.8125\n",
      "Epoch 5/15\n",
      "163/163 [==============================] - 104s 637ms/step - loss: 0.3909 - acc: 0.8194 - val_loss: 0.6520 - val_acc: 0.8125\n",
      "Epoch 6/15\n",
      "163/163 [==============================] - 93s 568ms/step - loss: 0.3441 - acc: 0.8497 - val_loss: 0.5233 - val_acc: 0.8125\n",
      "Epoch 7/15\n",
      "163/163 [==============================] - 92s 565ms/step - loss: 0.3287 - acc: 0.8560 - val_loss: 0.7220 - val_acc: 0.7500\n",
      "Epoch 8/15\n",
      "163/163 [==============================] - 93s 570ms/step - loss: 0.3068 - acc: 0.8656 - val_loss: 0.6679 - val_acc: 0.7500\n",
      "Epoch 9/15\n",
      "163/163 [==============================] - 92s 566ms/step - loss: 0.2963 - acc: 0.8721 - val_loss: 0.6006 - val_acc: 0.7500\n",
      "Epoch 10/15\n",
      "163/163 [==============================] - 93s 568ms/step - loss: 0.2704 - acc: 0.8884 - val_loss: 0.5958 - val_acc: 0.7500\n",
      "Epoch 11/15\n",
      "163/163 [==============================] - 95s 583ms/step - loss: 0.2796 - acc: 0.8823 - val_loss: 0.5808 - val_acc: 0.8125\n",
      "Epoch 12/15\n",
      "163/163 [==============================] - 99s 608ms/step - loss: 0.2714 - acc: 0.8882 - val_loss: 0.5039 - val_acc: 0.8750\n",
      "Epoch 13/15\n",
      "163/163 [==============================] - 94s 575ms/step - loss: 0.2744 - acc: 0.8781 - val_loss: 0.5569 - val_acc: 0.7500\n",
      "Epoch 14/15\n",
      "163/163 [==============================] - 92s 567ms/step - loss: 0.2548 - acc: 0.8913 - val_loss: 0.5725 - val_acc: 0.7500\n",
      "Epoch 15/15\n",
      "163/163 [==============================] - 93s 572ms/step - loss: 0.2543 - acc: 0.8942 - val_loss: 1.2236 - val_acc: 0.7500\n"
     ]
    }
   ],
   "source": [
    "results = model.fit(training_set, batch_size=32, validation_data=val_set, epochs=15)"
   ]
  },
  {
   "cell_type": "code",
   "execution_count": null,
   "metadata": {},
   "outputs": [],
   "source": []
  }
 ],
 "metadata": {
  "interpreter": {
   "hash": "3760e2ce6c52a35ff326483b98f65cfd635d5a7ca3438db90c46a89913356f86"
  },
  "kernelspec": {
   "display_name": "Python 3.8.5 ('learn-env')",
   "language": "python",
   "name": "python3"
  },
  "language_info": {
   "codemirror_mode": {
    "name": "ipython",
    "version": 3
   },
   "file_extension": ".py",
   "mimetype": "text/x-python",
   "name": "python",
   "nbconvert_exporter": "python",
   "pygments_lexer": "ipython3",
   "version": "3.8.5"
  },
  "orig_nbformat": 4
 },
 "nbformat": 4,
 "nbformat_minor": 2
}
