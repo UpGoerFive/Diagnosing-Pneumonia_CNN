{
  "cells": [
    {
      "cell_type": "code",
      "execution_count": 3,
      "metadata": {
        "id": "RQxJp_dYBymh"
      },
      "outputs": [],
      "source": [
        "import numpy as np\n",
        "import pandas as pd\n",
        "import matplotlib.pyplot as plt\n",
        "\n",
        "import tensorflow as tf\n",
        "from tensorflow.keras import datasets, layers, models\n",
        "from tensorflow.keras.preprocessing.image import ImageDataGenerator, array_to_img, img_to_array, load_img\n",
        "from tensorflow.keras.callbacks import EarlyStopping"
      ]
    },
    {
      "cell_type": "code",
      "execution_count": 7,
      "metadata": {
        "colab": {
          "base_uri": "https://localhost:8080/"
        },
        "id": "g_4GchlqACCx",
        "outputId": "e85c2f23-e654-4011-dcb4-350d6c5626ef"
      },
      "outputs": [
        {
          "name": "stdout",
          "output_type": "stream",
          "text": [
            "Found 4736 images belonging to 2 classes.\n",
            "Found 496 images belonging to 2 classes.\n",
            "Found 624 images belonging to 2 classes.\n"
          ]
        }
      ],
      "source": [
        "idg = ImageDataGenerator(rescale=1./255)\n",
        "\n",
        "train_set = idg.flow_from_directory('./chest-xray-pneumonia/chest_xray/train/',\n",
        "                                                 target_size=(150, 150),\n",
        "                                                 #batch_size=20,\n",
        "                                                 class_mode='binary',\n",
        "                                                 color_mode='grayscale')\n",
        "\n",
        "val_set = idg.flow_from_directory('./chest-xray-pneumonia/chest_xray/val/',\n",
        "                                          target_size=(150, 150),\n",
        "                                          #batch_size=20,\n",
        "                                          class_mode='binary',\n",
        "                                          color_mode='grayscale')\n",
        "\n",
        "test_set = idg.flow_from_directory('./chest-xray-pneumonia/chest_xray/test/',\n",
        "                                            target_size=(150, 150),\n",
        "                                            #batch_size=20,\n",
        "                                            class_mode='binary', \n",
        "                                            color_mode='grayscale')"
      ]
    },
    {
      "cell_type": "code",
      "execution_count": 16,
      "metadata": {
        "id": "X97AXkLykYhq"
      },
      "outputs": [],
      "source": [
        "# Setting paramaters on early stopping\n",
        "earlystop = EarlyStopping(monitor='val_loss', \n",
        "                          min_delta=0, \n",
        "                          patience=20, \n",
        "                          verbose=1, \n",
        "                          mode='min', \n",
        "                          restore_best_weights=True)"
      ]
    },
    {
      "cell_type": "code",
      "execution_count": 32,
      "metadata": {
        "id": "-6U5DmDSQFo1"
      },
      "outputs": [],
      "source": [
        "# Building the model\n",
        "model1 = models.Sequential()\n",
        "model1.add(layers.Conv2D(32, 7, input_shape=(150,150,1), padding='same',\n",
        "                         activation='relu'))\n",
        "model1.add(layers.MaxPooling2D(2))\n",
        "model1.add(layers.Conv2D(64, 3, padding='same', activation='relu'))\n",
        "model1.add(layers.MaxPooling2D(2))\n",
        "model1.add(layers.Flatten())\n",
        "model1.add(layers.Dense(64, activation='relu'))\n",
        "model1.add(layers.Dense(32, activation='relu'))\n",
        "model1.add(layers.Dense(1, activation='sigmoid'))"
      ]
    },
    {
      "cell_type": "markdown",
      "metadata": {
        "id": "s6qZmx7HGF48"
      },
      "source": [
        "Let’s look at how the dimensions of the feature maps change with every successive\n",
        "layer:"
      ]
    },
    {
      "cell_type": "code",
      "execution_count": 33,
      "metadata": {
        "id": "0ZiLZ3Ysw8jz"
      },
      "outputs": [],
      "source": [
        "model1.compile(optimizer=\"adam\", loss=\"binary_crossentropy\", metrics=['acc', tf.metrics.Recall()])\n"
      ]
    },
    {
      "cell_type": "code",
      "execution_count": 34,
      "metadata": {
        "colab": {
          "base_uri": "https://localhost:8080/"
        },
        "id": "0PDW2U3hopzI",
        "outputId": "ca755164-549b-448c-89d7-fb8c6c8c398e"
      },
      "outputs": [
        {
          "name": "stdout",
          "output_type": "stream",
          "text": [
            "Model: \"sequential_4\"\n",
            "_________________________________________________________________\n",
            " Layer (type)                Output Shape              Param #   \n",
            "=================================================================\n",
            " conv2d_5 (Conv2D)           (None, 150, 150, 32)      1600      \n",
            "                                                                 \n",
            " flatten_3 (Flatten)         (None, 720000)            0         \n",
            "                                                                 \n",
            " dense_9 (Dense)             (None, 64)                46080064  \n",
            "                                                                 \n",
            " dense_10 (Dense)            (None, 32)                2080      \n",
            "                                                                 \n",
            " dense_11 (Dense)            (None, 1)                 33        \n",
            "                                                                 \n",
            "=================================================================\n",
            "Total params: 46,083,777\n",
            "Trainable params: 46,083,777\n",
            "Non-trainable params: 0\n",
            "_________________________________________________________________\n"
          ]
        }
      ],
      "source": [
        "model1.summary()"
      ]
    },
    {
      "cell_type": "code",
      "execution_count": null,
      "metadata": {
        "colab": {
          "base_uri": "https://localhost:8080/"
        },
        "id": "6_OjG31CxZL8",
        "outputId": "01a75c80-6cbc-49df-ad27-3a70c7cea4e1"
      },
      "outputs": [
        {
          "name": "stdout",
          "output_type": "stream",
          "text": [
            "Epoch 1/30\n",
            "100/100 [==============================] - 123s 1s/step - loss: 0.9496 - acc: 0.8484 - recall_4: 0.9453 - val_loss: 0.2407 - val_acc: 0.9093 - val_recall_4: 0.9637\n",
            "Epoch 2/30\n",
            "100/100 [==============================] - 118s 1s/step - loss: 0.1305 - acc: 0.9541 - recall_4: 0.9739 - val_loss: 0.3019 - val_acc: 0.8851 - val_recall_4: 0.9879\n",
            "Epoch 3/30\n",
            "100/100 [==============================] - 116s 1s/step - loss: 0.1308 - acc: 0.9484 - recall_4: 0.9692 - val_loss: 0.2059 - val_acc: 0.9274 - val_recall_4: 0.9798\n",
            "Epoch 4/30\n",
            "100/100 [==============================] - 114s 1s/step - loss: 0.0714 - acc: 0.9728 - recall_4: 0.9842 - val_loss: 0.1361 - val_acc: 0.9476 - val_recall_4: 0.9677\n",
            "Epoch 5/30\n",
            "100/100 [==============================] - 116s 1s/step - loss: 0.0524 - acc: 0.9828 - recall_4: 0.9883 - val_loss: 0.1624 - val_acc: 0.9476 - val_recall_4: 0.9839\n",
            "Epoch 6/30\n",
            "100/100 [==============================] - 121s 1s/step - loss: 0.0386 - acc: 0.9872 - recall_4: 0.9919 - val_loss: 0.1783 - val_acc: 0.9355 - val_recall_4: 0.9879\n",
            "Epoch 7/30\n",
            "100/100 [==============================] - 116s 1s/step - loss: 0.0328 - acc: 0.9884 - recall_4: 0.9935 - val_loss: 0.1377 - val_acc: 0.9556 - val_recall_4: 0.9677\n",
            "Epoch 8/30\n",
            "100/100 [==============================] - 116s 1s/step - loss: 0.0210 - acc: 0.9947 - recall_4: 0.9963 - val_loss: 0.1439 - val_acc: 0.9556 - val_recall_4: 0.9798\n",
            "Epoch 9/30\n",
            "100/100 [==============================] - 116s 1s/step - loss: 0.0163 - acc: 0.9959 - recall_4: 0.9967 - val_loss: 0.1324 - val_acc: 0.9677 - val_recall_4: 0.9677\n",
            "Epoch 10/30\n",
            "100/100 [==============================] - 113s 1s/step - loss: 0.0158 - acc: 0.9953 - recall_4: 0.9967 - val_loss: 0.1483 - val_acc: 0.9637 - val_recall_4: 0.9556\n",
            "Epoch 11/30\n",
            "100/100 [==============================] - 117s 1s/step - loss: 0.0091 - acc: 0.9972 - recall_4: 0.9976 - val_loss: 0.1471 - val_acc: 0.9637 - val_recall_4: 0.9637\n",
            "Epoch 12/30\n",
            "100/100 [==============================] - 116s 1s/step - loss: 0.0176 - acc: 0.9928 - recall_4: 0.9960 - val_loss: 0.1446 - val_acc: 0.9617 - val_recall_4: 0.9476\n",
            "Epoch 13/30\n",
            "100/100 [==============================] - 115s 1s/step - loss: 0.0147 - acc: 0.9953 - recall_4: 0.9967 - val_loss: 0.1696 - val_acc: 0.9617 - val_recall_4: 0.9758\n",
            "Epoch 14/30\n",
            "100/100 [==============================] - 115s 1s/step - loss: 0.0195 - acc: 0.9925 - recall_4: 0.9956 - val_loss: 0.2001 - val_acc: 0.9577 - val_recall_4: 0.9677\n",
            "Epoch 15/30\n",
            "100/100 [==============================] - 118s 1s/step - loss: 0.0057 - acc: 0.9984 - recall_4: 0.9984 - val_loss: 0.1820 - val_acc: 0.9536 - val_recall_4: 0.9597\n",
            "Epoch 16/30\n",
            "100/100 [==============================] - 116s 1s/step - loss: 0.0037 - acc: 0.9994 - recall_4: 1.0000 - val_loss: 0.2342 - val_acc: 0.9516 - val_recall_4: 0.9597\n",
            "Epoch 17/30\n",
            "100/100 [==============================] - 118s 1s/step - loss: 0.0028 - acc: 0.9991 - recall_4: 0.9992 - val_loss: 0.2442 - val_acc: 0.9536 - val_recall_4: 0.9597\n",
            "Epoch 18/30\n",
            "100/100 [==============================] - 118s 1s/step - loss: 0.0186 - acc: 0.9934 - recall_4: 0.9955 - val_loss: 0.4223 - val_acc: 0.8931 - val_recall_4: 0.9798\n",
            "Epoch 19/30\n",
            "100/100 [==============================] - 116s 1s/step - loss: 0.0245 - acc: 0.9919 - recall_4: 0.9955 - val_loss: 0.2665 - val_acc: 0.9274 - val_recall_4: 0.9718\n",
            "Epoch 20/30\n",
            "100/100 [==============================] - 118s 1s/step - loss: 0.0188 - acc: 0.9934 - recall_4: 0.9955 - val_loss: 0.1741 - val_acc: 0.9577 - val_recall_4: 0.9798\n",
            "Epoch 21/30\n",
            "100/100 [==============================] - 117s 1s/step - loss: 0.0035 - acc: 0.9984 - recall_4: 0.9992 - val_loss: 0.1861 - val_acc: 0.9657 - val_recall_4: 0.9677\n",
            "Epoch 22/30\n",
            "100/100 [==============================] - 117s 1s/step - loss: 0.0282 - acc: 0.9912 - recall_4: 0.9943 - val_loss: 0.2085 - val_acc: 0.9415 - val_recall_4: 0.9677\n",
            "Epoch 23/30\n",
            "100/100 [==============================] - 116s 1s/step - loss: 0.0169 - acc: 0.9937 - recall_4: 0.9976 - val_loss: 0.1646 - val_acc: 0.9597 - val_recall_4: 0.9637\n",
            "Epoch 24/30\n",
            "100/100 [==============================] - 116s 1s/step - loss: 0.1455 - acc: 0.9822 - recall_4: 0.9874 - val_loss: 0.9574 - val_acc: 0.6331 - val_recall_4: 1.0000\n",
            "Epoch 25/30\n",
            "100/100 [==============================] - 117s 1s/step - loss: 0.1549 - acc: 0.9472 - recall_4: 0.9661 - val_loss: 0.1834 - val_acc: 0.9415 - val_recall_4: 0.9395\n",
            "Epoch 26/30\n",
            "100/100 [==============================] - 116s 1s/step - loss: 0.0373 - acc: 0.9875 - recall_4: 0.9923 - val_loss: 0.2576 - val_acc: 0.9234 - val_recall_4: 0.9718\n",
            "Epoch 27/30\n",
            "100/100 [==============================] - 116s 1s/step - loss: 0.0393 - acc: 0.9856 - recall_4: 0.9911 - val_loss: 0.1705 - val_acc: 0.9496 - val_recall_4: 0.9556\n",
            "Epoch 28/30\n",
            "100/100 [==============================] - 116s 1s/step - loss: 0.0293 - acc: 0.9906 - recall_4: 0.9939 - val_loss: 0.3674 - val_acc: 0.9032 - val_recall_4: 0.9839\n",
            "Epoch 29/30\n",
            " 35/100 [=========>....................] - ETA: 1:09 - loss: 0.0548 - acc: 0.9777 - recall_4: 0.9862"
          ]
        }
      ],
      "source": [
        "# Fitting the model\n",
        "history1 = model1.fit(train_set, \n",
        "                    validation_data=val_set,\n",
        "                    steps_per_epoch=100, \n",
        "                    epochs=30,\n",
        "                    callbacks=[earlystop]\n",
        "                    )"
      ]
    }
  ],
  "metadata": {
    "accelerator": "TPU",
    "colab": {
      "authorship_tag": "ABX9TyNmW8dr6Daq9DWYqzP/y3J+",
      "include_colab_link": true,
      "name": "baseline model.ipynb",
      "provenance": []
    },
    "kernelspec": {
      "display_name": "Python 3",
      "name": "python3"
    },
    "language_info": {
      "name": "python",
      "version": "3.8.5"
    }
  },
  "nbformat": 4,
  "nbformat_minor": 0
}
