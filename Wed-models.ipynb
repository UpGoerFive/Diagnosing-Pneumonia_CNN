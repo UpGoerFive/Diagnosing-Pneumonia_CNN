{
  "cells": [
    {
      "cell_type": "code",
      "execution_count": 1,
      "metadata": {
        "id": "RQxJp_dYBymh"
      },
      "outputs": [],
      "source": [
        "import numpy as np\n",
        "import pandas as pd\n",
        "import matplotlib.pyplot as plt\n",
        "import datetime\n",
        "\n",
        "import tensorflow as tf\n",
        "from tensorflow.keras import datasets, layers, models\n",
        "from tensorflow.keras.preprocessing.image import ImageDataGenerator\n",
        "from tensorflow.keras.callbacks import EarlyStopping\n",
        "\n",
        "%load_ext tensorboard"
      ]
    },
    {
      "cell_type": "code",
      "execution_count": 33,
      "metadata": {
        "colab": {
          "base_uri": "https://localhost:8080/"
        },
        "id": "g_4GchlqACCx",
        "outputId": "e85c2f23-e654-4011-dcb4-350d6c5626ef"
      },
      "outputs": [
        {
          "name": "stdout",
          "output_type": "stream",
          "text": [
            "Found 5022 images belonging to 2 classes.\n",
            "Found 210 images belonging to 2 classes.\n",
            "Found 624 images belonging to 2 classes.\n"
          ]
        }
      ],
      "source": [
        "idg = ImageDataGenerator(rescale=1./255)\n",
        "\n",
        "train_set = idg.flow_from_directory('chest_xray/train',\n",
        "                                                 target_size=(150, 150),\n",
        "                                                 batch_size=32,\n",
        "                                                 class_mode='binary',\n",
        "                                                 color_mode='grayscale')\n",
        "\n",
        "val_set = idg.flow_from_directory('chest_xray/val',\n",
        "                                          target_size=(150, 150),\n",
        "                                          batch_size=32,\n",
        "                                          class_mode='binary',\n",
        "                                          color_mode='grayscale')\n",
        "\n",
        "test_set = idg.flow_from_directory('chest_xray/test',\n",
        "                                            target_size=(150, 150),\n",
        "                                            batch_size=32,\n",
        "                                            class_mode='binary',\n",
        "                                            color_mode='grayscale')"
      ]
    },
    {
      "cell_type": "code",
      "execution_count": 34,
      "metadata": {
        "id": "X97AXkLykYhq"
      },
      "outputs": [],
      "source": [
        "# Setting paramaters on early stopping\n",
        "earlystop = EarlyStopping(monitor='val_loss',\n",
        "                          min_delta=0,\n",
        "                          patience=20,\n",
        "                          verbose=1,\n",
        "                          mode='min',\n",
        "                          restore_best_weights=True)\n",
        "\n",
        "log_dir = \"logs/fit/\" + datetime.datetime.now().strftime(\"%Y%m%d-%H%M%S\")\n",
        "tensorboard_callback = tf.keras.callbacks.TensorBoard(log_dir=log_dir, histogram_freq=1)\n"
      ]
    },
    {
      "cell_type": "code",
      "execution_count": 4,
      "metadata": {
        "id": "-6U5DmDSQFo1"
      },
      "outputs": [],
      "source": [
        "# Building the model\n",
        "model1 = models.Sequential()\n",
        "model1.add(layers.Conv2D(32, 7, input_shape=(150,150,1), padding='same',\n",
        "                         activation='relu'))\n",
        "model1.add(layers.MaxPooling2D(2))\n",
        "model1.add(layers.Conv2D(64, 3, padding='same', activation='relu'))\n",
        "model1.add(layers.MaxPooling2D(2))\n",
        "model1.add(layers.Flatten())\n",
        "model1.add(layers.Dense(64, activation='relu'))\n",
        "model1.add(layers.Dense(32, activation='relu'))\n",
        "model1.add(layers.Dense(1, activation='sigmoid'))\n",
        "model1.compile(optimizer=\"adam\", loss=\"binary_crossentropy\", metrics=['acc', tf.metrics.Recall()])\n",
        "model1.summary()\n",
        "\n",
        "# Fitting the model\n",
        "history1 = model1.fit(train_set,\n",
        "                    validation_data=val_set,\n",
        "                    steps_per_epoch=100,\n",
        "                    epochs=30,\n",
        "                    callbacks=[earlystop]\n",
        "                    )"
      ]
    },
    {
      "cell_type": "code",
      "execution_count": 8,
      "metadata": {},
      "outputs": [
        {
          "name": "stdout",
          "output_type": "stream",
          "text": [
            "20/20 [==============================] - 18s 936ms/step - loss: 3.1034 - acc: 0.7484 - recall: 0.9949\n"
          ]
        },
        {
          "data": {
            "text/plain": [
              "[3.1034023761749268, 0.7483974099159241, 0.9948717951774597]"
            ]
          },
          "execution_count": 8,
          "metadata": {},
          "output_type": "execute_result"
        }
      ],
      "source": [
        "model1.evaluate(test_set)"
      ]
    },
    {
      "cell_type": "code",
      "execution_count": 10,
      "metadata": {
        "id": "-6U5DmDSQFo1"
      },
      "outputs": [
        {
          "name": "stdout",
          "output_type": "stream",
          "text": [
            "Model: \"sequential_1\"\n",
            "_________________________________________________________________\n",
            "Layer (type)                 Output Shape              Param #   \n",
            "=================================================================\n",
            "conv2d_2 (Conv2D)            (None, 144, 144, 32)      1600      \n",
            "_________________________________________________________________\n",
            "max_pooling2d_2 (MaxPooling2 (None, 72, 72, 32)        0         \n",
            "_________________________________________________________________\n",
            "conv2d_3 (Conv2D)            (None, 70, 70, 64)        18496     \n",
            "_________________________________________________________________\n",
            "max_pooling2d_3 (MaxPooling2 (None, 35, 35, 64)        0         \n",
            "_________________________________________________________________\n",
            "flatten_1 (Flatten)          (None, 78400)             0         \n",
            "_________________________________________________________________\n",
            "dense_3 (Dense)              (None, 64)                5017664   \n",
            "_________________________________________________________________\n",
            "dense_4 (Dense)              (None, 32)                2080      \n",
            "_________________________________________________________________\n",
            "dense_5 (Dense)              (None, 1)                 33        \n",
            "=================================================================\n",
            "Total params: 5,039,873\n",
            "Trainable params: 5,039,873\n",
            "Non-trainable params: 0\n",
            "_________________________________________________________________\n"
          ]
        }
      ],
      "source": [
        "# Building the model\n",
        "second_model = models.Sequential()\n",
        "second_model.add(layers.Conv2D(32, 7, input_shape=(150,150,1), padding='valid',\n",
        "                         activation='relu'))\n",
        "second_model.add(layers.MaxPooling2D(2))\n",
        "second_model.add(layers.Conv2D(64, 3, padding='valid', activation='relu'))\n",
        "second_model.add(layers.MaxPooling2D(2))\n",
        "second_model.add(layers.Flatten())\n",
        "second_model.add(layers.Dense(64, activation='relu'))\n",
        "second_model.add(layers.Dense(32, activation='relu'))\n",
        "second_model.add(layers.Dense(1, activation='sigmoid'))\n",
        "second_model.compile(optimizer=\"adam\", loss=\"binary_crossentropy\", metrics=['acc', tf.metrics.Recall()])\n",
        "second_model.summary()\n",
        "\n",
        "# Fitting the model\n",
        "history2 = second_model.fit(train_set,\n",
        "                    validation_data=val_set,\n",
        "                    steps_per_epoch=100,\n",
        "                    epochs=30,\n",
        "                    callbacks=[earlystop]\n",
        "                    )"
      ]
    },
    {
      "cell_type": "code",
      "execution_count": 12,
      "metadata": {},
      "outputs": [
        {
          "name": "stdout",
          "output_type": "stream",
          "text": [
            "20/20 [==============================] - 16s 827ms/step - loss: 0.9116 - acc: 0.7676 - recall_1: 0.9897\n"
          ]
        },
        {
          "data": {
            "text/plain": [
              "[0.9116288423538208, 0.7676281929016113, 0.9897435903549194]"
            ]
          },
          "execution_count": 12,
          "metadata": {},
          "output_type": "execute_result"
        }
      ],
      "source": [
        "second_model.evaluate(test_set)"
      ]
    },
    {
      "cell_type": "code",
      "execution_count": 1,
      "metadata": {
        "id": "-6U5DmDSQFo1"
      },
      "outputs": [
        {
          "ename": "NameError",
          "evalue": "name 'models' is not defined",
          "output_type": "error",
          "traceback": [
            "\u001b[0;31m---------------------------------------------------------------------------\u001b[0m",
            "\u001b[0;31mNameError\u001b[0m                                 Traceback (most recent call last)",
            "\u001b[0;32m<ipython-input-1-a83e65cb4fe5>\u001b[0m in \u001b[0;36m<module>\u001b[0;34m\u001b[0m\n\u001b[1;32m      1\u001b[0m \u001b[0;31m# Building the model\u001b[0m\u001b[0;34m\u001b[0m\u001b[0;34m\u001b[0m\u001b[0;34m\u001b[0m\u001b[0m\n\u001b[0;32m----> 2\u001b[0;31m \u001b[0mthird_model\u001b[0m \u001b[0;34m=\u001b[0m \u001b[0mmodels\u001b[0m\u001b[0;34m.\u001b[0m\u001b[0mSequential\u001b[0m\u001b[0;34m(\u001b[0m\u001b[0;34m)\u001b[0m\u001b[0;34m\u001b[0m\u001b[0;34m\u001b[0m\u001b[0m\n\u001b[0m\u001b[1;32m      3\u001b[0m third_model.add(layers.Conv2D(32, 7, input_shape=(150,150,1), padding='valid',\n\u001b[1;32m      4\u001b[0m                          activation='relu'))\n\u001b[1;32m      5\u001b[0m \u001b[0mthird_model\u001b[0m\u001b[0;34m.\u001b[0m\u001b[0madd\u001b[0m\u001b[0;34m(\u001b[0m\u001b[0mlayers\u001b[0m\u001b[0;34m.\u001b[0m\u001b[0mMaxPooling2D\u001b[0m\u001b[0;34m(\u001b[0m\u001b[0;36m2\u001b[0m\u001b[0;34m)\u001b[0m\u001b[0;34m)\u001b[0m\u001b[0;34m\u001b[0m\u001b[0;34m\u001b[0m\u001b[0m\n",
            "\u001b[0;31mNameError\u001b[0m: name 'models' is not defined"
          ]
        }
      ],
      "source": [
        "# Building the model\n",
        "third_model = models.Sequential()\n",
        "third_model.add(layers.Conv2D(32, 7, input_shape=(150,150,1), padding='valid',\n",
        "                         activation='relu'))\n",
        "third_model.add(layers.MaxPooling2D(2))\n",
        "third_model.add(layers.Conv2D(64, 3, padding='same', activation='relu'))\n",
        "third_model.add(layers.MaxPooling2D(2))\n",
        "third_model.add(layers.Conv2D(64, 3, padding='same', activation='relu'))\n",
        "third_model.add(layers.MaxPooling2D(3))\n",
        "third_model.add(layers.Flatten())\n",
        "third_model.add(layers.Dense(64, activation='relu'))\n",
        "third_model.add(layers.Dense(1, activation='sigmoid'))\n",
        "third_model.compile(optimizer=\"adam\", loss=\"binary_crossentropy\", metrics=['acc', tf.metrics.Recall()])\n",
        "third_model.summary()\n",
        "\n",
        "# Fitting the model\n",
        "history3 = third_model.fit(train_set,\n",
        "                    validation_data=val_set,\n",
        "                    steps_per_epoch=100,\n",
        "                    epochs=30,\n",
        "                    callbacks=[earlystop, tensorboard_callback]\n",
        "                    )"
      ]
    },
    {
      "cell_type": "code",
      "execution_count": 16,
      "metadata": {},
      "outputs": [
        {
          "name": "stdout",
          "output_type": "stream",
          "text": [
            "20/20 [==============================] - 15s 767ms/step - loss: 0.7861 - acc: 0.7644 - recall_3: 0.9923\n"
          ]
        },
        {
          "data": {
            "text/plain": [
              "[0.7861124277114868, 0.7644230723381042, 0.9923076629638672]"
            ]
          },
          "execution_count": 16,
          "metadata": {},
          "output_type": "execute_result"
        }
      ],
      "source": [
        "third_model.evaluate(test_set)"
      ]
    },
    {
      "cell_type": "code",
      "execution_count": 18,
      "metadata": {
        "id": "OI52jcQ2L5bx"
      },
      "outputs": [
        {
          "name": "stderr",
          "output_type": "stream",
          "text": [
            "/home/nathaniel/anaconda3/envs/Better-learn/lib/python3.8/site-packages/sklearn/utils/validation.py:67: FutureWarning: Pass classes=[0 1], y=[0 0 0 ... 1 1 1] as keyword args. From version 0.25 passing these as positional arguments will result in an error\n",
            "  warnings.warn(\"Pass {} as keyword args. From version 0.25 \"\n"
          ]
        },
        {
          "name": "stdout",
          "output_type": "stream",
          "text": [
            "Model: \"sequential_4\"\n",
            "_________________________________________________________________\n",
            "Layer (type)                 Output Shape              Param #   \n",
            "=================================================================\n",
            "conv2d_9 (Conv2D)            (None, 150, 150, 32)      1600      \n",
            "_________________________________________________________________\n",
            "max_pooling2d_9 (MaxPooling2 (None, 75, 75, 32)        0         \n",
            "_________________________________________________________________\n",
            "conv2d_10 (Conv2D)           (None, 75, 75, 64)        18496     \n",
            "_________________________________________________________________\n",
            "max_pooling2d_10 (MaxPooling (None, 37, 37, 64)        0         \n",
            "_________________________________________________________________\n",
            "flatten_4 (Flatten)          (None, 87616)             0         \n",
            "_________________________________________________________________\n",
            "dense_10 (Dense)             (None, 64)                5607488   \n",
            "_________________________________________________________________\n",
            "dense_11 (Dense)             (None, 32)                2080      \n",
            "_________________________________________________________________\n",
            "dense_12 (Dense)             (None, 1)                 33        \n",
            "=================================================================\n",
            "Total params: 5,629,697\n",
            "Trainable params: 5,629,697\n",
            "Non-trainable params: 0\n",
            "_________________________________________________________________\n",
            "WARNING:tensorflow:From /home/nathaniel/anaconda3/envs/Better-learn/lib/python3.8/site-packages/tensorflow/python/ops/array_ops.py:5043: calling gather (from tensorflow.python.ops.array_ops) with validate_indices is deprecated and will be removed in a future version.\n",
            "Instructions for updating:\n",
            "The `validate_indices` argument has no effect. Indices are always validated on CPU and never validated on GPU.\n",
            "Epoch 1/30\n",
            "100/100 [==============================] - 106s 1s/step - loss: 0.3114 - accuracy: 0.8481 - recall_4: 0.8309 - val_loss: 0.1810 - val_accuracy: 0.9286 - val_recall_4: 0.9211\n",
            "Epoch 2/30\n",
            "100/100 [==============================] - 68s 677ms/step - loss: 0.1379 - accuracy: 0.9466 - recall_4: 0.9445 - val_loss: 0.1888 - val_accuracy: 0.9238 - val_recall_4: 0.9803\n",
            "Epoch 3/30\n",
            "100/100 [==============================] - 56s 562ms/step - loss: 0.1360 - accuracy: 0.9522 - recall_4: 0.9540 - val_loss: 0.1646 - val_accuracy: 0.9476 - val_recall_4: 0.9276\n",
            "Epoch 4/30\n",
            "100/100 [==============================] - 65s 652ms/step - loss: 0.0919 - accuracy: 0.9619 - recall_4: 0.9596 - val_loss: 0.0965 - val_accuracy: 0.9429 - val_recall_4: 0.9868\n",
            "Epoch 5/30\n",
            "100/100 [==============================] - 56s 565ms/step - loss: 0.0809 - accuracy: 0.9675 - recall_4: 0.9651 - val_loss: 0.0865 - val_accuracy: 0.9714 - val_recall_4: 0.9803\n",
            "Epoch 6/30\n",
            "100/100 [==============================] - 52s 518ms/step - loss: 0.0932 - accuracy: 0.9638 - recall_4: 0.9615 - val_loss: 0.0868 - val_accuracy: 0.9524 - val_recall_4: 0.9737\n",
            "Epoch 7/30\n",
            "100/100 [==============================] - 48s 474ms/step - loss: 0.0698 - accuracy: 0.9731 - recall_4: 0.9706 - val_loss: 0.0823 - val_accuracy: 0.9667 - val_recall_4: 0.9737\n",
            "Epoch 8/30\n",
            "100/100 [==============================] - 50s 504ms/step - loss: 0.0599 - accuracy: 0.9766 - recall_4: 0.9739 - val_loss: 0.0987 - val_accuracy: 0.9714 - val_recall_4: 0.9605\n",
            "Epoch 9/30\n",
            "100/100 [==============================] - 48s 482ms/step - loss: 0.0442 - accuracy: 0.9831 - recall_4: 0.9806 - val_loss: 0.1249 - val_accuracy: 0.9524 - val_recall_4: 0.9934\n",
            "Epoch 10/30\n",
            "100/100 [==============================] - 46s 462ms/step - loss: 0.0540 - accuracy: 0.9787 - recall_4: 0.9763 - val_loss: 0.0713 - val_accuracy: 0.9667 - val_recall_4: 0.9737\n",
            "Epoch 11/30\n",
            "100/100 [==============================] - 46s 456ms/step - loss: 0.0388 - accuracy: 0.9834 - recall_4: 0.9810 - val_loss: 0.0986 - val_accuracy: 0.9619 - val_recall_4: 0.9934\n",
            "Epoch 12/30\n",
            "100/100 [==============================] - 45s 452ms/step - loss: 0.0427 - accuracy: 0.9847 - recall_4: 0.9839 - val_loss: 0.1509 - val_accuracy: 0.9333 - val_recall_4: 0.9342\n",
            "Epoch 13/30\n",
            "100/100 [==============================] - 45s 446ms/step - loss: 0.0442 - accuracy: 0.9828 - recall_4: 0.9803 - val_loss: 0.1518 - val_accuracy: 0.9524 - val_recall_4: 0.9737\n",
            "Epoch 14/30\n",
            "100/100 [==============================] - 45s 447ms/step - loss: 0.0657 - accuracy: 0.9750 - recall_4: 0.9726 - val_loss: 0.1157 - val_accuracy: 0.9571 - val_recall_4: 0.9605\n",
            "Epoch 15/30\n",
            "100/100 [==============================] - 44s 443ms/step - loss: 0.0564 - accuracy: 0.9762 - recall_4: 0.9740 - val_loss: 0.0693 - val_accuracy: 0.9667 - val_recall_4: 0.9803\n",
            "Epoch 16/30\n",
            "100/100 [==============================] - 44s 441ms/step - loss: 0.0328 - accuracy: 0.9862 - recall_4: 0.9857 - val_loss: 0.0733 - val_accuracy: 0.9714 - val_recall_4: 0.9671\n",
            "Epoch 17/30\n",
            "100/100 [==============================] - 45s 448ms/step - loss: 0.0240 - accuracy: 0.9903 - recall_4: 0.9885 - val_loss: 0.0772 - val_accuracy: 0.9667 - val_recall_4: 0.9803\n",
            "Epoch 18/30\n",
            "100/100 [==============================] - 44s 443ms/step - loss: 0.0112 - accuracy: 0.9953 - recall_4: 0.9949 - val_loss: 0.1296 - val_accuracy: 0.9571 - val_recall_4: 0.9868\n",
            "Epoch 19/30\n",
            "100/100 [==============================] - 45s 450ms/step - loss: 0.0145 - accuracy: 0.9944 - recall_4: 0.9936 - val_loss: 0.1292 - val_accuracy: 0.9714 - val_recall_4: 0.9934\n",
            "Epoch 20/30\n",
            "100/100 [==============================] - 45s 449ms/step - loss: 0.0047 - accuracy: 0.9978 - recall_4: 0.9975 - val_loss: 0.1886 - val_accuracy: 0.9524 - val_recall_4: 0.9934\n",
            "Epoch 21/30\n",
            "100/100 [==============================] - 45s 450ms/step - loss: 0.0027 - accuracy: 0.9991 - recall_4: 0.9987 - val_loss: 0.1590 - val_accuracy: 0.9619 - val_recall_4: 0.9868\n",
            "Epoch 22/30\n",
            "100/100 [==============================] - 47s 465ms/step - loss: 0.0015 - accuracy: 0.9994 - recall_4: 0.9991 - val_loss: 0.1514 - val_accuracy: 0.9667 - val_recall_4: 0.9868\n",
            "Epoch 23/30\n",
            "100/100 [==============================] - 45s 447ms/step - loss: 0.0012 - accuracy: 0.9994 - recall_4: 0.9992 - val_loss: 0.1492 - val_accuracy: 0.9667 - val_recall_4: 0.9868\n",
            "Epoch 24/30\n",
            "100/100 [==============================] - 45s 447ms/step - loss: 0.0038 - accuracy: 0.9984 - recall_4: 0.9979 - val_loss: 0.1265 - val_accuracy: 0.9571 - val_recall_4: 0.9671\n",
            "Epoch 25/30\n",
            "100/100 [==============================] - 45s 455ms/step - loss: 0.0618 - accuracy: 0.9787 - recall_4: 0.9761 - val_loss: 0.1291 - val_accuracy: 0.9619 - val_recall_4: 0.9934\n",
            "Epoch 26/30\n",
            "100/100 [==============================] - 45s 450ms/step - loss: 0.0369 - accuracy: 0.9856 - recall_4: 0.9845 - val_loss: 0.1125 - val_accuracy: 0.9714 - val_recall_4: 0.9737\n",
            "Epoch 27/30\n",
            "100/100 [==============================] - 45s 449ms/step - loss: 0.0124 - accuracy: 0.9950 - recall_4: 0.9949 - val_loss: 0.1035 - val_accuracy: 0.9667 - val_recall_4: 0.9803\n",
            "Epoch 28/30\n",
            "100/100 [==============================] - 44s 445ms/step - loss: 0.0068 - accuracy: 0.9981 - recall_4: 0.9983 - val_loss: 0.1298 - val_accuracy: 0.9619 - val_recall_4: 0.9868\n",
            "Epoch 29/30\n",
            "100/100 [==============================] - 47s 465ms/step - loss: 0.0032 - accuracy: 0.9987 - recall_4: 0.9987 - val_loss: 0.1376 - val_accuracy: 0.9667 - val_recall_4: 0.9934\n",
            "Epoch 30/30\n",
            "100/100 [==============================] - 46s 462ms/step - loss: 0.0029 - accuracy: 0.9991 - recall_4: 0.9987 - val_loss: 0.1447 - val_accuracy: 0.9619 - val_recall_4: 0.9868\n"
          ]
        }
      ],
      "source": [
        "from sklearn.utils.class_weight import compute_class_weight\n",
        "\n",
        "# Calculating the class weights\n",
        "weights = compute_class_weight('balanced', np.unique(train_set.labels),\n",
        "                               train_set.labels)\n",
        "# Zipping the class weights into a dictionary\n",
        "weights = dict(zip(np.unique(train_set.labels), weights))\n",
        "# Building the model\n",
        "weighted_model = models.Sequential()\n",
        "weighted_model.add(layers.Conv2D(32, 7, input_shape=(150,150,1), padding='same',\n",
        "                         activation='relu'))\n",
        "weighted_model.add(layers.MaxPooling2D(2))\n",
        "weighted_model.add(layers.Conv2D(64, 3, padding='same', activation='relu'))\n",
        "weighted_model.add(layers.MaxPooling2D(2))\n",
        "weighted_model.add(layers.Flatten())\n",
        "weighted_model.add(layers.Dense(64, activation='relu'))\n",
        "weighted_model.add(layers.Dense(32, activation='relu'))\n",
        "weighted_model.add(layers.Dense(1, activation='sigmoid'))\n",
        "# Compiling the model and looking at the summary\n",
        "weighted_model.compile(loss='binary_crossentropy',\n",
        "              optimizer='adam',\n",
        "              metrics=['accuracy', tf.metrics.Recall()])\n",
        "weighted_model.summary()\n",
        "# Fitting the model\n",
        "history3 = weighted_model.fit(train_set,\n",
        "                    validation_data=val_set,\n",
        "                    steps_per_epoch=100,\n",
        "                    epochs=30,\n",
        "                    class_weight=weights,\n",
        "                    callbacks=[earlystop, tensorboard_callback]\n",
        "                    )"
      ]
    },
    {
      "cell_type": "code",
      "execution_count": 19,
      "metadata": {},
      "outputs": [
        {
          "name": "stdout",
          "output_type": "stream",
          "text": [
            "20/20 [==============================] - 16s 811ms/step - loss: 3.2626 - accuracy: 0.7292 - recall_4: 0.9923\n"
          ]
        },
        {
          "data": {
            "text/plain": [
              "[3.2625746726989746, 0.7291666865348816, 0.9923076629638672]"
            ]
          },
          "execution_count": 19,
          "metadata": {},
          "output_type": "execute_result"
        }
      ],
      "source": [
        "weighted_model.evaluate(test_set)"
      ]
    },
    {
      "cell_type": "code",
      "execution_count": 36,
      "metadata": {},
      "outputs": [
        {
          "name": "stdout",
          "output_type": "stream",
          "text": [
            "Found 5022 images belonging to 2 classes.\n",
            "Model: \"sequential_7\"\n",
            "_________________________________________________________________\n",
            "Layer (type)                 Output Shape              Param #   \n",
            "=================================================================\n",
            "conv2d_14 (Conv2D)           (None, 144, 144, 32)      1600      \n",
            "_________________________________________________________________\n",
            "max_pooling2d_14 (MaxPooling (None, 72, 72, 32)        0         \n",
            "_________________________________________________________________\n",
            "conv2d_15 (Conv2D)           (None, 72, 72, 64)        18496     \n",
            "_________________________________________________________________\n",
            "max_pooling2d_15 (MaxPooling (None, 36, 36, 64)        0         \n",
            "_________________________________________________________________\n",
            "conv2d_16 (Conv2D)           (None, 36, 36, 64)        36928     \n",
            "_________________________________________________________________\n",
            "max_pooling2d_16 (MaxPooling (None, 12, 12, 64)        0         \n",
            "_________________________________________________________________\n",
            "flatten_6 (Flatten)          (None, 9216)              0         \n",
            "_________________________________________________________________\n",
            "dense_15 (Dense)             (None, 64)                589888    \n",
            "_________________________________________________________________\n",
            "dense_16 (Dense)             (None, 1)                 65        \n",
            "=================================================================\n",
            "Total params: 646,977\n",
            "Trainable params: 646,977\n",
            "Non-trainable params: 0\n",
            "_________________________________________________________________\n",
            "Epoch 1/30\n",
            "100/100 [==============================] - 134s 1s/step - loss: 0.5794 - acc: 0.7362 - recall_6: 0.9979 - val_loss: 0.5410 - val_acc: 0.7238 - val_recall_6: 1.0000\n",
            "Epoch 2/30\n",
            "100/100 [==============================] - 106s 1s/step - loss: 0.4472 - acc: 0.7680 - recall_6: 0.9025 - val_loss: 0.5196 - val_acc: 0.7238 - val_recall_6: 1.0000\n",
            "Epoch 3/30\n",
            "100/100 [==============================] - 95s 944ms/step - loss: 0.4251 - acc: 0.7880 - recall_6: 0.8882 - val_loss: 0.3469 - val_acc: 0.8238 - val_recall_6: 0.9211\n",
            "Epoch 4/30\n",
            "100/100 [==============================] - 86s 862ms/step - loss: 0.3910 - acc: 0.8193 - recall_6: 0.9009 - val_loss: 0.3509 - val_acc: 0.8143 - val_recall_6: 0.9408\n",
            "Epoch 5/30\n",
            "100/100 [==============================] - 85s 846ms/step - loss: 0.3644 - acc: 0.8390 - recall_6: 0.9051 - val_loss: 0.2985 - val_acc: 0.8905 - val_recall_6: 0.8816\n",
            "Epoch 6/30\n",
            "100/100 [==============================] - 88s 879ms/step - loss: 0.3279 - acc: 0.8546 - recall_6: 0.9164 - val_loss: 0.2568 - val_acc: 0.9190 - val_recall_6: 0.9276\n",
            "Epoch 7/30\n",
            "100/100 [==============================] - 83s 824ms/step - loss: 0.3051 - acc: 0.8715 - recall_6: 0.9179 - val_loss: 0.2939 - val_acc: 0.8905 - val_recall_6: 0.9145\n",
            "Epoch 8/30\n",
            "100/100 [==============================] - 75s 749ms/step - loss: 0.2955 - acc: 0.8712 - recall_6: 0.9203 - val_loss: 0.2307 - val_acc: 0.9333 - val_recall_6: 0.9408\n",
            "Epoch 9/30\n",
            "100/100 [==============================] - 71s 709ms/step - loss: 0.2788 - acc: 0.8806 - recall_6: 0.9203 - val_loss: 0.2416 - val_acc: 0.9143 - val_recall_6: 0.9803\n",
            "Epoch 10/30\n",
            "100/100 [==============================] - 67s 669ms/step - loss: 0.2680 - acc: 0.8937 - recall_6: 0.9246 - val_loss: 0.2360 - val_acc: 0.8810 - val_recall_6: 0.8684\n",
            "Epoch 11/30\n",
            "100/100 [==============================] - 63s 632ms/step - loss: 0.2529 - acc: 0.8881 - recall_6: 0.9245 - val_loss: 0.2403 - val_acc: 0.9048 - val_recall_6: 0.9934\n",
            "Epoch 12/30\n",
            "100/100 [==============================] - 57s 568ms/step - loss: 0.2501 - acc: 0.8946 - recall_6: 0.9273 - val_loss: 0.2136 - val_acc: 0.9286 - val_recall_6: 0.9671\n",
            "Epoch 13/30\n",
            "100/100 [==============================] - 58s 582ms/step - loss: 0.2487 - acc: 0.8972 - recall_6: 0.9306 - val_loss: 0.2090 - val_acc: 0.9333 - val_recall_6: 0.9342\n",
            "Epoch 14/30\n",
            "100/100 [==============================] - 58s 579ms/step - loss: 0.2503 - acc: 0.8990 - recall_6: 0.9337 - val_loss: 0.1909 - val_acc: 0.9095 - val_recall_6: 0.9276\n",
            "Epoch 15/30\n",
            "100/100 [==============================] - 54s 540ms/step - loss: 0.2339 - acc: 0.9012 - recall_6: 0.9322 - val_loss: 0.2129 - val_acc: 0.9238 - val_recall_6: 0.9276\n",
            "Epoch 16/30\n",
            "100/100 [==============================] - 56s 562ms/step - loss: 0.2237 - acc: 0.9097 - recall_6: 0.9349 - val_loss: 0.2433 - val_acc: 0.9000 - val_recall_6: 0.8816\n",
            "Epoch 17/30\n",
            "100/100 [==============================] - 57s 570ms/step - loss: 0.2385 - acc: 0.9047 - recall_6: 0.9344 - val_loss: 0.1995 - val_acc: 0.9381 - val_recall_6: 0.9539\n",
            "Epoch 18/30\n",
            "100/100 [==============================] - 55s 554ms/step - loss: 0.2206 - acc: 0.9078 - recall_6: 0.9309 - val_loss: 0.2223 - val_acc: 0.9190 - val_recall_6: 0.9803\n",
            "Epoch 19/30\n",
            "100/100 [==============================] - 53s 526ms/step - loss: 0.2195 - acc: 0.9068 - recall_6: 0.9363 - val_loss: 0.2349 - val_acc: 0.9238 - val_recall_6: 0.9276\n",
            "Epoch 20/30\n",
            "100/100 [==============================] - 64s 642ms/step - loss: 0.2492 - acc: 0.8984 - recall_6: 0.9281 - val_loss: 0.1930 - val_acc: 0.9524 - val_recall_6: 0.9868\n",
            "Epoch 21/30\n",
            "100/100 [==============================] - 66s 663ms/step - loss: 0.2107 - acc: 0.9084 - recall_6: 0.9362 - val_loss: 0.2021 - val_acc: 0.9429 - val_recall_6: 0.9868\n",
            "Epoch 22/30\n",
            "100/100 [==============================] - 58s 577ms/step - loss: 0.2108 - acc: 0.9066 - recall_6: 0.9328 - val_loss: 0.2171 - val_acc: 0.9238 - val_recall_6: 0.9671\n",
            "Epoch 23/30\n",
            "100/100 [==============================] - 55s 549ms/step - loss: 0.1998 - acc: 0.9225 - recall_6: 0.9445 - val_loss: 0.1981 - val_acc: 0.9143 - val_recall_6: 0.9079\n",
            "Epoch 24/30\n",
            "100/100 [==============================] - 57s 576ms/step - loss: 0.2069 - acc: 0.9137 - recall_6: 0.9385 - val_loss: 0.1859 - val_acc: 0.9381 - val_recall_6: 0.9605\n",
            "Epoch 25/30\n",
            "100/100 [==============================] - 57s 567ms/step - loss: 0.1944 - acc: 0.9215 - recall_6: 0.9437 - val_loss: 0.2717 - val_acc: 0.8571 - val_recall_6: 0.8224\n",
            "Epoch 26/30\n",
            "100/100 [==============================] - 58s 583ms/step - loss: 0.1927 - acc: 0.9228 - recall_6: 0.9395 - val_loss: 0.1711 - val_acc: 0.9429 - val_recall_6: 0.9605\n",
            "Epoch 27/30\n",
            "100/100 [==============================] - 55s 555ms/step - loss: 0.1859 - acc: 0.9256 - recall_6: 0.9480 - val_loss: 0.1783 - val_acc: 0.9286 - val_recall_6: 0.9408\n",
            "Epoch 28/30\n",
            "100/100 [==============================] - 57s 573ms/step - loss: 0.1865 - acc: 0.9231 - recall_6: 0.9444 - val_loss: 0.1894 - val_acc: 0.9238 - val_recall_6: 0.9671\n",
            "Epoch 29/30\n",
            "100/100 [==============================] - 55s 553ms/step - loss: 0.1948 - acc: 0.9212 - recall_6: 0.9403 - val_loss: 0.1787 - val_acc: 0.9190 - val_recall_6: 0.9145\n",
            "Epoch 30/30\n",
            "100/100 [==============================] - 54s 537ms/step - loss: 0.1768 - acc: 0.9319 - recall_6: 0.9476 - val_loss: 0.2348 - val_acc: 0.9381 - val_recall_6: 1.0000\n"
          ]
        }
      ],
      "source": [
        "# This is the same as the best previous model with image augmentation\n",
        "augment_gen = ImageDataGenerator(rescale=1./255,\n",
        "                                   rotation_range=40,\n",
        "                                   width_shift_range=.2,\n",
        "                                   height_shift_range=.2,\n",
        "                                   shear_range=.2,\n",
        "                                   zoom_range=.2,\n",
        "                                   horizontal_flip=False,\n",
        "                                   brightness_range=[.5, 1.5])\n",
        "\n",
        "augment_set = augment_gen.flow_from_directory('chest_xray/train',\n",
        "                                                 target_size=(150, 150),\n",
        "                                                 batch_size=32,\n",
        "                                                 class_mode='binary',\n",
        "                                                 color_mode='grayscale')\n",
        "\n",
        "augmented = models.Sequential()\n",
        "augmented.add(layers.Conv2D(32, 7, padding='valid', input_shape=(150,150,1), activation='relu'))\n",
        "augmented.add(layers.MaxPooling2D(2))\n",
        "augmented.add(layers.Conv2D(64, 3, padding='same', activation='relu'))\n",
        "augmented.add(layers.MaxPooling2D(2))\n",
        "augmented.add(layers.Conv2D(64, 3, padding='same', activation='relu'))\n",
        "augmented.add(layers.MaxPooling2D(3))\n",
        "augmented.add(layers.Flatten())\n",
        "augmented.add(layers.Dense(64, activation='relu'))\n",
        "augmented.add(layers.Dense(1, activation='sigmoid'))\n",
        "augmented.compile(optimizer=\"adam\", loss=\"binary_crossentropy\", metrics=['acc', tf.metrics.Recall()])\n",
        "augmented.summary()\n",
        "\n",
        "# Fitting the model\n",
        "historyaug = augmented.fit(augment_set,\n",
        "                    validation_data=val_set,\n",
        "                    steps_per_epoch=100,\n",
        "                    epochs=30,\n",
        "                    callbacks=[earlystop, tensorboard_callback])"
      ]
    },
    {
      "cell_type": "code",
      "execution_count": 37,
      "metadata": {},
      "outputs": [
        {
          "name": "stdout",
          "output_type": "stream",
          "text": [
            "20/20 [==============================] - 17s 851ms/step - loss: 0.7945 - acc: 0.7276 - recall_6: 0.9923\n"
          ]
        },
        {
          "data": {
            "text/plain": [
              "[0.794464647769928, 0.7275640964508057, 0.9923076629638672]"
            ]
          },
          "execution_count": 37,
          "metadata": {},
          "output_type": "execute_result"
        }
      ],
      "source": [
        "augmented.evaluate(test_set)"
      ]
    },
    {
      "cell_type": "code",
      "execution_count": 2,
      "metadata": {},
      "outputs": [
        {
          "data": {
            "text/plain": [
              "Reusing TensorBoard on port 6006 (pid 354621), started 0:10:16 ago. (Use '!kill 354621' to kill it.)"
            ]
          },
          "metadata": {},
          "output_type": "display_data"
        },
        {
          "data": {
            "text/html": [
              "\n",
              "      <iframe id=\"tensorboard-frame-379ef4916b25f9a4\" width=\"100%\" height=\"800\" frameborder=\"0\">\n",
              "      </iframe>\n",
              "      <script>\n",
              "        (function() {\n",
              "          const frame = document.getElementById(\"tensorboard-frame-379ef4916b25f9a4\");\n",
              "          const url = new URL(\"http://localhost\");\n",
              "          const port = 6006;\n",
              "          if (port) {\n",
              "            url.port = port;\n",
              "          }\n",
              "          frame.src = url;\n",
              "        })();\n",
              "      </script>\n",
              "    "
            ],
            "text/plain": [
              "<IPython.core.display.HTML object>"
            ]
          },
          "metadata": {},
          "output_type": "display_data"
        }
      ],
      "source": [
        "%tensorboard --logdir logs/fit"
      ]
    },
    {
      "cell_type": "code",
      "execution_count": 29,
      "metadata": {},
      "outputs": [],
      "source": [
        "model1.save('First_Model.h5', save_format='h5')\n",
        "second_model.save('Valid_Padding.h5', save_format='h5')\n",
        "third_model.save('More_Convolution_Layers.h5', save_format='h5')\n",
        "augmented.save('Image_Augmentation.h5', save_format='h5')"
      ]
    },
    {
      "cell_type": "code",
      "execution_count": 28,
      "metadata": {},
      "outputs": [
        {
          "name": "stdout",
          "output_type": "stream",
          "text": [
            "Found 624 images belonging to 2 classes.\n",
            "32/32 [==============================] - 8s 237ms/step - loss: 3.1034 - acc: 0.7484 - recall: 0.9949\n",
            "32/32 [==============================] - 8s 232ms/step - loss: 0.9116 - acc: 0.7676 - recall_1: 0.9897\n",
            "32/32 [==============================] - 8s 237ms/step - loss: 0.7861 - acc: 0.7644 - recall_3: 0.9923\n",
            "32/32 [==============================] - 8s 238ms/step - loss: 0.2459 - acc: 0.8862 - recall_5: 0.9179\n"
          ]
        },
        {
          "data": {
            "image/png": "[encoded data removed]",
            "text/plain": [
              "<Figure size 1440x720 with 1 Axes>"
            ]
          },
          "execution_count": 28,
          "metadata": {},
          "output_type": "execute_result"
        },
        {
          "data": {
            "image/png": "[encoded data removed]",
            "text/plain": [
              "<Figure size 1440x720 with 1 Axes>"
            ]
          },
          "metadata": {},
          "output_type": "display_data"
        }
      ],
      "source": [
        "from modelplotting import plot_models\n",
        "\n",
        "model_list = ['First_Model', 'Valid_Padding', 'More_Convolution_Layers', 'Image_Augmentation']\n",
        "plot_models(model_list, test_location='chest_xray/test', save_file='Wednesday_Models.png')"
      ]
    },
    {
      "cell_type": "code",
      "execution_count": null,
      "metadata": {},
      "outputs": [],
      "source": []
    }
  ],
  "metadata": {
    "accelerator": "TPU",
    "colab": {
      "authorship_tag": "ABX9TyNmW8dr6Daq9DWYqzP/y3J+",
      "include_colab_link": true,
      "name": "baseline model.ipynb",
      "provenance": []
    },
    "kernelspec": {
      "display_name": "Python 3",
      "name": "python3"
    },
    "language_info": {
      "codemirror_mode": {
        "name": "ipython",
        "version": 3
      },
      "file_extension": ".py",
      "mimetype": "text/x-python",
      "name": "python",
      "nbconvert_exporter": "python",
      "pygments_lexer": "ipython3",
      "version": "3.8.5"
    }
  },
  "nbformat": 4,
  "nbformat_minor": 0
}
