{
  "cells": [
    {
      "cell_type": "code",
      "execution_count": 1,
      "metadata": {
        "id": "RQxJp_dYBymh"
      },
      "outputs": [],
      "source": [
        "import numpy as np\n",
        "import pandas as pd\n",
        "import matplotlib.pyplot as plt\n",
        "import datetime\n",
        "\n",
        "import tensorflow as tf\n",
        "from tensorflow.keras import datasets, layers, models\n",
        "from tensorflow.keras.preprocessing.image import ImageDataGenerator\n",
        "from tensorflow.keras.callbacks import EarlyStopping\n",
        "\n",
        "%load_ext tensorboard"
      ]
    },
    {
      "cell_type": "code",
      "execution_count": 2,
      "metadata": {
        "colab": {
          "base_uri": "https://localhost:8080/"
        },
        "id": "g_4GchlqACCx",
        "outputId": "e85c2f23-e654-4011-dcb4-350d6c5626ef"
      },
      "outputs": [
        {
          "name": "stdout",
          "output_type": "stream",
          "text": [
            "Found 5022 images belonging to 2 classes.\n",
            "Found 210 images belonging to 2 classes.\n",
            "Found 624 images belonging to 2 classes.\n"
          ]
        }
      ],
      "source": [
        "idg = ImageDataGenerator(rescale=1./255)\n",
        "\n",
        "train_set = idg.flow_from_directory('chest_xray/train',\n",
        "                                                 target_size=(150, 150),\n",
        "                                                 batch_size=32,\n",
        "                                                 class_mode='binary',\n",
        "                                                 color_mode='grayscale')\n",
        "\n",
        "val_set = idg.flow_from_directory('chest_xray/val',\n",
        "                                          target_size=(150, 150),\n",
        "                                          batch_size=32,\n",
        "                                          class_mode='binary',\n",
        "                                          color_mode='grayscale')\n",
        "\n",
        "test_set = idg.flow_from_directory('chest_xray/test',\n",
        "                                            target_size=(150, 150),\n",
        "                                            batch_size=32,\n",
        "                                            class_mode='binary',\n",
        "                                            color_mode='grayscale')"
      ]
    },
    {
      "cell_type": "code",
      "execution_count": 3,
      "metadata": {
        "id": "X97AXkLykYhq"
      },
      "outputs": [],
      "source": [
        "# Setting paramaters on early stopping\n",
        "earlystop = EarlyStopping(monitor='val_loss',\n",
        "                          min_delta=0,\n",
        "                          patience=20,\n",
        "                          verbose=1,\n",
        "                          mode='min',\n",
        "                          restore_best_weights=True)\n",
        "\n",
        "log_dir = \"logs/fit/baseline\" + datetime.datetime.now().strftime(\"%Y%m%d-%H%M%S\")\n",
        "tensorboard_callback = tf.keras.callbacks.TensorBoard(log_dir=log_dir, histogram_freq=1)\n"
      ]
    },
    {
      "cell_type": "code",
      "execution_count": 4,
      "metadata": {},
      "outputs": [
        {
          "name": "stdout",
          "output_type": "stream",
          "text": [
            "1 Physical GPUs, 1 Logical GPUs\n"
          ]
        }
      ],
      "source": [
        "gpus = tf.config.list_physical_devices('GPU')\n",
        "if gpus:\n",
        "  try:\n",
        "    # Currently, memory growth needs to be the same across GPUs\n",
        "    for gpu in gpus:\n",
        "        tf.config.experimental.set_memory_growth(gpu, True)\n",
        "    logical_gpus = tf.config.list_logical_devices('GPU')\n",
        "    print(len(gpus), \"Physical GPUs,\", len(logical_gpus), \"Logical GPUs\")\n",
        "  except RuntimeError as e:\n",
        "    # Memory growth must be set before GPUs have been initialized\n",
        "    print(e)"
      ]
    },
    {
      "cell_type": "code",
      "execution_count": 5,
      "metadata": {
        "id": "-6U5DmDSQFo1"
      },
      "outputs": [
        {
          "name": "stdout",
          "output_type": "stream",
          "text": [
            "Model: \"sequential\"\n",
            "_________________________________________________________________\n",
            "Layer (type)                 Output Shape              Param #   \n",
            "=================================================================\n",
            "conv2d (Conv2D)              (None, 150, 150, 32)      1600      \n",
            "_________________________________________________________________\n",
            "max_pooling2d (MaxPooling2D) (None, 75, 75, 32)        0         \n",
            "_________________________________________________________________\n",
            "conv2d_1 (Conv2D)            (None, 75, 75, 64)        18496     \n",
            "_________________________________________________________________\n",
            "max_pooling2d_1 (MaxPooling2 (None, 37, 37, 64)        0         \n",
            "_________________________________________________________________\n",
            "flatten (Flatten)            (None, 87616)             0         \n",
            "_________________________________________________________________\n",
            "dense (Dense)                (None, 64)                5607488   \n",
            "_________________________________________________________________\n",
            "dense_1 (Dense)              (None, 32)                2080      \n",
            "_________________________________________________________________\n",
            "dense_2 (Dense)              (None, 1)                 33        \n",
            "=================================================================\n",
            "Total params: 5,629,697\n",
            "Trainable params: 5,629,697\n",
            "Non-trainable params: 0\n",
            "_________________________________________________________________\n",
            "Epoch 1/30\n",
            "100/100 [==============================] - 104s 998ms/step - loss: 0.3026 - acc: 0.8680 - recall: 0.9501 - val_loss: 0.3013 - val_acc: 0.8810 - val_recall: 0.9934\n",
            "Epoch 2/30\n",
            "100/100 [==============================] - 66s 657ms/step - loss: 0.1249 - acc: 0.9553 - recall: 0.9701 - val_loss: 0.1726 - val_acc: 0.9238 - val_recall: 0.9934\n",
            "Epoch 3/30\n",
            "100/100 [==============================] - 55s 545ms/step - loss: 0.0982 - acc: 0.9616 - recall: 0.9762 - val_loss: 0.1193 - val_acc: 0.9429 - val_recall: 0.9737\n",
            "Epoch 4/30\n",
            "100/100 [==============================] - 49s 487ms/step - loss: 0.1018 - acc: 0.9647 - recall: 0.9764 - val_loss: 0.1477 - val_acc: 0.9333 - val_recall: 0.9868\n",
            "Epoch 5/30\n",
            "100/100 [==============================] - 46s 463ms/step - loss: 0.0713 - acc: 0.9756 - recall: 0.9829 - val_loss: 0.1464 - val_acc: 0.9286 - val_recall: 0.9868\n",
            "Epoch 6/30\n",
            "100/100 [==============================] - 45s 455ms/step - loss: 0.0573 - acc: 0.9781 - recall: 0.9857 - val_loss: 0.1293 - val_acc: 0.9333 - val_recall: 0.9868\n",
            "Epoch 7/30\n",
            "100/100 [==============================] - 45s 454ms/step - loss: 0.0622 - acc: 0.9766 - recall: 0.9837 - val_loss: 0.0928 - val_acc: 0.9714 - val_recall: 0.9737\n",
            "Epoch 8/30\n",
            "100/100 [==============================] - 45s 454ms/step - loss: 0.0495 - acc: 0.9825 - recall: 0.9870 - val_loss: 0.1056 - val_acc: 0.9619 - val_recall: 0.9671\n",
            "Epoch 9/30\n",
            "100/100 [==============================] - 45s 446ms/step - loss: 0.0494 - acc: 0.9834 - recall: 0.9882 - val_loss: 0.2153 - val_acc: 0.9238 - val_recall: 0.9934\n",
            "Epoch 10/30\n",
            "100/100 [==============================] - 45s 452ms/step - loss: 0.0550 - acc: 0.9809 - recall: 0.9878 - val_loss: 0.0795 - val_acc: 0.9619 - val_recall: 0.9868\n",
            "Epoch 11/30\n",
            "100/100 [==============================] - 59s 595ms/step - loss: 0.0430 - acc: 0.9831 - recall: 0.9882 - val_loss: 0.1039 - val_acc: 0.9571 - val_recall: 0.9539\n",
            "Epoch 12/30\n",
            "100/100 [==============================] - 56s 562ms/step - loss: 0.0412 - acc: 0.9841 - recall: 0.9889 - val_loss: 0.1829 - val_acc: 0.9143 - val_recall: 0.9934\n",
            "Epoch 13/30\n",
            "100/100 [==============================] - 49s 494ms/step - loss: 0.0427 - acc: 0.9847 - recall: 0.9904 - val_loss: 0.0822 - val_acc: 0.9762 - val_recall: 0.9868\n",
            "Epoch 14/30\n",
            "100/100 [==============================] - 48s 476ms/step - loss: 0.0184 - acc: 0.9937 - recall: 0.9966 - val_loss: 0.0898 - val_acc: 0.9762 - val_recall: 0.9803\n",
            "Epoch 15/30\n",
            "100/100 [==============================] - 47s 473ms/step - loss: 0.0120 - acc: 0.9959 - recall: 0.9975 - val_loss: 0.0890 - val_acc: 0.9810 - val_recall: 0.9934\n",
            "Epoch 16/30\n",
            "100/100 [==============================] - 47s 468ms/step - loss: 0.0137 - acc: 0.9934 - recall: 0.9954 - val_loss: 0.0904 - val_acc: 0.9762 - val_recall: 0.9803\n",
            "Epoch 17/30\n",
            "100/100 [==============================] - 46s 463ms/step - loss: 0.0092 - acc: 0.9978 - recall: 0.9979 - val_loss: 0.1394 - val_acc: 0.9667 - val_recall: 0.9934\n",
            "Epoch 18/30\n",
            "100/100 [==============================] - 46s 460ms/step - loss: 0.0232 - acc: 0.9903 - recall: 0.9949 - val_loss: 0.1095 - val_acc: 0.9619 - val_recall: 0.9868\n",
            "Epoch 19/30\n",
            "100/100 [==============================] - 49s 492ms/step - loss: 0.0164 - acc: 0.9934 - recall: 0.9945 - val_loss: 0.2036 - val_acc: 0.9381 - val_recall: 0.9868\n",
            "Epoch 20/30\n",
            "100/100 [==============================] - 56s 559ms/step - loss: 0.0513 - acc: 0.9809 - recall: 0.9869 - val_loss: 0.1323 - val_acc: 0.9476 - val_recall: 0.9671\n",
            "Epoch 21/30\n",
            "100/100 [==============================] - 48s 480ms/step - loss: 0.0180 - acc: 0.9928 - recall: 0.9950 - val_loss: 0.1018 - val_acc: 0.9762 - val_recall: 0.9934\n",
            "Epoch 22/30\n",
            "100/100 [==============================] - 47s 468ms/step - loss: 0.0173 - acc: 0.9934 - recall: 0.9962 - val_loss: 0.0818 - val_acc: 0.9810 - val_recall: 0.9803\n",
            "Epoch 23/30\n",
            "100/100 [==============================] - 45s 447ms/step - loss: 0.0093 - acc: 0.9962 - recall: 0.9971 - val_loss: 0.0945 - val_acc: 0.9667 - val_recall: 0.9934\n",
            "Epoch 24/30\n",
            "100/100 [==============================] - 45s 448ms/step - loss: 0.0048 - acc: 0.9987 - recall: 0.9992 - val_loss: 0.0970 - val_acc: 0.9857 - val_recall: 0.9868\n",
            "Epoch 25/30\n",
            "100/100 [==============================] - 45s 454ms/step - loss: 0.0096 - acc: 0.9966 - recall: 0.9975 - val_loss: 0.1171 - val_acc: 0.9714 - val_recall: 0.9737\n",
            "Epoch 26/30\n",
            "100/100 [==============================] - 45s 452ms/step - loss: 0.0020 - acc: 0.9997 - recall: 0.9996 - val_loss: 0.1152 - val_acc: 0.9667 - val_recall: 0.9868\n",
            "Epoch 27/30\n",
            "100/100 [==============================] - 45s 451ms/step - loss: 3.0381e-04 - acc: 1.0000 - recall: 1.0000 - val_loss: 0.1203 - val_acc: 0.9667 - val_recall: 0.9868\n",
            "Epoch 28/30\n",
            "100/100 [==============================] - 46s 459ms/step - loss: 1.4024e-04 - acc: 1.0000 - recall: 1.0000 - val_loss: 0.1425 - val_acc: 0.9714 - val_recall: 0.9934\n",
            "Epoch 29/30\n",
            "100/100 [==============================] - 47s 468ms/step - loss: 1.2686e-04 - acc: 1.0000 - recall: 1.0000 - val_loss: 0.1334 - val_acc: 0.9714 - val_recall: 0.9934\n",
            "Epoch 30/30\n",
            "100/100 [==============================] - 46s 459ms/step - loss: 9.0825e-05 - acc: 1.0000 - recall: 1.0000 - val_loss: 0.1370 - val_acc: 0.9714 - val_recall: 0.9934\n",
            "Restoring model weights from the end of the best epoch.\n",
            "Epoch 00030: early stopping\n"
          ]
        }
      ],
      "source": [
        "# Building the model\n",
        "model1 = models.Sequential()\n",
        "model1.add(layers.Conv2D(32, 7, input_shape=(150,150,1), padding='same',\n",
        "                         activation='relu'))\n",
        "model1.add(layers.MaxPooling2D(2))\n",
        "model1.add(layers.Conv2D(64, 3, padding='same', activation='relu'))\n",
        "model1.add(layers.MaxPooling2D(2))\n",
        "model1.add(layers.Flatten())\n",
        "model1.add(layers.Dense(64, activation='relu'))\n",
        "model1.add(layers.Dense(32, activation='relu'))\n",
        "model1.add(layers.Dense(1, activation='sigmoid'))\n",
        "model1.compile(optimizer=\"adam\", loss=\"binary_crossentropy\", metrics=['acc', tf.metrics.Recall()])\n",
        "model1.summary()\n",
        "\n",
        "# Fitting the model\n",
        "history1 = model1.fit(train_set,\n",
        "                    validation_data=val_set,\n",
        "                    steps_per_epoch=100,\n",
        "                    epochs=30,\n",
        "                    callbacks=[earlystop, tensorboard_callback]\n",
        "                    )"
      ]
    },
    {
      "cell_type": "code",
      "execution_count": null,
      "metadata": {},
      "outputs": [
        {
          "name": "stdout",
          "output_type": "stream",
          "text": [
            "20/20 [==============================] - 18s 936ms/step - loss: 3.1034 - acc: 0.7484 - recall: 0.9949\n"
          ]
        },
        {
          "data": {
            "text/plain": [
              "[3.1034023761749268, 0.7483974099159241, 0.9948717951774597]"
            ]
          },
          "execution_count": 8,
          "metadata": {},
          "output_type": "execute_result"
        }
      ],
      "source": [
        "model1.evaluate(test_set)"
      ]
    },
    {
      "cell_type": "code",
      "execution_count": 10,
      "metadata": {
        "id": "-6U5DmDSQFo1"
      },
      "outputs": [
        {
          "name": "stdout",
          "output_type": "stream",
          "text": [
            "Model: \"sequential_1\"\n",
            "_________________________________________________________________\n",
            "Layer (type)                 Output Shape              Param #   \n",
            "=================================================================\n",
            "conv2d_2 (Conv2D)            (None, 144, 144, 32)      1600      \n",
            "_________________________________________________________________\n",
            "max_pooling2d_2 (MaxPooling2 (None, 72, 72, 32)        0         \n",
            "_________________________________________________________________\n",
            "conv2d_3 (Conv2D)            (None, 70, 70, 64)        18496     \n",
            "_________________________________________________________________\n",
            "max_pooling2d_3 (MaxPooling2 (None, 35, 35, 64)        0         \n",
            "_________________________________________________________________\n",
            "flatten_1 (Flatten)          (None, 78400)             0         \n",
            "_________________________________________________________________\n",
            "dense_3 (Dense)              (None, 64)                5017664   \n",
            "_________________________________________________________________\n",
            "dense_4 (Dense)              (None, 32)                2080      \n",
            "_________________________________________________________________\n",
            "dense_5 (Dense)              (None, 1)                 33        \n",
            "=================================================================\n",
            "Total params: 5,039,873\n",
            "Trainable params: 5,039,873\n",
            "Non-trainable params: 0\n",
            "_________________________________________________________________\n"
          ]
        }
      ],
      "source": [
        "# Building the model\n",
        "second_model = models.Sequential()\n",
        "second_model.add(layers.Conv2D(32, 7, input_shape=(150,150,1), padding='valid',\n",
        "                         activation='relu'))\n",
        "second_model.add(layers.MaxPooling2D(2))\n",
        "second_model.add(layers.Conv2D(64, 3, padding='valid', activation='relu'))\n",
        "second_model.add(layers.MaxPooling2D(2))\n",
        "second_model.add(layers.Flatten())\n",
        "second_model.add(layers.Dense(64, activation='relu'))\n",
        "second_model.add(layers.Dense(32, activation='relu'))\n",
        "second_model.add(layers.Dense(1, activation='sigmoid'))\n",
        "second_model.compile(optimizer=\"adam\", loss=\"binary_crossentropy\", metrics=['acc', tf.metrics.Recall()])\n",
        "second_model.summary()\n",
        "\n",
        "# Fitting the model\n",
        "history2 = second_model.fit(train_set,\n",
        "                    validation_data=val_set,\n",
        "                    steps_per_epoch=100,\n",
        "                    epochs=30,\n",
        "                    callbacks=[earlystop]\n",
        "                    )"
      ]
    },
    {
      "cell_type": "code",
      "execution_count": 12,
      "metadata": {},
      "outputs": [
        {
          "name": "stdout",
          "output_type": "stream",
          "text": [
            "20/20 [==============================] - 16s 827ms/step - loss: 0.9116 - acc: 0.7676 - recall_1: 0.9897\n"
          ]
        },
        {
          "data": {
            "text/plain": [
              "[0.9116288423538208, 0.7676281929016113, 0.9897435903549194]"
            ]
          },
          "execution_count": 12,
          "metadata": {},
          "output_type": "execute_result"
        }
      ],
      "source": [
        "second_model.evaluate(test_set)"
      ]
    },
    {
      "cell_type": "code",
      "execution_count": 1,
      "metadata": {
        "id": "-6U5DmDSQFo1"
      },
      "outputs": [
        {
          "ename": "NameError",
          "evalue": "name 'models' is not defined",
          "output_type": "error",
          "traceback": [
            "\u001b[0;31m---------------------------------------------------------------------------\u001b[0m",
            "\u001b[0;31mNameError\u001b[0m                                 Traceback (most recent call last)",
            "\u001b[0;32m<ipython-input-1-a83e65cb4fe5>\u001b[0m in \u001b[0;36m<module>\u001b[0;34m\u001b[0m\n\u001b[1;32m      1\u001b[0m \u001b[0;31m# Building the model\u001b[0m\u001b[0;34m\u001b[0m\u001b[0;34m\u001b[0m\u001b[0;34m\u001b[0m\u001b[0m\n\u001b[0;32m----> 2\u001b[0;31m \u001b[0mthird_model\u001b[0m \u001b[0;34m=\u001b[0m \u001b[0mmodels\u001b[0m\u001b[0;34m.\u001b[0m\u001b[0mSequential\u001b[0m\u001b[0;34m(\u001b[0m\u001b[0;34m)\u001b[0m\u001b[0;34m\u001b[0m\u001b[0;34m\u001b[0m\u001b[0m\n\u001b[0m\u001b[1;32m      3\u001b[0m third_model.add(layers.Conv2D(32, 7, input_shape=(150,150,1), padding='valid',\n\u001b[1;32m      4\u001b[0m                          activation='relu'))\n\u001b[1;32m      5\u001b[0m \u001b[0mthird_model\u001b[0m\u001b[0;34m.\u001b[0m\u001b[0madd\u001b[0m\u001b[0;34m(\u001b[0m\u001b[0mlayers\u001b[0m\u001b[0;34m.\u001b[0m\u001b[0mMaxPooling2D\u001b[0m\u001b[0;34m(\u001b[0m\u001b[0;36m2\u001b[0m\u001b[0;34m)\u001b[0m\u001b[0;34m)\u001b[0m\u001b[0;34m\u001b[0m\u001b[0;34m\u001b[0m\u001b[0m\n",
            "\u001b[0;31mNameError\u001b[0m: name 'models' is not defined"
          ]
        }
      ],
      "source": [
        "# Building the model\n",
        "third_model = models.Sequential()\n",
        "third_model.add(layers.Conv2D(32, 7, input_shape=(150,150,1), padding='valid',\n",
        "                         activation='relu'))\n",
        "third_model.add(layers.MaxPooling2D(2))\n",
        "third_model.add(layers.Conv2D(64, 3, padding='same', activation='relu'))\n",
        "third_model.add(layers.MaxPooling2D(2))\n",
        "third_model.add(layers.Conv2D(64, 3, padding='same', activation='relu'))\n",
        "third_model.add(layers.MaxPooling2D(3))\n",
        "third_model.add(layers.Flatten())\n",
        "third_model.add(layers.Dense(64, activation='relu'))\n",
        "third_model.add(layers.Dense(1, activation='sigmoid'))\n",
        "third_model.compile(optimizer=\"adam\", loss=\"binary_crossentropy\", metrics=['acc', tf.metrics.Recall()])\n",
        "third_model.summary()\n",
        "\n",
        "# Fitting the model\n",
        "history3 = third_model.fit(train_set,\n",
        "                    validation_data=val_set,\n",
        "                    steps_per_epoch=100,\n",
        "                    epochs=30,\n",
        "                    callbacks=[earlystop, tensorboard_callback]\n",
        "                    )"
      ]
    },
    {
      "cell_type": "code",
      "execution_count": 16,
      "metadata": {},
      "outputs": [
        {
          "name": "stdout",
          "output_type": "stream",
          "text": [
            "20/20 [==============================] - 15s 767ms/step - loss: 0.7861 - acc: 0.7644 - recall_3: 0.9923\n"
          ]
        },
        {
          "data": {
            "text/plain": [
              "[0.7861124277114868, 0.7644230723381042, 0.9923076629638672]"
            ]
          },
          "execution_count": 16,
          "metadata": {},
          "output_type": "execute_result"
        }
      ],
      "source": [
        "third_model.evaluate(test_set)"
      ]
    },
    {
      "cell_type": "code",
      "execution_count": 18,
      "metadata": {
        "id": "OI52jcQ2L5bx"
      },
      "outputs": [
        {
          "name": "stderr",
          "output_type": "stream",
          "text": [
            "/home/nathaniel/anaconda3/envs/Better-learn/lib/python3.8/site-packages/sklearn/utils/validation.py:67: FutureWarning: Pass classes=[0 1], y=[0 0 0 ... 1 1 1] as keyword args. From version 0.25 passing these as positional arguments will result in an error\n",
            "  warnings.warn(\"Pass {} as keyword args. From version 0.25 \"\n"
          ]
        },
        {
          "name": "stdout",
          "output_type": "stream",
          "text": [
            "Model: \"sequential_4\"\n",
            "_________________________________________________________________\n",
            "Layer (type)                 Output Shape              Param #   \n",
            "=================================================================\n",
            "conv2d_9 (Conv2D)            (None, 150, 150, 32)      1600      \n",
            "_________________________________________________________________\n",
            "max_pooling2d_9 (MaxPooling2 (None, 75, 75, 32)        0         \n",
            "_________________________________________________________________\n",
            "conv2d_10 (Conv2D)           (None, 75, 75, 64)        18496     \n",
            "_________________________________________________________________\n",
            "max_pooling2d_10 (MaxPooling (None, 37, 37, 64)        0         \n",
            "_________________________________________________________________\n",
            "flatten_4 (Flatten)          (None, 87616)             0         \n",
            "_________________________________________________________________\n",
            "dense_10 (Dense)             (None, 64)                5607488   \n",
            "_________________________________________________________________\n",
            "dense_11 (Dense)             (None, 32)                2080      \n",
            "_________________________________________________________________\n",
            "dense_12 (Dense)             (None, 1)                 33        \n",
            "=================================================================\n",
            "Total params: 5,629,697\n",
            "Trainable params: 5,629,697\n",
            "Non-trainable params: 0\n",
            "_________________________________________________________________\n",
            "WARNING:tensorflow:From /home/nathaniel/anaconda3/envs/Better-learn/lib/python3.8/site-packages/tensorflow/python/ops/array_ops.py:5043: calling gather (from tensorflow.python.ops.array_ops) with validate_indices is deprecated and will be removed in a future version.\n",
            "Instructions for updating:\n",
            "The `validate_indices` argument has no effect. Indices are always validated on CPU and never validated on GPU.\n",
            "Epoch 1/30\n",
            "100/100 [==============================] - 106s 1s/step - loss: 0.3114 - accuracy: 0.8481 - recall_4: 0.8309 - val_loss: 0.1810 - val_accuracy: 0.9286 - val_recall_4: 0.9211\n",
            "Epoch 2/30\n",
            "100/100 [==============================] - 68s 677ms/step - loss: 0.1379 - accuracy: 0.9466 - recall_4: 0.9445 - val_loss: 0.1888 - val_accuracy: 0.9238 - val_recall_4: 0.9803\n",
            "Epoch 3/30\n",
            "100/100 [==============================] - 56s 562ms/step - loss: 0.1360 - accuracy: 0.9522 - recall_4: 0.9540 - val_loss: 0.1646 - val_accuracy: 0.9476 - val_recall_4: 0.9276\n",
            "Epoch 4/30\n",
            "100/100 [==============================] - 65s 652ms/step - loss: 0.0919 - accuracy: 0.9619 - recall_4: 0.9596 - val_loss: 0.0965 - val_accuracy: 0.9429 - val_recall_4: 0.9868\n",
            "Epoch 5/30\n",
            "100/100 [==============================] - 56s 565ms/step - loss: 0.0809 - accuracy: 0.9675 - recall_4: 0.9651 - val_loss: 0.0865 - val_accuracy: 0.9714 - val_recall_4: 0.9803\n",
            "Epoch 6/30\n",
            "100/100 [==============================] - 52s 518ms/step - loss: 0.0932 - accuracy: 0.9638 - recall_4: 0.9615 - val_loss: 0.0868 - val_accuracy: 0.9524 - val_recall_4: 0.9737\n",
            "Epoch 7/30\n",
            "100/100 [==============================] - 48s 474ms/step - loss: 0.0698 - accuracy: 0.9731 - recall_4: 0.9706 - val_loss: 0.0823 - val_accuracy: 0.9667 - val_recall_4: 0.9737\n",
            "Epoch 8/30\n",
            "100/100 [==============================] - 50s 504ms/step - loss: 0.0599 - accuracy: 0.9766 - recall_4: 0.9739 - val_loss: 0.0987 - val_accuracy: 0.9714 - val_recall_4: 0.9605\n",
            "Epoch 9/30\n",
            "100/100 [==============================] - 48s 482ms/step - loss: 0.0442 - accuracy: 0.9831 - recall_4: 0.9806 - val_loss: 0.1249 - val_accuracy: 0.9524 - val_recall_4: 0.9934\n",
            "Epoch 10/30\n",
            "100/100 [==============================] - 46s 462ms/step - loss: 0.0540 - accuracy: 0.9787 - recall_4: 0.9763 - val_loss: 0.0713 - val_accuracy: 0.9667 - val_recall_4: 0.9737\n",
            "Epoch 11/30\n",
            "100/100 [==============================] - 46s 456ms/step - loss: 0.0388 - accuracy: 0.9834 - recall_4: 0.9810 - val_loss: 0.0986 - val_accuracy: 0.9619 - val_recall_4: 0.9934\n",
            "Epoch 12/30\n",
            "100/100 [==============================] - 45s 452ms/step - loss: 0.0427 - accuracy: 0.9847 - recall_4: 0.9839 - val_loss: 0.1509 - val_accuracy: 0.9333 - val_recall_4: 0.9342\n",
            "Epoch 13/30\n",
            "100/100 [==============================] - 45s 446ms/step - loss: 0.0442 - accuracy: 0.9828 - recall_4: 0.9803 - val_loss: 0.1518 - val_accuracy: 0.9524 - val_recall_4: 0.9737\n",
            "Epoch 14/30\n",
            "100/100 [==============================] - 45s 447ms/step - loss: 0.0657 - accuracy: 0.9750 - recall_4: 0.9726 - val_loss: 0.1157 - val_accuracy: 0.9571 - val_recall_4: 0.9605\n",
            "Epoch 15/30\n",
            "100/100 [==============================] - 44s 443ms/step - loss: 0.0564 - accuracy: 0.9762 - recall_4: 0.9740 - val_loss: 0.0693 - val_accuracy: 0.9667 - val_recall_4: 0.9803\n",
            "Epoch 16/30\n",
            "100/100 [==============================] - 44s 441ms/step - loss: 0.0328 - accuracy: 0.9862 - recall_4: 0.9857 - val_loss: 0.0733 - val_accuracy: 0.9714 - val_recall_4: 0.9671\n",
            "Epoch 17/30\n",
            "100/100 [==============================] - 45s 448ms/step - loss: 0.0240 - accuracy: 0.9903 - recall_4: 0.9885 - val_loss: 0.0772 - val_accuracy: 0.9667 - val_recall_4: 0.9803\n",
            "Epoch 18/30\n",
            "100/100 [==============================] - 44s 443ms/step - loss: 0.0112 - accuracy: 0.9953 - recall_4: 0.9949 - val_loss: 0.1296 - val_accuracy: 0.9571 - val_recall_4: 0.9868\n",
            "Epoch 19/30\n",
            "100/100 [==============================] - 45s 450ms/step - loss: 0.0145 - accuracy: 0.9944 - recall_4: 0.9936 - val_loss: 0.1292 - val_accuracy: 0.9714 - val_recall_4: 0.9934\n",
            "Epoch 20/30\n",
            "100/100 [==============================] - 45s 449ms/step - loss: 0.0047 - accuracy: 0.9978 - recall_4: 0.9975 - val_loss: 0.1886 - val_accuracy: 0.9524 - val_recall_4: 0.9934\n",
            "Epoch 21/30\n",
            "100/100 [==============================] - 45s 450ms/step - loss: 0.0027 - accuracy: 0.9991 - recall_4: 0.9987 - val_loss: 0.1590 - val_accuracy: 0.9619 - val_recall_4: 0.9868\n",
            "Epoch 22/30\n",
            "100/100 [==============================] - 47s 465ms/step - loss: 0.0015 - accuracy: 0.9994 - recall_4: 0.9991 - val_loss: 0.1514 - val_accuracy: 0.9667 - val_recall_4: 0.9868\n",
            "Epoch 23/30\n",
            "100/100 [==============================] - 45s 447ms/step - loss: 0.0012 - accuracy: 0.9994 - recall_4: 0.9992 - val_loss: 0.1492 - val_accuracy: 0.9667 - val_recall_4: 0.9868\n",
            "Epoch 24/30\n",
            "100/100 [==============================] - 45s 447ms/step - loss: 0.0038 - accuracy: 0.9984 - recall_4: 0.9979 - val_loss: 0.1265 - val_accuracy: 0.9571 - val_recall_4: 0.9671\n",
            "Epoch 25/30\n",
            "100/100 [==============================] - 45s 455ms/step - loss: 0.0618 - accuracy: 0.9787 - recall_4: 0.9761 - val_loss: 0.1291 - val_accuracy: 0.9619 - val_recall_4: 0.9934\n",
            "Epoch 26/30\n",
            "100/100 [==============================] - 45s 450ms/step - loss: 0.0369 - accuracy: 0.9856 - recall_4: 0.9845 - val_loss: 0.1125 - val_accuracy: 0.9714 - val_recall_4: 0.9737\n",
            "Epoch 27/30\n",
            "100/100 [==============================] - 45s 449ms/step - loss: 0.0124 - accuracy: 0.9950 - recall_4: 0.9949 - val_loss: 0.1035 - val_accuracy: 0.9667 - val_recall_4: 0.9803\n",
            "Epoch 28/30\n",
            "100/100 [==============================] - 44s 445ms/step - loss: 0.0068 - accuracy: 0.9981 - recall_4: 0.9983 - val_loss: 0.1298 - val_accuracy: 0.9619 - val_recall_4: 0.9868\n",
            "Epoch 29/30\n",
            "100/100 [==============================] - 47s 465ms/step - loss: 0.0032 - accuracy: 0.9987 - recall_4: 0.9987 - val_loss: 0.1376 - val_accuracy: 0.9667 - val_recall_4: 0.9934\n",
            "Epoch 30/30\n",
            "100/100 [==============================] - 46s 462ms/step - loss: 0.0029 - accuracy: 0.9991 - recall_4: 0.9987 - val_loss: 0.1447 - val_accuracy: 0.9619 - val_recall_4: 0.9868\n"
          ]
        }
      ],
      "source": [
        "from sklearn.utils.class_weight import compute_class_weight\n",
        "\n",
        "# Calculating the class weights\n",
        "weights = compute_class_weight('balanced', np.unique(train_set.labels),\n",
        "                               train_set.labels)\n",
        "# Zipping the class weights into a dictionary\n",
        "weights = dict(zip(np.unique(train_set.labels), weights))\n",
        "# Building the model\n",
        "weighted_model = models.Sequential()\n",
        "weighted_model.add(layers.Conv2D(32, 7, input_shape=(150,150,1), padding='same',\n",
        "                         activation='relu'))\n",
        "weighted_model.add(layers.MaxPooling2D(2))\n",
        "weighted_model.add(layers.Conv2D(64, 3, padding='same', activation='relu'))\n",
        "weighted_model.add(layers.MaxPooling2D(2))\n",
        "weighted_model.add(layers.Flatten())\n",
        "weighted_model.add(layers.Dense(64, activation='relu'))\n",
        "weighted_model.add(layers.Dense(32, activation='relu'))\n",
        "weighted_model.add(layers.Dense(1, activation='sigmoid'))\n",
        "# Compiling the model and looking at the summary\n",
        "weighted_model.compile(loss='binary_crossentropy',\n",
        "              optimizer='adam',\n",
        "              metrics=['accuracy', tf.metrics.Recall()])\n",
        "weighted_model.summary()\n",
        "# Fitting the model\n",
        "history3 = weighted_model.fit(train_set,\n",
        "                    validation_data=val_set,\n",
        "                    steps_per_epoch=100,\n",
        "                    epochs=30,\n",
        "                    class_weight=weights,\n",
        "                    callbacks=[earlystop, tensorboard_callback]\n",
        "                    )"
      ]
    },
    {
      "cell_type": "code",
      "execution_count": 19,
      "metadata": {},
      "outputs": [
        {
          "name": "stdout",
          "output_type": "stream",
          "text": [
            "20/20 [==============================] - 16s 811ms/step - loss: 3.2626 - accuracy: 0.7292 - recall_4: 0.9923\n"
          ]
        },
        {
          "data": {
            "text/plain": [
              "[3.2625746726989746, 0.7291666865348816, 0.9923076629638672]"
            ]
          },
          "execution_count": 19,
          "metadata": {},
          "output_type": "execute_result"
        }
      ],
      "source": [
        "weighted_model.evaluate(test_set)"
      ]
    },
    {
      "cell_type": "code",
      "execution_count": 4,
      "metadata": {},
      "outputs": [
        {
          "name": "stdout",
          "output_type": "stream",
          "text": [
            "Found 5022 images belonging to 2 classes.\n",
            "Model: \"sequential\"\n",
            "_________________________________________________________________\n",
            "Layer (type)                 Output Shape              Param #   \n",
            "=================================================================\n",
            "conv2d (Conv2D)              (None, 144, 144, 32)      1600      \n",
            "_________________________________________________________________\n",
            "max_pooling2d (MaxPooling2D) (None, 72, 72, 32)        0         \n",
            "_________________________________________________________________\n",
            "conv2d_1 (Conv2D)            (None, 72, 72, 64)        18496     \n",
            "_________________________________________________________________\n",
            "max_pooling2d_1 (MaxPooling2 (None, 36, 36, 64)        0         \n",
            "_________________________________________________________________\n",
            "conv2d_2 (Conv2D)            (None, 36, 36, 64)        36928     \n",
            "_________________________________________________________________\n",
            "max_pooling2d_2 (MaxPooling2 (None, 12, 12, 64)        0         \n",
            "_________________________________________________________________\n",
            "flatten (Flatten)            (None, 9216)              0         \n",
            "_________________________________________________________________\n",
            "dense (Dense)                (None, 64)                589888    \n",
            "_________________________________________________________________\n",
            "dense_1 (Dense)              (None, 1)                 65        \n",
            "=================================================================\n",
            "Total params: 646,977\n",
            "Trainable params: 646,977\n",
            "Non-trainable params: 0\n",
            "_________________________________________________________________\n",
            "Epoch 1/30\n",
            "100/100 [==============================] - 130s 1s/step - loss: 0.5915 - acc: 0.7417 - recall: 0.9871 - val_loss: 0.5360 - val_acc: 0.7238 - val_recall: 1.0000\n",
            "Epoch 2/30\n",
            "100/100 [==============================] - 73s 729ms/step - loss: 0.4666 - acc: 0.7520 - recall: 0.9150 - val_loss: 0.4182 - val_acc: 0.7667 - val_recall: 0.9276\n",
            "Epoch 3/30\n",
            "100/100 [==============================] - 60s 597ms/step - loss: 0.3942 - acc: 0.8021 - recall: 0.8855 - val_loss: 0.3069 - val_acc: 0.8714 - val_recall: 0.9211\n",
            "Epoch 4/30\n",
            "100/100 [==============================] - 57s 571ms/step - loss: 0.3758 - acc: 0.8228 - recall: 0.8973 - val_loss: 0.3831 - val_acc: 0.8048 - val_recall: 0.9803\n",
            "Epoch 5/30\n",
            "100/100 [==============================] - 56s 556ms/step - loss: 0.3850 - acc: 0.8293 - recall: 0.9016 - val_loss: 0.3406 - val_acc: 0.8429 - val_recall: 0.9342\n",
            "Epoch 6/30\n",
            "100/100 [==============================] - 59s 590ms/step - loss: 0.3394 - acc: 0.8428 - recall: 0.9016 - val_loss: 0.3173 - val_acc: 0.8333 - val_recall: 0.9408\n",
            "Epoch 7/30\n",
            "100/100 [==============================] - 67s 672ms/step - loss: 0.3336 - acc: 0.8590 - recall: 0.9109 - val_loss: 0.2967 - val_acc: 0.8952 - val_recall: 0.8947\n",
            "Epoch 8/30\n",
            "100/100 [==============================] - 68s 674ms/step - loss: 0.2919 - acc: 0.8781 - recall: 0.9215 - val_loss: 0.2700 - val_acc: 0.8905 - val_recall: 0.8882\n",
            "Epoch 9/30\n",
            "100/100 [==============================] - 57s 570ms/step - loss: 0.2871 - acc: 0.8709 - recall: 0.9143 - val_loss: 0.2624 - val_acc: 0.8905 - val_recall: 0.8684\n",
            "Epoch 10/30\n",
            "100/100 [==============================] - 60s 596ms/step - loss: 0.3045 - acc: 0.8699 - recall: 0.9186 - val_loss: 0.2296 - val_acc: 0.9048 - val_recall: 0.9605\n",
            "Epoch 11/30\n",
            "100/100 [==============================] - 62s 622ms/step - loss: 0.2765 - acc: 0.8788 - recall: 0.9194 - val_loss: 0.2525 - val_acc: 0.9000 - val_recall: 0.8882\n",
            "Epoch 12/30\n",
            "100/100 [==============================] - 57s 569ms/step - loss: 0.2540 - acc: 0.8968 - recall: 0.9342 - val_loss: 0.2641 - val_acc: 0.8762 - val_recall: 0.8553\n",
            "Epoch 13/30\n",
            "100/100 [==============================] - 54s 541ms/step - loss: 0.2608 - acc: 0.8884 - recall: 0.9245 - val_loss: 0.2401 - val_acc: 0.9095 - val_recall: 0.9539\n",
            "Epoch 14/30\n",
            "100/100 [==============================] - 54s 544ms/step - loss: 0.2591 - acc: 0.8959 - recall: 0.9297 - val_loss: 0.2101 - val_acc: 0.9381 - val_recall: 0.9737\n",
            "Epoch 15/30\n",
            "100/100 [==============================] - 55s 551ms/step - loss: 0.2384 - acc: 0.8956 - recall: 0.9283 - val_loss: 0.2559 - val_acc: 0.8857 - val_recall: 0.9342\n",
            "Epoch 16/30\n",
            "100/100 [==============================] - 54s 539ms/step - loss: 0.2497 - acc: 0.8984 - recall: 0.9297 - val_loss: 0.2495 - val_acc: 0.9000 - val_recall: 0.9803\n",
            "Epoch 17/30\n",
            "100/100 [==============================] - 52s 524ms/step - loss: 0.2181 - acc: 0.9062 - recall: 0.9421 - val_loss: 0.2114 - val_acc: 0.9333 - val_recall: 0.9803\n",
            "Epoch 18/30\n",
            "100/100 [==============================] - 53s 527ms/step - loss: 0.2449 - acc: 0.9049 - recall: 0.9413 - val_loss: 0.2070 - val_acc: 0.9190 - val_recall: 0.9342\n",
            "Epoch 19/30\n",
            "100/100 [==============================] - 52s 521ms/step - loss: 0.2259 - acc: 0.9009 - recall: 0.9303 - val_loss: 0.2260 - val_acc: 0.8952 - val_recall: 0.8816\n",
            "Epoch 20/30\n",
            "100/100 [==============================] - 53s 527ms/step - loss: 0.2096 - acc: 0.9106 - recall: 0.9333 - val_loss: 0.2043 - val_acc: 0.9381 - val_recall: 0.9803\n",
            "Epoch 21/30\n",
            "100/100 [==============================] - 53s 530ms/step - loss: 0.2156 - acc: 0.9109 - recall: 0.9378 - val_loss: 0.2217 - val_acc: 0.9095 - val_recall: 0.9013\n",
            "Epoch 22/30\n",
            "100/100 [==============================] - 55s 549ms/step - loss: 0.2019 - acc: 0.9124 - recall: 0.9334 - val_loss: 0.1824 - val_acc: 0.9381 - val_recall: 0.9605\n",
            "Epoch 23/30\n",
            "100/100 [==============================] - 54s 539ms/step - loss: 0.2117 - acc: 0.9187 - recall: 0.9410 - val_loss: 0.1893 - val_acc: 0.9381 - val_recall: 0.9342\n",
            "Epoch 24/30\n",
            "100/100 [==============================] - 54s 537ms/step - loss: 0.2146 - acc: 0.9118 - recall: 0.9378 - val_loss: 0.1863 - val_acc: 0.9333 - val_recall: 0.9474\n",
            "Epoch 25/30\n",
            "100/100 [==============================] - 54s 538ms/step - loss: 0.1987 - acc: 0.9231 - recall: 0.9461 - val_loss: 0.2005 - val_acc: 0.9286 - val_recall: 0.9276\n",
            "Epoch 26/30\n",
            "100/100 [==============================] - 53s 534ms/step - loss: 0.1920 - acc: 0.9246 - recall: 0.9443 - val_loss: 0.1836 - val_acc: 0.9476 - val_recall: 0.9605\n",
            "Epoch 27/30\n",
            "100/100 [==============================] - 52s 516ms/step - loss: 0.1799 - acc: 0.9250 - recall: 0.9453 - val_loss: 0.1837 - val_acc: 0.9095 - val_recall: 0.9211\n",
            "Epoch 28/30\n",
            "100/100 [==============================] - 53s 528ms/step - loss: 0.1884 - acc: 0.9303 - recall: 0.9484 - val_loss: 0.1833 - val_acc: 0.9333 - val_recall: 0.9605\n",
            "Epoch 29/30\n",
            "100/100 [==============================] - 51s 514ms/step - loss: 0.1875 - acc: 0.9228 - recall: 0.9453 - val_loss: 0.1782 - val_acc: 0.9381 - val_recall: 0.9342\n",
            "Epoch 30/30\n",
            "100/100 [==============================] - 53s 527ms/step - loss: 0.1926 - acc: 0.9187 - recall: 0.9387 - val_loss: 0.1862 - val_acc: 0.9476 - val_recall: 0.9671\n"
          ]
        }
      ],
      "source": [
        "# This is the same as the best previous model with image augmentation\n",
        "augment_gen = ImageDataGenerator(rescale=1./255,\n",
        "                                   rotation_range=40,\n",
        "                                   width_shift_range=.2,\n",
        "                                   height_shift_range=.2,\n",
        "                                   shear_range=.2,\n",
        "                                   zoom_range=.2,\n",
        "                                   horizontal_flip=False,\n",
        "                                   brightness_range=[.5, 1.5])\n",
        "\n",
        "augment_set = augment_gen.flow_from_directory('chest_xray/train',\n",
        "                                                 target_size=(150, 150),\n",
        "                                                 batch_size=32,\n",
        "                                                 class_mode='binary',\n",
        "                                                 color_mode='grayscale')\n",
        "\n",
        "augmented = models.Sequential()\n",
        "augmented.add(layers.Conv2D(32, 7, padding='valid', input_shape=(150,150,1), activation='relu'))\n",
        "augmented.add(layers.MaxPooling2D(2))\n",
        "augmented.add(layers.Conv2D(64, 3, padding='same', activation='relu'))\n",
        "augmented.add(layers.MaxPooling2D(2))\n",
        "augmented.add(layers.Conv2D(64, 3, padding='same', activation='relu'))\n",
        "augmented.add(layers.MaxPooling2D(3))\n",
        "augmented.add(layers.Flatten())\n",
        "augmented.add(layers.Dense(64, activation='relu'))\n",
        "augmented.add(layers.Dense(1, activation='sigmoid'))\n",
        "augmented.compile(optimizer=\"adam\", loss=\"binary_crossentropy\", metrics=['acc', tf.metrics.Recall()])\n",
        "augmented.summary()\n",
        "\n",
        "# Fitting the model\n",
        "historyaug = augmented.fit(augment_set,\n",
        "                    validation_data=val_set,\n",
        "                    steps_per_epoch=100,\n",
        "                    epochs=30,\n",
        "                    callbacks=[earlystop])"
      ]
    },
    {
      "cell_type": "code",
      "execution_count": null,
      "metadata": {},
      "outputs": [],
      "source": []
    },
    {
      "cell_type": "code",
      "execution_count": 5,
      "metadata": {},
      "outputs": [
        {
          "name": "stdout",
          "output_type": "stream",
          "text": [
            "20/20 [==============================] - 16s 841ms/step - loss: 0.5336 - acc: 0.7917 - recall: 0.9795\n"
          ]
        },
        {
          "data": {
            "text/plain": [
              "[0.5336101651191711, 0.7916666865348816, 0.9794871807098389]"
            ]
          },
          "execution_count": 5,
          "metadata": {},
          "output_type": "execute_result"
        }
      ],
      "source": [
        "augmented.evaluate(test_set)"
      ]
    },
    {
      "cell_type": "code",
      "execution_count": 21,
      "metadata": {},
      "outputs": [
        {
          "name": "stdout",
          "output_type": "stream",
          "text": [
            "Model: \"sequential_5\"\n",
            "_________________________________________________________________\n",
            "Layer (type)                 Output Shape              Param #   \n",
            "=================================================================\n",
            "conv2d_17 (Conv2D)           (None, 144, 144, 32)      1600      \n",
            "_________________________________________________________________\n",
            "max_pooling2d_17 (MaxPooling (None, 72, 72, 32)        0         \n",
            "_________________________________________________________________\n",
            "conv2d_18 (Conv2D)           (None, 70, 70, 64)        18496     \n",
            "_________________________________________________________________\n",
            "max_pooling2d_18 (MaxPooling (None, 35, 35, 64)        0         \n",
            "_________________________________________________________________\n",
            "conv2d_19 (Conv2D)           (None, 35, 35, 64)        36928     \n",
            "_________________________________________________________________\n",
            "max_pooling2d_19 (MaxPooling (None, 17, 17, 64)        0         \n",
            "_________________________________________________________________\n",
            "conv2d_20 (Conv2D)           (None, 17, 17, 64)        36928     \n",
            "_________________________________________________________________\n",
            "max_pooling2d_20 (MaxPooling (None, 4, 4, 64)          0         \n",
            "_________________________________________________________________\n",
            "flatten_5 (Flatten)          (None, 1024)              0         \n",
            "_________________________________________________________________\n",
            "dense_10 (Dense)             (None, 64)                65600     \n",
            "_________________________________________________________________\n",
            "dense_11 (Dense)             (None, 32)                2080      \n",
            "_________________________________________________________________\n",
            "dense_12 (Dense)             (None, 1)                 33        \n",
            "=================================================================\n",
            "Total params: 161,665\n",
            "Trainable params: 161,665\n",
            "Non-trainable params: 0\n",
            "_________________________________________________________________\n",
            "Epoch 1/30\n",
            "100/100 [==============================] - 108s 1s/step - loss: 0.5844 - acc: 0.7414 - recall_5: 1.0000 - val_loss: 0.5698 - val_acc: 0.7238 - val_recall_5: 1.0000\n",
            "Epoch 2/30\n",
            "100/100 [==============================] - 81s 805ms/step - loss: 0.5123 - acc: 0.7436 - recall_5: 0.9945 - val_loss: 0.4948 - val_acc: 0.7238 - val_recall_5: 1.0000\n",
            "Epoch 3/30\n",
            "100/100 [==============================] - 75s 749ms/step - loss: 0.4668 - acc: 0.7487 - recall_5: 0.9510 - val_loss: 0.4471 - val_acc: 0.7524 - val_recall_5: 0.9539\n",
            "Epoch 4/30\n",
            "100/100 [==============================] - 66s 655ms/step - loss: 0.4432 - acc: 0.7622 - recall_5: 0.9233 - val_loss: 0.3770 - val_acc: 0.8238 - val_recall_5: 0.8816\n",
            "Epoch 5/30\n",
            "100/100 [==============================] - 71s 713ms/step - loss: 0.4047 - acc: 0.7966 - recall_5: 0.8999 - val_loss: 0.3327 - val_acc: 0.8238 - val_recall_5: 0.8750\n",
            "Epoch 6/30\n",
            "100/100 [==============================] - 81s 814ms/step - loss: 0.3691 - acc: 0.8268 - recall_5: 0.8838 - val_loss: 0.3279 - val_acc: 0.8381 - val_recall_5: 0.8750\n",
            "Epoch 7/30\n",
            "100/100 [==============================] - 70s 699ms/step - loss: 0.3560 - acc: 0.8428 - recall_5: 0.8960 - val_loss: 0.2966 - val_acc: 0.8810 - val_recall_5: 0.8947\n",
            "Epoch 8/30\n",
            "100/100 [==============================] - 70s 702ms/step - loss: 0.3350 - acc: 0.8541 - recall_5: 0.9097 - val_loss: 0.2759 - val_acc: 0.8905 - val_recall_5: 0.8947\n",
            "Epoch 9/30\n",
            "100/100 [==============================] - 68s 682ms/step - loss: 0.3052 - acc: 0.8680 - recall_5: 0.9117 - val_loss: 0.2773 - val_acc: 0.8810 - val_recall_5: 0.9671\n",
            "Epoch 10/30\n",
            "100/100 [==============================] - 64s 634ms/step - loss: 0.2939 - acc: 0.8740 - recall_5: 0.9214 - val_loss: 0.2197 - val_acc: 0.9095 - val_recall_5: 0.9013\n",
            "Epoch 11/30\n",
            "100/100 [==============================] - 58s 583ms/step - loss: 0.2624 - acc: 0.8853 - recall_5: 0.9247 - val_loss: 0.2235 - val_acc: 0.8952 - val_recall_5: 0.9803\n",
            "Epoch 12/30\n",
            "100/100 [==============================] - 57s 575ms/step - loss: 0.2592 - acc: 0.8906 - recall_5: 0.9293 - val_loss: 0.3093 - val_acc: 0.8524 - val_recall_5: 1.0000\n",
            "Epoch 13/30\n",
            "100/100 [==============================] - 56s 556ms/step - loss: 0.2340 - acc: 0.9047 - recall_5: 0.9361 - val_loss: 0.1821 - val_acc: 0.9429 - val_recall_5: 0.9539\n",
            "Epoch 14/30\n",
            "100/100 [==============================] - 61s 609ms/step - loss: 0.2678 - acc: 0.8884 - recall_5: 0.9277 - val_loss: 0.1952 - val_acc: 0.9238 - val_recall_5: 0.9276\n",
            "Epoch 15/30\n",
            "100/100 [==============================] - 57s 566ms/step - loss: 0.2278 - acc: 0.9156 - recall_5: 0.9398 - val_loss: 0.2011 - val_acc: 0.9238 - val_recall_5: 0.9342\n",
            "Epoch 16/30\n",
            "100/100 [==============================] - 55s 546ms/step - loss: 0.2347 - acc: 0.9043 - recall_5: 0.9398 - val_loss: 0.2171 - val_acc: 0.9381 - val_recall_5: 0.9934\n",
            "Epoch 17/30\n",
            "100/100 [==============================] - 61s 612ms/step - loss: 0.2348 - acc: 0.9053 - recall_5: 0.9375 - val_loss: 0.1848 - val_acc: 0.9333 - val_recall_5: 0.9408\n",
            "Epoch 18/30\n",
            "100/100 [==============================] - 56s 563ms/step - loss: 0.2214 - acc: 0.9075 - recall_5: 0.9376 - val_loss: 0.1981 - val_acc: 0.9238 - val_recall_5: 0.9803\n",
            "Epoch 19/30\n",
            "100/100 [==============================] - 54s 540ms/step - loss: 0.2307 - acc: 0.9074 - recall_5: 0.9361 - val_loss: 0.1928 - val_acc: 0.9286 - val_recall_5: 0.9934\n",
            "Epoch 20/30\n",
            "100/100 [==============================] - 53s 531ms/step - loss: 0.2090 - acc: 0.9112 - recall_5: 0.9381 - val_loss: 0.1734 - val_acc: 0.9381 - val_recall_5: 0.9868\n",
            "Epoch 21/30\n",
            "100/100 [==============================] - 54s 537ms/step - loss: 0.2158 - acc: 0.9162 - recall_5: 0.9428 - val_loss: 0.1908 - val_acc: 0.9333 - val_recall_5: 0.9934\n",
            "Epoch 22/30\n",
            "100/100 [==============================] - 53s 526ms/step - loss: 0.1942 - acc: 0.9259 - recall_5: 0.9508 - val_loss: 0.1592 - val_acc: 0.9286 - val_recall_5: 0.9803\n",
            "Epoch 23/30\n",
            "100/100 [==============================] - 54s 536ms/step - loss: 0.2041 - acc: 0.9143 - recall_5: 0.9436 - val_loss: 0.1602 - val_acc: 0.9429 - val_recall_5: 0.9803\n",
            "Epoch 24/30\n",
            "100/100 [==============================] - 57s 569ms/step - loss: 0.1859 - acc: 0.9250 - recall_5: 0.9518 - val_loss: 0.1407 - val_acc: 0.9571 - val_recall_5: 0.9803\n",
            "Epoch 25/30\n",
            "100/100 [==============================] - 64s 643ms/step - loss: 0.2025 - acc: 0.9199 - recall_5: 0.9425 - val_loss: 0.1390 - val_acc: 0.9524 - val_recall_5: 0.9737\n",
            "Epoch 26/30\n",
            "100/100 [==============================] - 58s 581ms/step - loss: 0.2014 - acc: 0.9225 - recall_5: 0.9460 - val_loss: 0.1683 - val_acc: 0.9381 - val_recall_5: 0.9868\n",
            "Epoch 27/30\n",
            "100/100 [==============================] - 55s 547ms/step - loss: 0.1816 - acc: 0.9281 - recall_5: 0.9492 - val_loss: 0.1292 - val_acc: 0.9524 - val_recall_5: 0.9868\n",
            "Epoch 28/30\n",
            "100/100 [==============================] - 53s 535ms/step - loss: 0.1869 - acc: 0.9265 - recall_5: 0.9482 - val_loss: 0.1307 - val_acc: 0.9524 - val_recall_5: 0.9671\n",
            "Epoch 29/30\n",
            "100/100 [==============================] - 53s 530ms/step - loss: 0.1801 - acc: 0.9297 - recall_5: 0.9474 - val_loss: 0.1585 - val_acc: 0.9476 - val_recall_5: 0.9868\n",
            "Epoch 30/30\n",
            "100/100 [==============================] - 53s 528ms/step - loss: 0.1562 - acc: 0.9371 - recall_5: 0.9577 - val_loss: 0.1708 - val_acc: 0.9333 - val_recall_5: 0.9868\n"
          ]
        }
      ],
      "source": [
        "second_aug = models.Sequential()\n",
        "second_aug.add(layers.Conv2D(32, 7, padding='valid', input_shape=(150,150,1), activation='relu'))\n",
        "second_aug.add(layers.MaxPooling2D(2))\n",
        "second_aug.add(layers.Conv2D(64, 3, padding='valid', activation='relu'))\n",
        "second_aug.add(layers.MaxPooling2D(2))\n",
        "second_aug.add(layers.Conv2D(64, 3, padding='same', activation='relu'))\n",
        "second_aug.add(layers.MaxPooling2D(2))\n",
        "second_aug.add(layers.Conv2D(64, 3, padding='same', activation='relu'))\n",
        "second_aug.add(layers.MaxPooling2D(4))\n",
        "second_aug.add(layers.Flatten())\n",
        "second_aug.add(layers.Dense(64, activation='relu'))\n",
        "second_aug.add(layers.Dense(32, activation='relu'))\n",
        "second_aug.add(layers.Dense(1, activation='sigmoid'))\n",
        "second_aug.compile(optimizer=\"adam\", loss=\"binary_crossentropy\", metrics=['acc', tf.metrics.Recall()])\n",
        "second_aug.summary()\n",
        "\n",
        "# Fitting the model\n",
        "historyaug = second_aug.fit(augment_set,\n",
        "                    validation_data=val_set,\n",
        "                    steps_per_epoch=100,\n",
        "                    epochs=30,\n",
        "                    callbacks=[earlystop, tensorboard_callback])"
      ]
    },
    {
      "cell_type": "code",
      "execution_count": 22,
      "metadata": {},
      "outputs": [
        {
          "name": "stdout",
          "output_type": "stream",
          "text": [
            "20/20 [==============================] - 16s 840ms/step - loss: 0.3743 - acc: 0.8221 - recall_5: 0.9718\n"
          ]
        },
        {
          "data": {
            "text/plain": [
              "[0.37428972125053406, 0.8221153616905212, 0.971794843673706]"
            ]
          },
          "execution_count": 22,
          "metadata": {},
          "output_type": "execute_result"
        }
      ],
      "source": [
        "second_aug.evaluate(test_set)"
      ]
    },
    {
      "cell_type": "code",
      "execution_count": 32,
      "metadata": {},
      "outputs": [
        {
          "name": "stdout",
          "output_type": "stream",
          "text": [
            "Model: \"sequential_7\"\n",
            "_________________________________________________________________\n",
            "Layer (type)                 Output Shape              Param #   \n",
            "=================================================================\n",
            "conv2d_25 (Conv2D)           (None, 144, 144, 32)      1600      \n",
            "_________________________________________________________________\n",
            "max_pooling2d_25 (MaxPooling (None, 72, 72, 32)        0         \n",
            "_________________________________________________________________\n",
            "conv2d_26 (Conv2D)           (None, 70, 70, 64)        18496     \n",
            "_________________________________________________________________\n",
            "max_pooling2d_26 (MaxPooling (None, 35, 35, 64)        0         \n",
            "_________________________________________________________________\n",
            "conv2d_27 (Conv2D)           (None, 35, 35, 64)        36928     \n",
            "_________________________________________________________________\n",
            "max_pooling2d_27 (MaxPooling (None, 17, 17, 64)        0         \n",
            "_________________________________________________________________\n",
            "conv2d_28 (Conv2D)           (None, 17, 17, 64)        36928     \n",
            "_________________________________________________________________\n",
            "max_pooling2d_28 (MaxPooling (None, 5, 5, 64)          0         \n",
            "_________________________________________________________________\n",
            "flatten_7 (Flatten)          (None, 1600)              0         \n",
            "_________________________________________________________________\n",
            "dense_16 (Dense)             (None, 64)                102464    \n",
            "_________________________________________________________________\n",
            "dense_17 (Dense)             (None, 32)                2080      \n",
            "_________________________________________________________________\n",
            "dense_18 (Dense)             (None, 1)                 33        \n",
            "=================================================================\n",
            "Total params: 198,529\n",
            "Trainable params: 198,529\n",
            "Non-trainable params: 0\n",
            "_________________________________________________________________\n",
            "Epoch 1/30\n",
            "157/157 [==============================] - 174s 1s/step - loss: 0.5463 - acc: 0.7366 - recall_7: 0.9737 - val_loss: 0.5070 - val_acc: 0.7238 - val_recall_7: 1.0000\n",
            "Epoch 2/30\n",
            "157/157 [==============================] - 131s 835ms/step - loss: 0.4647 - acc: 0.7603 - recall_7: 0.9453 - val_loss: 0.3775 - val_acc: 0.8000 - val_recall_7: 0.8816\n",
            "Epoch 3/30\n",
            "157/157 [==============================] - 121s 774ms/step - loss: 0.4072 - acc: 0.8047 - recall_7: 0.9236 - val_loss: 0.3255 - val_acc: 0.8333 - val_recall_7: 0.8355\n",
            "Epoch 4/30\n",
            "157/157 [==============================] - 94s 596ms/step - loss: 0.3896 - acc: 0.8182 - recall_7: 0.9006 - val_loss: 0.3426 - val_acc: 0.8619 - val_recall_7: 0.8684\n",
            "Epoch 5/30\n",
            "157/157 [==============================] - 90s 571ms/step - loss: 0.3696 - acc: 0.8421 - recall_7: 0.9032 - val_loss: 0.4384 - val_acc: 0.7810 - val_recall_7: 0.9934\n",
            "Epoch 6/30\n",
            "157/157 [==============================] - 89s 568ms/step - loss: 0.3434 - acc: 0.8463 - recall_7: 0.9059 - val_loss: 0.2822 - val_acc: 0.8571 - val_recall_7: 0.9342\n",
            "Epoch 7/30\n",
            "157/157 [==============================] - 85s 541ms/step - loss: 0.3235 - acc: 0.8560 - recall_7: 0.9081 - val_loss: 0.2616 - val_acc: 0.9143 - val_recall_7: 0.9868\n",
            "Epoch 8/30\n",
            "157/157 [==============================] - 90s 570ms/step - loss: 0.3113 - acc: 0.8612 - recall_7: 0.9110 - val_loss: 0.2756 - val_acc: 0.8810 - val_recall_7: 0.8750\n",
            "Epoch 9/30\n",
            "157/157 [==============================] - 93s 589ms/step - loss: 0.2980 - acc: 0.8720 - recall_7: 0.9188 - val_loss: 0.2165 - val_acc: 0.9095 - val_recall_7: 0.9408\n",
            "Epoch 10/30\n",
            "157/157 [==============================] - 94s 597ms/step - loss: 0.2775 - acc: 0.8847 - recall_7: 0.9276 - val_loss: 0.2237 - val_acc: 0.9048 - val_recall_7: 0.9605\n",
            "Epoch 11/30\n",
            "157/157 [==============================] - 90s 573ms/step - loss: 0.2661 - acc: 0.8883 - recall_7: 0.9295 - val_loss: 0.2444 - val_acc: 0.9000 - val_recall_7: 0.9868\n",
            "Epoch 12/30\n",
            "157/157 [==============================] - 87s 553ms/step - loss: 0.2578 - acc: 0.8927 - recall_7: 0.9282 - val_loss: 0.1845 - val_acc: 0.9190 - val_recall_7: 0.9474\n",
            "Epoch 13/30\n",
            "157/157 [==============================] - 85s 541ms/step - loss: 0.2527 - acc: 0.8951 - recall_7: 0.9292 - val_loss: 0.2322 - val_acc: 0.9048 - val_recall_7: 0.8947\n",
            "Epoch 14/30\n",
            "157/157 [==============================] - 88s 564ms/step - loss: 0.2285 - acc: 0.9062 - recall_7: 0.9292 - val_loss: 0.1771 - val_acc: 0.9190 - val_recall_7: 0.9605\n",
            "Epoch 15/30\n",
            "157/157 [==============================] - 88s 563ms/step - loss: 0.2295 - acc: 0.9050 - recall_7: 0.9362 - val_loss: 0.1807 - val_acc: 0.9429 - val_recall_7: 0.9868\n",
            "Epoch 16/30\n",
            "157/157 [==============================] - 86s 546ms/step - loss: 0.2302 - acc: 0.9114 - recall_7: 0.9402 - val_loss: 0.1784 - val_acc: 0.9190 - val_recall_7: 0.9671\n",
            "Epoch 17/30\n",
            "157/157 [==============================] - 88s 561ms/step - loss: 0.2111 - acc: 0.9134 - recall_7: 0.9392 - val_loss: 0.1765 - val_acc: 0.9286 - val_recall_7: 0.9342\n",
            "Epoch 18/30\n",
            "157/157 [==============================] - 88s 559ms/step - loss: 0.2064 - acc: 0.9170 - recall_7: 0.9429 - val_loss: 0.1681 - val_acc: 0.9333 - val_recall_7: 0.9868\n",
            "Epoch 19/30\n",
            "157/157 [==============================] - 85s 540ms/step - loss: 0.2072 - acc: 0.9152 - recall_7: 0.9448 - val_loss: 0.1822 - val_acc: 0.9095 - val_recall_7: 0.9013\n",
            "Epoch 20/30\n",
            "157/157 [==============================] - 84s 536ms/step - loss: 0.1945 - acc: 0.9233 - recall_7: 0.9434 - val_loss: 0.1587 - val_acc: 0.9381 - val_recall_7: 0.9605\n",
            "Epoch 21/30\n",
            "157/157 [==============================] - 87s 554ms/step - loss: 0.1983 - acc: 0.9221 - recall_7: 0.9453 - val_loss: 0.1628 - val_acc: 0.9524 - val_recall_7: 0.9803\n",
            "Epoch 22/30\n",
            "157/157 [==============================] - 90s 571ms/step - loss: 0.1875 - acc: 0.9225 - recall_7: 0.9472 - val_loss: 0.1379 - val_acc: 0.9476 - val_recall_7: 0.9605\n",
            "Epoch 23/30\n",
            "157/157 [==============================] - 84s 536ms/step - loss: 0.1854 - acc: 0.9209 - recall_7: 0.9445 - val_loss: 0.1457 - val_acc: 0.9524 - val_recall_7: 0.9671\n",
            "Epoch 24/30\n",
            "157/157 [==============================] - 85s 540ms/step - loss: 0.1745 - acc: 0.9313 - recall_7: 0.9491 - val_loss: 0.1220 - val_acc: 0.9476 - val_recall_7: 0.9474\n",
            "Epoch 25/30\n",
            "157/157 [==============================] - 82s 522ms/step - loss: 0.1753 - acc: 0.9305 - recall_7: 0.9488 - val_loss: 0.1563 - val_acc: 0.9429 - val_recall_7: 0.9868\n",
            "Epoch 26/30\n",
            "157/157 [==============================] - 105s 667ms/step - loss: 0.1668 - acc: 0.9321 - recall_7: 0.9515 - val_loss: 0.1356 - val_acc: 0.9381 - val_recall_7: 0.9803\n",
            "Epoch 27/30\n",
            "157/157 [==============================] - 108s 685ms/step - loss: 0.1696 - acc: 0.9321 - recall_7: 0.9520 - val_loss: 0.1280 - val_acc: 0.9619 - val_recall_7: 0.9671\n",
            "Epoch 28/30\n",
            "157/157 [==============================] - 82s 524ms/step - loss: 0.1613 - acc: 0.9327 - recall_7: 0.9501 - val_loss: 0.1112 - val_acc: 0.9524 - val_recall_7: 0.9803\n",
            "Epoch 29/30\n",
            "157/157 [==============================] - 82s 523ms/step - loss: 0.1678 - acc: 0.9349 - recall_7: 0.9542 - val_loss: 0.1102 - val_acc: 0.9714 - val_recall_7: 0.9737\n",
            "Epoch 30/30\n",
            "157/157 [==============================] - 82s 524ms/step - loss: 0.1659 - acc: 0.9309 - recall_7: 0.9483 - val_loss: 0.1202 - val_acc: 0.9571 - val_recall_7: 0.9737\n"
          ]
        }
      ],
      "source": [
        "third_aug = models.Sequential()\n",
        "third_aug.add(layers.Conv2D(32, 7, padding='valid', input_shape=(150,150,1), activation='relu'))\n",
        "third_aug.add(layers.MaxPooling2D(2))\n",
        "third_aug.add(layers.Conv2D(64, 3, padding='valid', activation='relu'))\n",
        "third_aug.add(layers.MaxPooling2D(2))\n",
        "third_aug.add(layers.Conv2D(64, 3, padding='same', activation='relu'))\n",
        "third_aug.add(layers.MaxPooling2D(2))\n",
        "third_aug.add(layers.Conv2D(64, 3, padding='same', activation='relu'))\n",
        "third_aug.add(layers.MaxPooling2D(3))\n",
        "third_aug.add(layers.Flatten())\n",
        "third_aug.add(layers.Dense(64, activation='relu'))\n",
        "third_aug.add(layers.Dense(32, activation='relu'))\n",
        "third_aug.add(layers.Dense(1, activation='sigmoid'))\n",
        "third_aug.compile(optimizer=\"adam\", loss=\"binary_crossentropy\", metrics=['acc', tf.metrics.Recall()])\n",
        "third_aug.summary()\n",
        "\n",
        "# Fitting the model\n",
        "historyaug = third_aug.fit(augment_set,\n",
        "                    validation_data=val_set,\n",
        "                    epochs=30,\n",
        "                    callbacks=[earlystop, tensorboard_callback])"
      ]
    },
    {
      "cell_type": "code",
      "execution_count": 33,
      "metadata": {},
      "outputs": [
        {
          "name": "stdout",
          "output_type": "stream",
          "text": [
            "20/20 [==============================] - 17s 861ms/step - loss: 0.2632 - acc: 0.8958 - recall_7: 0.9769\n"
          ]
        },
        {
          "data": {
            "text/plain": [
              "[0.26316726207733154, 0.8958333134651184, 0.9769230484962463]"
            ]
          },
          "execution_count": 33,
          "metadata": {},
          "output_type": "execute_result"
        }
      ],
      "source": [
        "third_aug.evaluate(test_set)"
      ]
    },
    {
      "cell_type": "code",
      "execution_count": 34,
      "metadata": {},
      "outputs": [],
      "source": [
        "third_aug.save('Third_Augmentation_recall_high.h5', save_format='h5')"
      ]
    },
    {
      "cell_type": "code",
      "execution_count": 40,
      "metadata": {},
      "outputs": [
        {
          "name": "stdout",
          "output_type": "stream",
          "text": [
            "Model: \"sequential_10\"\n",
            "_________________________________________________________________\n",
            "Layer (type)                 Output Shape              Param #   \n",
            "=================================================================\n",
            "conv2d_37 (Conv2D)           (None, 144, 144, 32)      1600      \n",
            "_________________________________________________________________\n",
            "max_pooling2d_37 (MaxPooling (None, 72, 72, 32)        0         \n",
            "_________________________________________________________________\n",
            "conv2d_38 (Conv2D)           (None, 70, 70, 128)       36992     \n",
            "_________________________________________________________________\n",
            "max_pooling2d_38 (MaxPooling (None, 35, 35, 128)       0         \n",
            "_________________________________________________________________\n",
            "conv2d_39 (Conv2D)           (None, 35, 35, 64)        73792     \n",
            "_________________________________________________________________\n",
            "max_pooling2d_39 (MaxPooling (None, 17, 17, 64)        0         \n",
            "_________________________________________________________________\n",
            "conv2d_40 (Conv2D)           (None, 17, 17, 64)        16448     \n",
            "_________________________________________________________________\n",
            "max_pooling2d_40 (MaxPooling (None, 8, 8, 64)          0         \n",
            "_________________________________________________________________\n",
            "flatten_10 (Flatten)         (None, 4096)              0         \n",
            "_________________________________________________________________\n",
            "dense_25 (Dense)             (None, 64)                262208    \n",
            "_________________________________________________________________\n",
            "dense_26 (Dense)             (None, 64)                4160      \n",
            "_________________________________________________________________\n",
            "dense_27 (Dense)             (None, 1)                 65        \n",
            "=================================================================\n",
            "Total params: 395,265\n",
            "Trainable params: 395,265\n",
            "Non-trainable params: 0\n",
            "_________________________________________________________________\n",
            "Epoch 1/30\n",
            "157/157 [==============================] - 183s 1s/step - loss: 0.5689 - acc: 0.7393 - recall_10: 0.9783 - val_loss: 0.5665 - val_acc: 0.7333 - val_recall_10: 0.9868\n",
            "Epoch 2/30\n",
            "157/157 [==============================] - 167s 1s/step - loss: 0.4641 - acc: 0.7481 - recall_10: 0.9263 - val_loss: 0.4532 - val_acc: 0.7238 - val_recall_10: 1.0000\n",
            "Epoch 3/30\n",
            "157/157 [==============================] - 148s 940ms/step - loss: 0.4338 - acc: 0.7656 - recall_10: 0.8829 - val_loss: 0.4598 - val_acc: 0.7952 - val_recall_10: 0.8750\n",
            "Epoch 4/30\n",
            "157/157 [==============================] - 125s 798ms/step - loss: 0.3915 - acc: 0.8116 - recall_10: 0.8853 - val_loss: 0.4013 - val_acc: 0.7952 - val_recall_10: 0.9145\n",
            "Epoch 5/30\n",
            "157/157 [==============================] - 127s 811ms/step - loss: 0.3655 - acc: 0.8323 - recall_10: 0.8917 - val_loss: 0.3463 - val_acc: 0.8333 - val_recall_10: 0.8289\n",
            "Epoch 6/30\n",
            "157/157 [==============================] - 106s 678ms/step - loss: 0.3440 - acc: 0.8425 - recall_10: 0.8898 - val_loss: 0.3747 - val_acc: 0.8238 - val_recall_10: 0.9605\n",
            "Epoch 7/30\n",
            "157/157 [==============================] - 105s 668ms/step - loss: 0.3251 - acc: 0.8530 - recall_10: 0.8968 - val_loss: 0.3221 - val_acc: 0.8571 - val_recall_10: 0.8289\n",
            "Epoch 8/30\n",
            "157/157 [==============================] - 104s 660ms/step - loss: 0.3196 - acc: 0.8616 - recall_10: 0.9070 - val_loss: 0.2875 - val_acc: 0.8857 - val_recall_10: 0.9013\n",
            "Epoch 9/30\n",
            "157/157 [==============================] - 87s 555ms/step - loss: 0.3081 - acc: 0.8652 - recall_10: 0.9105 - val_loss: 0.2628 - val_acc: 0.9000 - val_recall_10: 0.9342\n",
            "Epoch 10/30\n",
            "157/157 [==============================] - 99s 629ms/step - loss: 0.2977 - acc: 0.8716 - recall_10: 0.9113 - val_loss: 0.2727 - val_acc: 0.8857 - val_recall_10: 0.9079\n",
            "Epoch 11/30\n",
            "157/157 [==============================] - 87s 552ms/step - loss: 0.2746 - acc: 0.8839 - recall_10: 0.9220 - val_loss: 0.2438 - val_acc: 0.9000 - val_recall_10: 0.9276\n",
            "Epoch 12/30\n",
            "157/157 [==============================] - 90s 575ms/step - loss: 0.2635 - acc: 0.8879 - recall_10: 0.9209 - val_loss: 0.2466 - val_acc: 0.9143 - val_recall_10: 0.9737\n",
            "Epoch 13/30\n",
            "157/157 [==============================] - 103s 656ms/step - loss: 0.2667 - acc: 0.8863 - recall_10: 0.9225 - val_loss: 0.2801 - val_acc: 0.8857 - val_recall_10: 0.9211\n",
            "Epoch 14/30\n",
            "157/157 [==============================] - 91s 582ms/step - loss: 0.2474 - acc: 0.8975 - recall_10: 0.9282 - val_loss: 0.2136 - val_acc: 0.9095 - val_recall_10: 0.9605\n",
            "Epoch 15/30\n",
            "157/157 [==============================] - 84s 536ms/step - loss: 0.2352 - acc: 0.9010 - recall_10: 0.9319 - val_loss: 0.2084 - val_acc: 0.9381 - val_recall_10: 0.9934\n",
            "Epoch 16/30\n",
            "157/157 [==============================] - 82s 524ms/step - loss: 0.2320 - acc: 0.9010 - recall_10: 0.9282 - val_loss: 0.1982 - val_acc: 0.9238 - val_recall_10: 0.9605\n",
            "Epoch 17/30\n",
            "157/157 [==============================] - 86s 547ms/step - loss: 0.2217 - acc: 0.9084 - recall_10: 0.9357 - val_loss: 0.2184 - val_acc: 0.9333 - val_recall_10: 0.9671\n",
            "Epoch 18/30\n",
            "157/157 [==============================] - 100s 632ms/step - loss: 0.2142 - acc: 0.9088 - recall_10: 0.9370 - val_loss: 0.2503 - val_acc: 0.9143 - val_recall_10: 1.0000\n",
            "Epoch 19/30\n",
            "157/157 [==============================] - 82s 523ms/step - loss: 0.2169 - acc: 0.9088 - recall_10: 0.9359 - val_loss: 0.1948 - val_acc: 0.9286 - val_recall_10: 0.9474\n",
            "Epoch 20/30\n",
            "157/157 [==============================] - 82s 523ms/step - loss: 0.2089 - acc: 0.9178 - recall_10: 0.9408 - val_loss: 0.1979 - val_acc: 0.9333 - val_recall_10: 0.9737\n",
            "Epoch 21/30\n",
            "157/157 [==============================] - 82s 522ms/step - loss: 0.2056 - acc: 0.9186 - recall_10: 0.9426 - val_loss: 0.2118 - val_acc: 0.9095 - val_recall_10: 0.9145\n",
            "Epoch 22/30\n",
            "157/157 [==============================] - 82s 525ms/step - loss: 0.2009 - acc: 0.9207 - recall_10: 0.9461 - val_loss: 0.1768 - val_acc: 0.9429 - val_recall_10: 0.9737\n",
            "Epoch 23/30\n",
            "157/157 [==============================] - 88s 563ms/step - loss: 0.1938 - acc: 0.9198 - recall_10: 0.9416 - val_loss: 0.1987 - val_acc: 0.9286 - val_recall_10: 0.9737\n",
            "Epoch 24/30\n",
            "157/157 [==============================] - 83s 530ms/step - loss: 0.1961 - acc: 0.9196 - recall_10: 0.9424 - val_loss: 0.2597 - val_acc: 0.9048 - val_recall_10: 1.0000\n",
            "Epoch 25/30\n",
            "157/157 [==============================] - 83s 525ms/step - loss: 0.1888 - acc: 0.9221 - recall_10: 0.9456 - val_loss: 0.1662 - val_acc: 0.9381 - val_recall_10: 0.9803\n",
            "Epoch 26/30\n",
            "157/157 [==============================] - 83s 530ms/step - loss: 0.1839 - acc: 0.9253 - recall_10: 0.9493 - val_loss: 0.1651 - val_acc: 0.9524 - val_recall_10: 0.9803\n",
            "Epoch 27/30\n",
            "157/157 [==============================] - 82s 524ms/step - loss: 0.1842 - acc: 0.9265 - recall_10: 0.9512 - val_loss: 0.2015 - val_acc: 0.9381 - val_recall_10: 0.9408\n",
            "Epoch 28/30\n",
            "157/157 [==============================] - 83s 525ms/step - loss: 0.1869 - acc: 0.9253 - recall_10: 0.9467 - val_loss: 0.2275 - val_acc: 0.8905 - val_recall_10: 0.9868\n",
            "Epoch 29/30\n",
            "157/157 [==============================] - 91s 582ms/step - loss: 0.1789 - acc: 0.9291 - recall_10: 0.9488 - val_loss: 0.1667 - val_acc: 0.9286 - val_recall_10: 0.9342\n",
            "Epoch 30/30\n",
            "157/157 [==============================] - 89s 570ms/step - loss: 0.1759 - acc: 0.9313 - recall_10: 0.9510 - val_loss: 0.1955 - val_acc: 0.9095 - val_recall_10: 0.9408\n"
          ]
        }
      ],
      "source": [
        "more_params = models.Sequential()\n",
        "more_params.add(layers.Conv2D(32, 7, padding='valid', input_shape=(150,150,1), activation='relu'))\n",
        "more_params.add(layers.MaxPooling2D(2))\n",
        "more_params.add(layers.Conv2D(128, 3, padding='valid', activation='relu'))\n",
        "more_params.add(layers.MaxPooling2D(2))\n",
        "more_params.add(layers.Conv2D(64, 3, padding='same', activation='relu'))\n",
        "more_params.add(layers.MaxPooling2D(2))\n",
        "more_params.add(layers.Conv2D(64, 2, padding='same', activation='relu'))\n",
        "more_params.add(layers.MaxPooling2D(2))\n",
        "more_params.add(layers.Flatten())\n",
        "more_params.add(layers.Dense(64, activation='relu'))\n",
        "more_params.add(layers.Dense(64, activation='relu'))\n",
        "more_params.add(layers.Dense(1, activation='sigmoid'))\n",
        "more_params.compile(optimizer=\"adam\", loss=\"binary_crossentropy\", metrics=['acc', tf.metrics.Recall()])\n",
        "more_params.summary()\n",
        "\n",
        "# Fitting the model\n",
        "history_more_params = more_params.fit(augment_set,\n",
        "                    validation_data=val_set,\n",
        "                    epochs=30,\n",
        "                    callbacks=[earlystop, tensorboard_callback])"
      ]
    },
    {
      "cell_type": "code",
      "execution_count": 41,
      "metadata": {},
      "outputs": [
        {
          "name": "stdout",
          "output_type": "stream",
          "text": [
            "20/20 [==============================] - 18s 907ms/step - loss: 0.3166 - acc: 0.8686 - recall_10: 0.9590\n"
          ]
        },
        {
          "data": {
            "text/plain": [
              "[0.31659644842147827, 0.8685897588729858, 0.9589743614196777]"
            ]
          },
          "execution_count": 41,
          "metadata": {},
          "output_type": "execute_result"
        }
      ],
      "source": [
        "more_params.evaluate(test_set)"
      ]
    },
    {
      "cell_type": "code",
      "execution_count": 51,
      "metadata": {},
      "outputs": [],
      "source": [
        "more_params.save('More_params.h5', save_format='h5')"
      ]
    },
    {
      "cell_type": "code",
      "execution_count": 54,
      "metadata": {},
      "outputs": [
        {
          "name": "stdout",
          "output_type": "stream",
          "text": [
            "Model: \"sequential_12\"\n",
            "_________________________________________________________________\n",
            "Layer (type)                 Output Shape              Param #   \n",
            "=================================================================\n",
            "conv2d_45 (Conv2D)           (None, 144, 144, 32)      1600      \n",
            "_________________________________________________________________\n",
            "max_pooling2d_45 (MaxPooling (None, 72, 72, 32)        0         \n",
            "_________________________________________________________________\n",
            "conv2d_46 (Conv2D)           (None, 70, 70, 128)       36992     \n",
            "_________________________________________________________________\n",
            "max_pooling2d_46 (MaxPooling (None, 35, 35, 128)       0         \n",
            "_________________________________________________________________\n",
            "conv2d_47 (Conv2D)           (None, 35, 35, 64)        73792     \n",
            "_________________________________________________________________\n",
            "max_pooling2d_47 (MaxPooling (None, 17, 17, 64)        0         \n",
            "_________________________________________________________________\n",
            "conv2d_48 (Conv2D)           (None, 17, 17, 64)        16448     \n",
            "_________________________________________________________________\n",
            "max_pooling2d_48 (MaxPooling (None, 8, 8, 64)          0         \n",
            "_________________________________________________________________\n",
            "flatten_12 (Flatten)         (None, 4096)              0         \n",
            "_________________________________________________________________\n",
            "dense_31 (Dense)             (None, 64)                262208    \n",
            "_________________________________________________________________\n",
            "dense_32 (Dense)             (None, 64)                4160      \n",
            "_________________________________________________________________\n",
            "dense_33 (Dense)             (None, 1)                 65        \n",
            "=================================================================\n",
            "Total params: 395,265\n",
            "Trainable params: 395,265\n",
            "Non-trainable params: 0\n",
            "_________________________________________________________________\n",
            "Epoch 1/200\n",
            "157/157 [==============================] - 193s 1s/step - loss: 0.5642 - acc: 0.7421 - recall_12: 0.9984 - val_loss: 0.6288 - val_acc: 0.7238 - val_recall_12: 1.0000\n",
            "Epoch 2/200\n",
            "157/157 [==============================] - 152s 968ms/step - loss: 0.4708 - acc: 0.7489 - recall_12: 0.9619 - val_loss: 0.4821 - val_acc: 0.7333 - val_recall_12: 1.0000\n",
            "Epoch 3/200\n",
            "157/157 [==============================] - 117s 741ms/step - loss: 0.4273 - acc: 0.7806 - recall_12: 0.9126 - val_loss: 0.3371 - val_acc: 0.8048 - val_recall_12: 0.9211\n",
            "Epoch 4/200\n",
            "157/157 [==============================] - 134s 852ms/step - loss: 0.3721 - acc: 0.8258 - recall_12: 0.9030 - val_loss: 0.3521 - val_acc: 0.8381 - val_recall_12: 0.8092\n",
            "Epoch 5/200\n",
            "157/157 [==============================] - 129s 824ms/step - loss: 0.3604 - acc: 0.8351 - recall_12: 0.8992 - val_loss: 0.3218 - val_acc: 0.8524 - val_recall_12: 0.8355\n",
            "Epoch 6/200\n",
            "157/157 [==============================] - 118s 755ms/step - loss: 0.3350 - acc: 0.8526 - recall_12: 0.9043 - val_loss: 0.3075 - val_acc: 0.8476 - val_recall_12: 0.8355\n",
            "Epoch 7/200\n",
            "157/157 [==============================] - 131s 834ms/step - loss: 0.3328 - acc: 0.8544 - recall_12: 0.9057 - val_loss: 0.2710 - val_acc: 0.8952 - val_recall_12: 0.9671\n",
            "Epoch 8/200\n",
            "157/157 [==============================] - 122s 775ms/step - loss: 0.3053 - acc: 0.8658 - recall_12: 0.9097 - val_loss: 0.2375 - val_acc: 0.9000 - val_recall_12: 0.9013\n",
            "Epoch 9/200\n",
            "157/157 [==============================] - 146s 931ms/step - loss: 0.3037 - acc: 0.8700 - recall_12: 0.9161 - val_loss: 0.2401 - val_acc: 0.9000 - val_recall_12: 0.9079\n",
            "Epoch 10/200\n",
            "157/157 [==============================] - 113s 717ms/step - loss: 0.2919 - acc: 0.8714 - recall_12: 0.9107 - val_loss: 0.2116 - val_acc: 0.9143 - val_recall_12: 0.9342\n",
            "Epoch 11/200\n",
            "157/157 [==============================] - 81s 518ms/step - loss: 0.2627 - acc: 0.8915 - recall_12: 0.9250 - val_loss: 0.2337 - val_acc: 0.9333 - val_recall_12: 0.9868\n",
            "Epoch 12/200\n",
            "157/157 [==============================] - 82s 520ms/step - loss: 0.2505 - acc: 0.8994 - recall_12: 0.9330 - val_loss: 0.2153 - val_acc: 0.8857 - val_recall_12: 0.8882\n",
            "Epoch 13/200\n",
            "157/157 [==============================] - 88s 561ms/step - loss: 0.2507 - acc: 0.8973 - recall_12: 0.9319 - val_loss: 0.2238 - val_acc: 0.9095 - val_recall_12: 0.9211\n",
            "Epoch 14/200\n",
            "157/157 [==============================] - 89s 564ms/step - loss: 0.2356 - acc: 0.9034 - recall_12: 0.9335 - val_loss: 0.1982 - val_acc: 0.9143 - val_recall_12: 0.9342\n",
            "Epoch 15/200\n",
            "157/157 [==============================] - 83s 529ms/step - loss: 0.2295 - acc: 0.9050 - recall_12: 0.9381 - val_loss: 0.2116 - val_acc: 0.9143 - val_recall_12: 0.9145\n",
            "Epoch 16/200\n",
            "157/157 [==============================] - 81s 518ms/step - loss: 0.2237 - acc: 0.9052 - recall_12: 0.9322 - val_loss: 0.1729 - val_acc: 0.9429 - val_recall_12: 0.9474\n",
            "Epoch 17/200\n",
            "157/157 [==============================] - 82s 521ms/step - loss: 0.2286 - acc: 0.9032 - recall_12: 0.9341 - val_loss: 0.1823 - val_acc: 0.9524 - val_recall_12: 0.9934\n",
            "Epoch 18/200\n",
            "157/157 [==============================] - 86s 548ms/step - loss: 0.2106 - acc: 0.9128 - recall_12: 0.9394 - val_loss: 0.2474 - val_acc: 0.8905 - val_recall_12: 0.8553\n",
            "Epoch 19/200\n",
            "157/157 [==============================] - 82s 522ms/step - loss: 0.2166 - acc: 0.9084 - recall_12: 0.9367 - val_loss: 0.1748 - val_acc: 0.9429 - val_recall_12: 0.9737\n",
            "Epoch 20/200\n",
            "157/157 [==============================] - 82s 523ms/step - loss: 0.2118 - acc: 0.9166 - recall_12: 0.9426 - val_loss: 0.1683 - val_acc: 0.9429 - val_recall_12: 0.9737\n",
            "Epoch 21/200\n",
            "157/157 [==============================] - 91s 579ms/step - loss: 0.2100 - acc: 0.9114 - recall_12: 0.9413 - val_loss: 0.1689 - val_acc: 0.9571 - val_recall_12: 0.9737\n",
            "Epoch 22/200\n",
            "157/157 [==============================] - 81s 517ms/step - loss: 0.1995 - acc: 0.9154 - recall_12: 0.9437 - val_loss: 0.1594 - val_acc: 0.9429 - val_recall_12: 0.9474\n",
            "Epoch 23/200\n",
            "157/157 [==============================] - 82s 520ms/step - loss: 0.1927 - acc: 0.9223 - recall_12: 0.9469 - val_loss: 0.1577 - val_acc: 0.9476 - val_recall_12: 0.9803\n",
            "Epoch 24/200\n",
            "157/157 [==============================] - 83s 527ms/step - loss: 0.1957 - acc: 0.9235 - recall_12: 0.9491 - val_loss: 0.1824 - val_acc: 0.9333 - val_recall_12: 0.9276\n",
            "Epoch 25/200\n",
            "157/157 [==============================] - 86s 544ms/step - loss: 0.1910 - acc: 0.9259 - recall_12: 0.9491 - val_loss: 0.1588 - val_acc: 0.9381 - val_recall_12: 0.9605\n",
            "Epoch 26/200\n",
            "157/157 [==============================] - 81s 515ms/step - loss: 0.1795 - acc: 0.9293 - recall_12: 0.9469 - val_loss: 0.1594 - val_acc: 0.9571 - val_recall_12: 0.9868\n",
            "Epoch 27/200\n",
            "157/157 [==============================] - 82s 523ms/step - loss: 0.1773 - acc: 0.9317 - recall_12: 0.9520 - val_loss: 0.1343 - val_acc: 0.9524 - val_recall_12: 0.9737\n",
            "Epoch 28/200\n",
            "157/157 [==============================] - 100s 634ms/step - loss: 0.1769 - acc: 0.9333 - recall_12: 0.9507 - val_loss: 0.2236 - val_acc: 0.9048 - val_recall_12: 0.9868\n",
            "Epoch 29/200\n",
            "157/157 [==============================] - 95s 602ms/step - loss: 0.1875 - acc: 0.9255 - recall_12: 0.9488 - val_loss: 0.1668 - val_acc: 0.9476 - val_recall_12: 0.9737\n",
            "Epoch 30/200\n",
            "157/157 [==============================] - 90s 573ms/step - loss: 0.1700 - acc: 0.9311 - recall_12: 0.9483 - val_loss: 0.1363 - val_acc: 0.9524 - val_recall_12: 0.9737\n",
            "Epoch 31/200\n",
            "157/157 [==============================] - 87s 553ms/step - loss: 0.1700 - acc: 0.9363 - recall_12: 0.9526 - val_loss: 0.1791 - val_acc: 0.9333 - val_recall_12: 0.9934\n",
            "Epoch 32/200\n",
            "157/157 [==============================] - 87s 556ms/step - loss: 0.1690 - acc: 0.9331 - recall_12: 0.9515 - val_loss: 0.1437 - val_acc: 0.9476 - val_recall_12: 0.9868\n",
            "Epoch 33/200\n",
            "157/157 [==============================] - 81s 516ms/step - loss: 0.1613 - acc: 0.9375 - recall_12: 0.9550 - val_loss: 0.1271 - val_acc: 0.9429 - val_recall_12: 0.9605\n",
            "Epoch 34/200\n",
            "157/157 [==============================] - 84s 534ms/step - loss: 0.1643 - acc: 0.9329 - recall_12: 0.9515 - val_loss: 0.1617 - val_acc: 0.9429 - val_recall_12: 0.9868\n",
            "Epoch 35/200\n",
            "157/157 [==============================] - 82s 523ms/step - loss: 0.1691 - acc: 0.9331 - recall_12: 0.9550 - val_loss: 0.1342 - val_acc: 0.9524 - val_recall_12: 0.9671\n",
            "Epoch 36/200\n",
            "157/157 [==============================] - 85s 543ms/step - loss: 0.1512 - acc: 0.9379 - recall_12: 0.9563 - val_loss: 0.1248 - val_acc: 0.9571 - val_recall_12: 0.9868\n",
            "Epoch 37/200\n",
            "157/157 [==============================] - 85s 542ms/step - loss: 0.1537 - acc: 0.9401 - recall_12: 0.9558 - val_loss: 0.1485 - val_acc: 0.9381 - val_recall_12: 0.9868\n",
            "Epoch 38/200\n",
            "157/157 [==============================] - 85s 544ms/step - loss: 0.1584 - acc: 0.9353 - recall_12: 0.9534 - val_loss: 0.1463 - val_acc: 0.9333 - val_recall_12: 0.9605\n",
            "Epoch 39/200\n",
            "157/157 [==============================] - 86s 547ms/step - loss: 0.1510 - acc: 0.9367 - recall_12: 0.9534 - val_loss: 0.1066 - val_acc: 0.9714 - val_recall_12: 0.9868\n",
            "Epoch 40/200\n",
            "157/157 [==============================] - 82s 522ms/step - loss: 0.1540 - acc: 0.9417 - recall_12: 0.9568 - val_loss: 0.1979 - val_acc: 0.9238 - val_recall_12: 0.9934\n",
            "Epoch 41/200\n",
            "157/157 [==============================] - 82s 523ms/step - loss: 0.1472 - acc: 0.9425 - recall_12: 0.9598 - val_loss: 0.1567 - val_acc: 0.9381 - val_recall_12: 0.9803\n",
            "Epoch 42/200\n",
            "157/157 [==============================] - 89s 566ms/step - loss: 0.1464 - acc: 0.9425 - recall_12: 0.9603 - val_loss: 0.1237 - val_acc: 0.9619 - val_recall_12: 0.9803\n",
            "Epoch 43/200\n",
            "157/157 [==============================] - 83s 529ms/step - loss: 0.1401 - acc: 0.9476 - recall_12: 0.9646 - val_loss: 0.1216 - val_acc: 0.9571 - val_recall_12: 0.9803\n",
            "Epoch 44/200\n",
            "157/157 [==============================] - 81s 517ms/step - loss: 0.1407 - acc: 0.9448 - recall_12: 0.9585 - val_loss: 0.1093 - val_acc: 0.9667 - val_recall_12: 0.9803\n",
            "Epoch 45/200\n",
            "157/157 [==============================] - 81s 516ms/step - loss: 0.1384 - acc: 0.9470 - recall_12: 0.9601 - val_loss: 0.1218 - val_acc: 0.9619 - val_recall_12: 0.9737\n",
            "Epoch 46/200\n",
            "157/157 [==============================] - 82s 520ms/step - loss: 0.1332 - acc: 0.9488 - recall_12: 0.9630 - val_loss: 0.1217 - val_acc: 0.9714 - val_recall_12: 0.9868\n",
            "Epoch 47/200\n",
            "157/157 [==============================] - 82s 521ms/step - loss: 0.1340 - acc: 0.9470 - recall_12: 0.9649 - val_loss: 0.1089 - val_acc: 0.9524 - val_recall_12: 0.9671\n",
            "Epoch 48/200\n",
            "157/157 [==============================] - 82s 525ms/step - loss: 0.1387 - acc: 0.9462 - recall_12: 0.9625 - val_loss: 0.1481 - val_acc: 0.9429 - val_recall_12: 0.9934\n",
            "Epoch 49/200\n",
            "157/157 [==============================] - 82s 519ms/step - loss: 0.1302 - acc: 0.9492 - recall_12: 0.9646 - val_loss: 0.0988 - val_acc: 0.9571 - val_recall_12: 0.9671\n",
            "Epoch 50/200\n",
            "157/157 [==============================] - 83s 530ms/step - loss: 0.1448 - acc: 0.9442 - recall_12: 0.9619 - val_loss: 0.0857 - val_acc: 0.9762 - val_recall_12: 0.9934\n",
            "Epoch 51/200\n",
            "157/157 [==============================] - 81s 514ms/step - loss: 0.1357 - acc: 0.9484 - recall_12: 0.9652 - val_loss: 0.0914 - val_acc: 0.9714 - val_recall_12: 0.9934\n",
            "Epoch 52/200\n",
            "157/157 [==============================] - 83s 526ms/step - loss: 0.1311 - acc: 0.9484 - recall_12: 0.9627 - val_loss: 0.1124 - val_acc: 0.9667 - val_recall_12: 0.9868\n",
            "Epoch 53/200\n",
            "157/157 [==============================] - 84s 537ms/step - loss: 0.1246 - acc: 0.9506 - recall_12: 0.9652 - val_loss: 0.1270 - val_acc: 0.9571 - val_recall_12: 0.9934\n",
            "Epoch 54/200\n",
            "157/157 [==============================] - 83s 526ms/step - loss: 0.1358 - acc: 0.9480 - recall_12: 0.9630 - val_loss: 0.0876 - val_acc: 0.9762 - val_recall_12: 0.9934\n",
            "Epoch 55/200\n",
            "157/157 [==============================] - 154s 987ms/step - loss: 0.1299 - acc: 0.9482 - recall_12: 0.9641 - val_loss: 0.0895 - val_acc: 0.9714 - val_recall_12: 0.9868\n",
            "Epoch 56/200\n",
            "157/157 [==============================] - 93s 589ms/step - loss: 0.1198 - acc: 0.9568 - recall_12: 0.9702 - val_loss: 0.1047 - val_acc: 0.9714 - val_recall_12: 0.9868\n",
            "Epoch 57/200\n",
            "157/157 [==============================] - 81s 518ms/step - loss: 0.1298 - acc: 0.9508 - recall_12: 0.9644 - val_loss: 0.1171 - val_acc: 0.9667 - val_recall_12: 0.9934\n",
            "Epoch 58/200\n",
            "157/157 [==============================] - 82s 521ms/step - loss: 0.1132 - acc: 0.9576 - recall_12: 0.9684 - val_loss: 0.1033 - val_acc: 0.9619 - val_recall_12: 0.9737\n",
            "Epoch 59/200\n",
            "157/157 [==============================] - 83s 526ms/step - loss: 0.1250 - acc: 0.9472 - recall_12: 0.9635 - val_loss: 0.1451 - val_acc: 0.9476 - val_recall_12: 0.9474\n",
            "Epoch 60/200\n",
            "157/157 [==============================] - 84s 535ms/step - loss: 0.1207 - acc: 0.9522 - recall_12: 0.9649 - val_loss: 0.0927 - val_acc: 0.9667 - val_recall_12: 0.9868\n",
            "Epoch 61/200\n",
            "157/157 [==============================] - 81s 516ms/step - loss: 0.1178 - acc: 0.9536 - recall_12: 0.9686 - val_loss: 0.1407 - val_acc: 0.9571 - val_recall_12: 0.9868\n",
            "Epoch 62/200\n",
            "157/157 [==============================] - 82s 519ms/step - loss: 0.1225 - acc: 0.9508 - recall_12: 0.9665 - val_loss: 0.0939 - val_acc: 0.9714 - val_recall_12: 0.9868\n",
            "Epoch 63/200\n",
            "157/157 [==============================] - 81s 516ms/step - loss: 0.1186 - acc: 0.9568 - recall_12: 0.9694 - val_loss: 0.1114 - val_acc: 0.9667 - val_recall_12: 0.9803\n",
            "Epoch 64/200\n",
            "157/157 [==============================] - 82s 521ms/step - loss: 0.1251 - acc: 0.9522 - recall_12: 0.9665 - val_loss: 0.1061 - val_acc: 0.9714 - val_recall_12: 0.9868\n",
            "Epoch 65/200\n",
            "157/157 [==============================] - 84s 537ms/step - loss: 0.1163 - acc: 0.9562 - recall_12: 0.9700 - val_loss: 0.0971 - val_acc: 0.9714 - val_recall_12: 0.9868\n",
            "Epoch 66/200\n",
            "157/157 [==============================] - 89s 565ms/step - loss: 0.1191 - acc: 0.9558 - recall_12: 0.9684 - val_loss: 0.0982 - val_acc: 0.9762 - val_recall_12: 0.9868\n",
            "Epoch 67/200\n",
            "157/157 [==============================] - 81s 516ms/step - loss: 0.1148 - acc: 0.9518 - recall_12: 0.9657 - val_loss: 0.1037 - val_acc: 0.9714 - val_recall_12: 0.9868\n",
            "Epoch 68/200\n",
            "157/157 [==============================] - 83s 526ms/step - loss: 0.1222 - acc: 0.9516 - recall_12: 0.9665 - val_loss: 0.0979 - val_acc: 0.9571 - val_recall_12: 0.9605\n",
            "Epoch 69/200\n",
            "157/157 [==============================] - 89s 570ms/step - loss: 0.1153 - acc: 0.9546 - recall_12: 0.9681 - val_loss: 0.0813 - val_acc: 0.9762 - val_recall_12: 0.9803\n",
            "Epoch 70/200\n",
            "157/157 [==============================] - 83s 528ms/step - loss: 0.1117 - acc: 0.9566 - recall_12: 0.9686 - val_loss: 0.0930 - val_acc: 0.9714 - val_recall_12: 0.9934\n",
            "Epoch 71/200\n",
            "157/157 [==============================] - 83s 529ms/step - loss: 0.1111 - acc: 0.9562 - recall_12: 0.9670 - val_loss: 0.0823 - val_acc: 0.9714 - val_recall_12: 0.9868\n",
            "Epoch 72/200\n",
            "157/157 [==============================] - 88s 559ms/step - loss: 0.1097 - acc: 0.9560 - recall_12: 0.9676 - val_loss: 0.0771 - val_acc: 0.9857 - val_recall_12: 0.9934\n",
            "Epoch 73/200\n",
            "157/157 [==============================] - 88s 564ms/step - loss: 0.1174 - acc: 0.9554 - recall_12: 0.9678 - val_loss: 0.0935 - val_acc: 0.9762 - val_recall_12: 0.9934\n",
            "Epoch 74/200\n",
            "157/157 [==============================] - 83s 529ms/step - loss: 0.1082 - acc: 0.9596 - recall_12: 0.9705 - val_loss: 0.0836 - val_acc: 0.9762 - val_recall_12: 0.9868\n",
            "Epoch 75/200\n",
            "157/157 [==============================] - 86s 550ms/step - loss: 0.1081 - acc: 0.9620 - recall_12: 0.9721 - val_loss: 0.0908 - val_acc: 0.9762 - val_recall_12: 0.9803\n",
            "Epoch 76/200\n",
            "157/157 [==============================] - 90s 570ms/step - loss: 0.1043 - acc: 0.9608 - recall_12: 0.9713 - val_loss: 0.0912 - val_acc: 0.9714 - val_recall_12: 0.9934\n",
            "Epoch 77/200\n",
            "157/157 [==============================] - 84s 532ms/step - loss: 0.1114 - acc: 0.9566 - recall_12: 0.9678 - val_loss: 0.0870 - val_acc: 0.9667 - val_recall_12: 0.9868\n",
            "Epoch 78/200\n",
            "157/157 [==============================] - 85s 541ms/step - loss: 0.1072 - acc: 0.9598 - recall_12: 0.9711 - val_loss: 0.0849 - val_acc: 0.9714 - val_recall_12: 0.9868\n",
            "Epoch 79/200\n",
            "157/157 [==============================] - 93s 588ms/step - loss: 0.1088 - acc: 0.9614 - recall_12: 0.9711 - val_loss: 0.0703 - val_acc: 0.9810 - val_recall_12: 0.9934\n",
            "Epoch 80/200\n",
            "157/157 [==============================] - 87s 553ms/step - loss: 0.1086 - acc: 0.9590 - recall_12: 0.9711 - val_loss: 0.0829 - val_acc: 0.9714 - val_recall_12: 0.9934\n",
            "Epoch 81/200\n",
            "157/157 [==============================] - 86s 549ms/step - loss: 0.1079 - acc: 0.9606 - recall_12: 0.9713 - val_loss: 0.0899 - val_acc: 0.9714 - val_recall_12: 0.9803\n",
            "Epoch 82/200\n",
            "157/157 [==============================] - 88s 562ms/step - loss: 0.1119 - acc: 0.9562 - recall_12: 0.9676 - val_loss: 0.1002 - val_acc: 0.9762 - val_recall_12: 0.9737\n",
            "Epoch 83/200\n",
            "157/157 [==============================] - 87s 553ms/step - loss: 0.1038 - acc: 0.9602 - recall_12: 0.9711 - val_loss: 0.1015 - val_acc: 0.9667 - val_recall_12: 0.9868\n",
            "Epoch 84/200\n",
            "157/157 [==============================] - 81s 519ms/step - loss: 0.0979 - acc: 0.9644 - recall_12: 0.9745 - val_loss: 0.0764 - val_acc: 0.9714 - val_recall_12: 0.9868\n",
            "Epoch 85/200\n",
            "157/157 [==============================] - 81s 518ms/step - loss: 0.1032 - acc: 0.9608 - recall_12: 0.9721 - val_loss: 0.0877 - val_acc: 0.9667 - val_recall_12: 0.9605\n",
            "Epoch 86/200\n",
            "157/157 [==============================] - 83s 531ms/step - loss: 0.1040 - acc: 0.9570 - recall_12: 0.9694 - val_loss: 0.0934 - val_acc: 0.9762 - val_recall_12: 0.9934\n",
            "Epoch 87/200\n",
            "157/157 [==============================] - 83s 531ms/step - loss: 0.1088 - acc: 0.9554 - recall_12: 0.9662 - val_loss: 0.0836 - val_acc: 0.9762 - val_recall_12: 0.9803\n",
            "Epoch 88/200\n",
            "157/157 [==============================] - 82s 524ms/step - loss: 0.1047 - acc: 0.9612 - recall_12: 0.9705 - val_loss: 0.0893 - val_acc: 0.9667 - val_recall_12: 0.9803\n",
            "Epoch 89/200\n",
            "157/157 [==============================] - 81s 516ms/step - loss: 0.0999 - acc: 0.9628 - recall_12: 0.9732 - val_loss: 0.0882 - val_acc: 0.9762 - val_recall_12: 0.9868\n",
            "Epoch 90/200\n",
            "157/157 [==============================] - 82s 521ms/step - loss: 0.1050 - acc: 0.9638 - recall_12: 0.9753 - val_loss: 0.0788 - val_acc: 0.9762 - val_recall_12: 0.9803\n",
            "Epoch 91/200\n",
            "157/157 [==============================] - 82s 522ms/step - loss: 0.1022 - acc: 0.9592 - recall_12: 0.9713 - val_loss: 0.0921 - val_acc: 0.9714 - val_recall_12: 0.9803\n",
            "Epoch 92/200\n",
            "157/157 [==============================] - 81s 516ms/step - loss: 0.0980 - acc: 0.9634 - recall_12: 0.9735 - val_loss: 0.0751 - val_acc: 0.9714 - val_recall_12: 0.9803\n",
            "Epoch 93/200\n",
            "157/157 [==============================] - 86s 547ms/step - loss: 0.1051 - acc: 0.9574 - recall_12: 0.9700 - val_loss: 0.1398 - val_acc: 0.9333 - val_recall_12: 0.9211\n",
            "Epoch 94/200\n",
            "157/157 [==============================] - 85s 542ms/step - loss: 0.1116 - acc: 0.9572 - recall_12: 0.9670 - val_loss: 0.0840 - val_acc: 0.9714 - val_recall_12: 0.9868\n",
            "Epoch 95/200\n",
            "157/157 [==============================] - 81s 515ms/step - loss: 0.1015 - acc: 0.9584 - recall_12: 0.9708 - val_loss: 0.0871 - val_acc: 0.9714 - val_recall_12: 0.9868\n",
            "Epoch 96/200\n",
            "157/157 [==============================] - 81s 518ms/step - loss: 0.0986 - acc: 0.9636 - recall_12: 0.9705 - val_loss: 0.1035 - val_acc: 0.9667 - val_recall_12: 0.9934\n",
            "Epoch 97/200\n",
            "157/157 [==============================] - 81s 515ms/step - loss: 0.0949 - acc: 0.9638 - recall_12: 0.9729 - val_loss: 0.1095 - val_acc: 0.9571 - val_recall_12: 0.9605\n",
            "Epoch 98/200\n",
            "157/157 [==============================] - 82s 519ms/step - loss: 0.0988 - acc: 0.9604 - recall_12: 0.9705 - val_loss: 0.1124 - val_acc: 0.9571 - val_recall_12: 0.9868\n",
            "Epoch 99/200\n",
            "157/157 [==============================] - 81s 518ms/step - loss: 0.0974 - acc: 0.9624 - recall_12: 0.9737 - val_loss: 0.0885 - val_acc: 0.9714 - val_recall_12: 0.9803\n",
            "Restoring model weights from the end of the best epoch.\n",
            "Epoch 00099: early stopping\n"
          ]
        }
      ],
      "source": [
        "long_run = models.Sequential()\n",
        "long_run.add(layers.Conv2D(32, 7, padding='valid', input_shape=(150,150,1), activation='relu'))\n",
        "long_run.add(layers.MaxPooling2D(2))\n",
        "long_run.add(layers.Conv2D(128, 3, padding='valid', activation='relu'))\n",
        "long_run.add(layers.MaxPooling2D(2))\n",
        "long_run.add(layers.Conv2D(64, 3, padding='same', activation='relu'))\n",
        "long_run.add(layers.MaxPooling2D(2))\n",
        "long_run.add(layers.Conv2D(64, 2, padding='same', activation='relu'))\n",
        "long_run.add(layers.MaxPooling2D(2))\n",
        "long_run.add(layers.Flatten())\n",
        "long_run.add(layers.Dense(64, activation='relu'))\n",
        "long_run.add(layers.Dense(64, activation='relu'))\n",
        "long_run.add(layers.Dense(1, activation='sigmoid'))\n",
        "long_run.compile(optimizer=\"adam\", loss=\"binary_crossentropy\", metrics=['acc', tf.metrics.Recall()])\n",
        "long_run.summary()\n",
        "\n",
        "# Fitting the model\n",
        "history_long_run = long_run.fit(augment_set,\n",
        "                    validation_data=val_set,\n",
        "                    epochs=200,\n",
        "                    callbacks=[earlystop, tensorboard_callback])"
      ]
    },
    {
      "cell_type": "code",
      "execution_count": 55,
      "metadata": {},
      "outputs": [
        {
          "name": "stdout",
          "output_type": "stream",
          "text": [
            "20/20 [==============================] - 17s 858ms/step - loss: 0.2433 - acc: 0.9054 - recall_12: 0.9846\n"
          ]
        },
        {
          "data": {
            "text/plain": [
              "[0.24325253069400787, 0.9054487347602844, 0.9846153855323792]"
            ]
          },
          "execution_count": 55,
          "metadata": {},
          "output_type": "execute_result"
        }
      ],
      "source": [
        "long_run.evaluate(test_set)"
      ]
    },
    {
      "cell_type": "code",
      "execution_count": 56,
      "metadata": {},
      "outputs": [],
      "source": [
        "long_run.save('long_run.h5', save_format='h5')"
      ]
    },
    {
      "cell_type": "code",
      "execution_count": 49,
      "metadata": {},
      "outputs": [
        {
          "data": {
            "text/plain": [
              "array([[ 67, 167],\n",
              "       [117, 273]])"
            ]
          },
          "execution_count": 49,
          "metadata": {},
          "output_type": "execute_result"
        }
      ],
      "source": [
        "from sklearn.metrics import confusion_matrix\n",
        "\n",
        "confusion_matrix(test_set.labels, y_pred)"
      ]
    },
    {
      "cell_type": "code",
      "execution_count": 29,
      "metadata": {},
      "outputs": [],
      "source": [
        "model1.save('First_Model.h5', save_format='h5')\n",
        "second_model.save('Valid_Padding.h5', save_format='h5')\n",
        "third_model.save('More_Convolution_Layers.h5', save_format='h5')\n",
        "augmented.save('Image_Augmentation.h5', save_format='h5')"
      ]
    },
    {
      "cell_type": "code",
      "execution_count": 7,
      "metadata": {},
      "outputs": [
        {
          "data": {
            "text/plain": [
              "Reusing TensorBoard on port 6006 (pid 30900), started 0:00:09 ago. (Use '!kill 30900' to kill it.)"
            ]
          },
          "metadata": {},
          "output_type": "display_data"
        },
        {
          "data": {
            "text/html": [
              "\n",
              "      <iframe id=\"tensorboard-frame-95bbf2a700bc3939\" width=\"100%\" height=\"800\" frameborder=\"0\">\n",
              "      </iframe>\n",
              "      <script>\n",
              "        (function() {\n",
              "          const frame = document.getElementById(\"tensorboard-frame-95bbf2a700bc3939\");\n",
              "          const url = new URL(\"http://localhost\");\n",
              "          const port = 6006;\n",
              "          if (port) {\n",
              "            url.port = port;\n",
              "          }\n",
              "          frame.src = url;\n",
              "        })();\n",
              "      </script>\n",
              "    "
            ],
            "text/plain": [
              "<IPython.core.display.HTML object>"
            ]
          },
          "metadata": {},
          "output_type": "display_data"
        }
      ],
      "source": [
        "%tensorboard --logdir logs/fit"
      ]
    },
    {
      "cell_type": "code",
      "execution_count": 1,
      "metadata": {},
      "outputs": [
        {
          "data": {
            "image/png": "[encoded data removed]",
            "text/plain": [
              "<Figure size 432x288 with 1 Axes>"
            ]
          },
          "metadata": {
            "needs_background": "light"
          },
          "output_type": "display_data"
        },
        {
          "data": {
            "image/png": "[encoded data removed]",
            "text/plain": [
              "<Figure size 432x288 with 1 Axes>"
            ]
          },
          "metadata": {
            "needs_background": "light"
          },
          "output_type": "display_data"
        }
      ],
      "source": [
        "from modelplotting import tf_board_plots\n",
        "\n",
        "ploting_list = [({'Train': 'run-baseline20220217-155427_train-tag-epoch_acc.csv',\n",
        "                  'Validation': 'run-baseline20220217-155427_validation-tag-epoch_acc.csv'}, ('Baseline', 'Accuracy')),\n",
        "                  ({'Train': 'run-baseline20220217-155427_train-tag-epoch_recall.csv',\n",
        "                    'Validation': 'run-baseline20220217-155427_validation-tag-epoch_recall.csv'}, ('Baseline', 'Recall'))]\n",
        "\n",
        "tf_board_plots(ploting_list)"
      ]
    },
    {
      "cell_type": "code",
      "execution_count": 6,
      "metadata": {},
      "outputs": [
        {
          "name": "stdout",
          "output_type": "stream",
          "text": [
            "Found 624 images belonging to 2 classes.\n",
            "20/20 [==============================] - 8s 355ms/step - loss: 3.1034 - acc: 0.7484 - recall: 0.9949\n",
            "20/20 [==============================] - 8s 355ms/step - loss: 0.9116 - acc: 0.7676 - recall_1: 0.9897\n",
            "20/20 [==============================] - 7s 356ms/step - loss: 0.7861 - acc: 0.7644 - recall_3: 0.9923\n",
            "20/20 [==============================] - 7s 351ms/step - loss: 0.2459 - acc: 0.8862 - recall_5: 0.9179\n",
            "20/20 [==============================] - 8s 357ms/step - loss: 0.3743 - acc: 0.8221 - recall_5: 0.9718\n",
            "20/20 [==============================] - 8s 358ms/step - loss: 0.2632 - acc: 0.8958 - recall_7: 0.9769\n",
            "20/20 [==============================] - 8s 358ms/step - loss: 0.3166 - acc: 0.8686 - recall_10: 0.9590\n",
            "20/20 [==============================] - 7s 354ms/step - loss: 0.2433 - acc: 0.9054 - recall_12: 0.9846\n"
          ]
        },
        {
          "data": {
            "image/png": "[encoded data removed]",
            "text/plain": [
              "<Figure size 1440x720 with 2 Axes>"
            ]
          },
          "metadata": {},
          "output_type": "display_data"
        }
      ],
      "source": [
        "from modelplotting import plot_models\n",
        "\n",
        "model_list = ['models/First_Model.h5',\n",
        "            'models/Valid_Padding.h5',\n",
        "            'models/More_Convolution_Layers.h5',\n",
        "            'models/Image_Augmentation.h5',\n",
        "            'models/More_Layered_Augmentation.h5',\n",
        "            'models/Third_Augmentation_recall_high.h5',\n",
        "            'models/More_params.h5',\n",
        "            'models/long_run.h5']\n",
        "\n",
        "model_names = {'models/First_Model.h5': \"Baseline\",\n",
        "            'models/Valid_Padding.h5': \"Valid Padding\",\n",
        "            'models/More_Convolution_Layers.h5': \"Added Layers\",\n",
        "            'models/Image_Augmentation.h5': \"Added Image Augmentation\",\n",
        "            'models/More_Layered_Augmentation.h5': \"More Added Layers\",\n",
        "            'models/Third_Augmentation_recall_high.h5': \"Reduced Pooling\",\n",
        "            'models/More_params.h5': 'Larger Convolutional Layers',\n",
        "            'models/long_run.h5': 'Long Train Time'}\n",
        "\n",
        "\n",
        "plot_models(model_list, test_location='chest_xray/test', save_file='Wednesday_Night_Models.png', palette='YlGnBu', labels=model_names)"
      ]
    },
    {
      "cell_type": "code",
      "execution_count": null,
      "metadata": {},
      "outputs": [],
      "source": [
        "from keras_visualizer import visualizer\n",
        "\n",
        "long_model = models.load_model('models/long_run.h5')\n",
        "visualizer(long_model, filename='long_model_visual', format='png')"
      ]
    },
    {
      "cell_type": "code",
      "execution_count": null,
      "metadata": {},
      "outputs": [],
      "source": []
    }
  ],
  "metadata": {
    "accelerator": "TPU",
    "colab": {
      "authorship_tag": "ABX9TyNmW8dr6Daq9DWYqzP/y3J+",
      "include_colab_link": true,
      "name": "baseline model.ipynb",
      "provenance": []
    },
    "kernelspec": {
      "display_name": "Python 3",
      "name": "python3"
    },
    "language_info": {
      "codemirror_mode": {
        "name": "ipython",
        "version": 3
      },
      "file_extension": ".py",
      "mimetype": "text/x-python",
      "name": "python",
      "nbconvert_exporter": "python",
      "pygments_lexer": "ipython3",
      "version": "3.8.5"
    }
  },
  "nbformat": 4,
  "nbformat_minor": 0
}
