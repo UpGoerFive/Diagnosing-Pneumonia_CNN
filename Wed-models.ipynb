{
  "cells": [
    {
      "cell_type": "code",
      "execution_count": 1,
      "metadata": {
        "id": "RQxJp_dYBymh"
      },
      "outputs": [],
      "source": [
        "import numpy as np\n",
        "import pandas as pd\n",
        "import matplotlib.pyplot as plt\n",
        "\n",
        "import tensorflow as tf\n",
        "from tensorflow.keras import datasets, layers, models\n",
        "from tensorflow.keras.preprocessing.image import ImageDataGenerator\n",
        "from tensorflow.keras.callbacks import EarlyStopping"
      ]
    },
    {
      "cell_type": "code",
      "execution_count": 2,
      "metadata": {
        "colab": {
          "base_uri": "https://localhost:8080/"
        },
        "id": "g_4GchlqACCx",
        "outputId": "e85c2f23-e654-4011-dcb4-350d6c5626ef"
      },
      "outputs": [
        {
          "name": "stdout",
          "output_type": "stream",
          "text": [
            "Found 5022 images belonging to 2 classes.\n",
            "Found 210 images belonging to 2 classes.\n",
            "Found 624 images belonging to 2 classes.\n"
          ]
        }
      ],
      "source": [
        "idg = ImageDataGenerator(rescale=1./255)\n",
        "\n",
        "train_set = idg.flow_from_directory('chest_xray/train',\n",
        "                                                 target_size=(150, 150),\n",
        "                                                 batch_size=32,\n",
        "                                                 class_mode='binary',\n",
        "                                                 color_mode='grayscale')\n",
        "\n",
        "val_set = idg.flow_from_directory('chest_xray/val',\n",
        "                                          target_size=(150, 150),\n",
        "                                          batch_size=32,\n",
        "                                          class_mode='binary',\n",
        "                                          color_mode='grayscale')\n",
        "\n",
        "test_set = idg.flow_from_directory('chest_xray/test',\n",
        "                                            target_size=(150, 150),\n",
        "                                            batch_size=32,\n",
        "                                            class_mode='binary',\n",
        "                                            color_mode='grayscale')"
      ]
    },
    {
      "cell_type": "code",
      "execution_count": 3,
      "metadata": {
        "id": "X97AXkLykYhq"
      },
      "outputs": [],
      "source": [
        "# Setting paramaters on early stopping\n",
        "earlystop = EarlyStopping(monitor='val_loss',\n",
        "                          min_delta=0,\n",
        "                          patience=20,\n",
        "                          verbose=1,\n",
        "                          mode='min',\n",
        "                          restore_best_weights=True)"
      ]
    },
    {
      "cell_type": "code",
      "execution_count": 4,
      "metadata": {
        "id": "-6U5DmDSQFo1"
      },
      "outputs": [],
      "source": [
        "# Building the model\n",
        "model1 = models.Sequential()\n",
        "model1.add(layers.Conv2D(32, 7, input_shape=(150,150,1), padding='same',\n",
        "                         activation='relu'))\n",
        "model1.add(layers.MaxPooling2D(2))\n",
        "model1.add(layers.Conv2D(64, 3, padding='same', activation='relu'))\n",
        "model1.add(layers.MaxPooling2D(2))\n",
        "model1.add(layers.Flatten())\n",
        "model1.add(layers.Dense(64, activation='relu'))\n",
        "model1.add(layers.Dense(32, activation='relu'))\n",
        "model1.add(layers.Dense(1, activation='sigmoid'))\n",
        "model1.compile(optimizer=\"adam\", loss=\"binary_crossentropy\", metrics=['acc', tf.metrics.Recall()])\n",
        "model1.summary()"
      ]
    },
    {
      "cell_type": "code",
      "execution_count": 7,
      "metadata": {
        "colab": {
          "base_uri": "https://localhost:8080/"
        },
        "id": "6_OjG31CxZL8",
        "outputId": "01a75c80-6cbc-49df-ad27-3a70c7cea4e1"
      },
      "outputs": [
        {
          "name": "stdout",
          "output_type": "stream",
          "text": [
            "Epoch 1/30\n",
            "100/100 [==============================] - 131s 1s/step - loss: 0.3747 - acc: 0.8383 - recall: 0.9605 - val_loss: 0.1761 - val_acc: 0.9238 - val_recall: 0.9276\n",
            "Epoch 2/30\n",
            "100/100 [==============================] - 84s 845ms/step - loss: 0.1425 - acc: 0.9478 - recall: 0.9704 - val_loss: 0.1368 - val_acc: 0.9619 - val_recall: 0.9803\n",
            "Epoch 3/30\n",
            "100/100 [==============================] - 81s 809ms/step - loss: 0.1085 - acc: 0.9584 - recall: 0.9738 - val_loss: 0.1031 - val_acc: 0.9619 - val_recall: 0.9671\n",
            "Epoch 4/30\n",
            "100/100 [==============================] - 67s 670ms/step - loss: 0.0846 - acc: 0.9684 - recall: 0.9810 - val_loss: 0.1034 - val_acc: 0.9619 - val_recall: 0.9539\n",
            "Epoch 5/30\n",
            "100/100 [==============================] - 57s 572ms/step - loss: 0.0777 - acc: 0.9728 - recall: 0.9809 - val_loss: 0.1643 - val_acc: 0.9333 - val_recall: 0.9868\n",
            "Epoch 6/30\n",
            "100/100 [==============================] - 54s 536ms/step - loss: 0.0747 - acc: 0.9747 - recall: 0.9839 - val_loss: 0.1150 - val_acc: 0.9667 - val_recall: 0.9671\n",
            "Epoch 7/30\n",
            "100/100 [==============================] - 49s 488ms/step - loss: 0.0634 - acc: 0.9756 - recall: 0.9843 - val_loss: 0.0932 - val_acc: 0.9762 - val_recall: 0.9803\n",
            "Epoch 8/30\n",
            "100/100 [==============================] - 49s 495ms/step - loss: 0.0425 - acc: 0.9844 - recall: 0.9907 - val_loss: 0.1970 - val_acc: 0.9476 - val_recall: 0.9276\n",
            "Epoch 9/30\n",
            "100/100 [==============================] - 49s 489ms/step - loss: 0.0680 - acc: 0.9740 - recall: 0.9849 - val_loss: 0.1376 - val_acc: 0.9333 - val_recall: 0.9803\n",
            "Epoch 10/30\n",
            "100/100 [==============================] - 47s 466ms/step - loss: 0.0428 - acc: 0.9831 - recall: 0.9903 - val_loss: 0.0932 - val_acc: 0.9667 - val_recall: 0.9737\n",
            "Epoch 11/30\n",
            "100/100 [==============================] - 45s 449ms/step - loss: 0.0359 - acc: 0.9866 - recall: 0.9904 - val_loss: 0.0810 - val_acc: 0.9810 - val_recall: 0.9803\n",
            "Epoch 12/30\n",
            "100/100 [==============================] - 45s 448ms/step - loss: 0.0318 - acc: 0.9869 - recall: 0.9904 - val_loss: 0.1274 - val_acc: 0.9571 - val_recall: 0.9934\n",
            "Epoch 13/30\n",
            "100/100 [==============================] - 46s 464ms/step - loss: 0.0330 - acc: 0.9884 - recall: 0.9920 - val_loss: 0.0960 - val_acc: 0.9667 - val_recall: 0.9803\n",
            "Epoch 14/30\n",
            "100/100 [==============================] - 46s 461ms/step - loss: 0.0376 - acc: 0.9844 - recall: 0.9903 - val_loss: 0.1663 - val_acc: 0.9381 - val_recall: 0.9803\n",
            "Epoch 15/30\n",
            "100/100 [==============================] - 46s 459ms/step - loss: 0.0225 - acc: 0.9919 - recall: 0.9941 - val_loss: 0.1208 - val_acc: 0.9619 - val_recall: 0.9868\n",
            "Epoch 16/30\n",
            "100/100 [==============================] - 46s 458ms/step - loss: 0.0213 - acc: 0.9931 - recall: 0.9966 - val_loss: 0.0873 - val_acc: 0.9762 - val_recall: 0.9868\n",
            "Epoch 17/30\n",
            "100/100 [==============================] - 46s 456ms/step - loss: 0.1328 - acc: 0.9550 - recall: 0.9678 - val_loss: 0.1122 - val_acc: 0.9571 - val_recall: 0.9803\n",
            "Epoch 18/30\n",
            "100/100 [==============================] - 47s 464ms/step - loss: 0.0302 - acc: 0.9884 - recall: 0.9920 - val_loss: 0.1168 - val_acc: 0.9524 - val_recall: 0.9803\n",
            "Epoch 19/30\n",
            "100/100 [==============================] - 46s 460ms/step - loss: 0.0196 - acc: 0.9931 - recall: 0.9949 - val_loss: 0.1916 - val_acc: 0.9429 - val_recall: 0.9803\n",
            "Epoch 20/30\n",
            "100/100 [==============================] - 46s 456ms/step - loss: 0.0134 - acc: 0.9966 - recall: 0.9979 - val_loss: 0.1320 - val_acc: 0.9524 - val_recall: 0.9737\n",
            "Epoch 21/30\n",
            "100/100 [==============================] - 47s 472ms/step - loss: 0.0094 - acc: 0.9966 - recall: 0.9979 - val_loss: 0.1232 - val_acc: 0.9619 - val_recall: 0.9737\n",
            "Epoch 22/30\n",
            "100/100 [==============================] - 47s 468ms/step - loss: 0.0142 - acc: 0.9931 - recall: 0.9954 - val_loss: 0.1202 - val_acc: 0.9429 - val_recall: 0.9737\n",
            "Epoch 23/30\n",
            "100/100 [==============================] - 48s 484ms/step - loss: 0.0120 - acc: 0.9966 - recall: 0.9975 - val_loss: 0.1519 - val_acc: 0.9619 - val_recall: 0.9803\n",
            "Epoch 24/30\n",
            "100/100 [==============================] - 49s 491ms/step - loss: 0.0069 - acc: 0.9975 - recall: 0.9987 - val_loss: 0.1318 - val_acc: 0.9714 - val_recall: 0.9868\n",
            "Epoch 25/30\n",
            "100/100 [==============================] - 48s 478ms/step - loss: 0.0146 - acc: 0.9941 - recall: 0.9954 - val_loss: 0.1656 - val_acc: 0.9524 - val_recall: 0.9868\n",
            "Epoch 26/30\n",
            "100/100 [==============================] - 47s 470ms/step - loss: 0.0201 - acc: 0.9919 - recall: 0.9949 - val_loss: 0.3073 - val_acc: 0.9143 - val_recall: 0.9868\n",
            "Epoch 27/30\n",
            "100/100 [==============================] - 46s 457ms/step - loss: 0.0106 - acc: 0.9969 - recall: 0.9979 - val_loss: 0.1284 - val_acc: 0.9571 - val_recall: 0.9803\n",
            "Epoch 28/30\n",
            "100/100 [==============================] - 46s 458ms/step - loss: 0.0056 - acc: 0.9987 - recall: 0.9992 - val_loss: 0.1747 - val_acc: 0.9714 - val_recall: 0.9868\n",
            "Epoch 29/30\n",
            "100/100 [==============================] - 45s 449ms/step - loss: 0.0013 - acc: 0.9997 - recall: 0.9996 - val_loss: 0.1699 - val_acc: 0.9714 - val_recall: 0.9868\n",
            "Epoch 30/30\n",
            "100/100 [==============================] - 45s 448ms/step - loss: 3.5945e-04 - acc: 1.0000 - recall: 1.0000 - val_loss: 0.1882 - val_acc: 0.9667 - val_recall: 0.9803\n"
          ]
        }
      ],
      "source": [
        "# Fitting the model\n",
        "history1 = model1.fit(train_set,\n",
        "                    validation_data=val_set,\n",
        "                    steps_per_epoch=100,\n",
        "                    epochs=30,\n",
        "                    callbacks=[earlystop]\n",
        "                    )"
      ]
    },
    {
      "cell_type": "code",
      "execution_count": 8,
      "metadata": {},
      "outputs": [
        {
          "name": "stdout",
          "output_type": "stream",
          "text": [
            "20/20 [==============================] - 18s 936ms/step - loss: 3.1034 - acc: 0.7484 - recall: 0.9949\n"
          ]
        },
        {
          "data": {
            "text/plain": [
              "[3.1034023761749268, 0.7483974099159241, 0.9948717951774597]"
            ]
          },
          "execution_count": 8,
          "metadata": {},
          "output_type": "execute_result"
        }
      ],
      "source": [
        "model1.evaluate(test_set)"
      ]
    },
    {
      "cell_type": "code",
      "execution_count": 10,
      "metadata": {
        "id": "-6U5DmDSQFo1"
      },
      "outputs": [
        {
          "name": "stdout",
          "output_type": "stream",
          "text": [
            "Model: \"sequential_1\"\n",
            "_________________________________________________________________\n",
            "Layer (type)                 Output Shape              Param #   \n",
            "=================================================================\n",
            "conv2d_2 (Conv2D)            (None, 144, 144, 32)      1600      \n",
            "_________________________________________________________________\n",
            "max_pooling2d_2 (MaxPooling2 (None, 72, 72, 32)        0         \n",
            "_________________________________________________________________\n",
            "conv2d_3 (Conv2D)            (None, 70, 70, 64)        18496     \n",
            "_________________________________________________________________\n",
            "max_pooling2d_3 (MaxPooling2 (None, 35, 35, 64)        0         \n",
            "_________________________________________________________________\n",
            "flatten_1 (Flatten)          (None, 78400)             0         \n",
            "_________________________________________________________________\n",
            "dense_3 (Dense)              (None, 64)                5017664   \n",
            "_________________________________________________________________\n",
            "dense_4 (Dense)              (None, 32)                2080      \n",
            "_________________________________________________________________\n",
            "dense_5 (Dense)              (None, 1)                 33        \n",
            "=================================================================\n",
            "Total params: 5,039,873\n",
            "Trainable params: 5,039,873\n",
            "Non-trainable params: 0\n",
            "_________________________________________________________________\n"
          ]
        }
      ],
      "source": [
        "# Building the model\n",
        "second_model = models.Sequential()\n",
        "second_model.add(layers.Conv2D(32, 7, input_shape=(150,150,1), padding='valid',\n",
        "                         activation='relu'))\n",
        "second_model.add(layers.MaxPooling2D(2))\n",
        "second_model.add(layers.Conv2D(64, 3, padding='valid', activation='relu'))\n",
        "second_model.add(layers.MaxPooling2D(2))\n",
        "second_model.add(layers.Flatten())\n",
        "second_model.add(layers.Dense(64, activation='relu'))\n",
        "second_model.add(layers.Dense(32, activation='relu'))\n",
        "second_model.add(layers.Dense(1, activation='sigmoid'))\n",
        "second_model.compile(optimizer=\"adam\", loss=\"binary_crossentropy\", metrics=['acc', tf.metrics.Recall()])\n",
        "second_model.summary()"
      ]
    },
    {
      "cell_type": "code",
      "execution_count": 11,
      "metadata": {},
      "outputs": [
        {
          "name": "stdout",
          "output_type": "stream",
          "text": [
            "Epoch 1/30\n",
            "100/100 [==============================] - 83s 812ms/step - loss: 0.2752 - acc: 0.8853 - recall_1: 0.9635 - val_loss: 0.1403 - val_acc: 0.9619 - val_recall_1: 0.9737\n",
            "Epoch 2/30\n",
            "100/100 [==============================] - 59s 592ms/step - loss: 0.1263 - acc: 0.9556 - recall_1: 0.9718 - val_loss: 0.1192 - val_acc: 0.9571 - val_recall_1: 0.9737\n",
            "Epoch 3/30\n",
            "100/100 [==============================] - 54s 538ms/step - loss: 0.0926 - acc: 0.9675 - recall_1: 0.9781 - val_loss: 0.1142 - val_acc: 0.9524 - val_recall_1: 0.9737\n",
            "Epoch 4/30\n",
            "100/100 [==============================] - 49s 490ms/step - loss: 0.0956 - acc: 0.9644 - recall_1: 0.9768 - val_loss: 0.1345 - val_acc: 0.9381 - val_recall_1: 0.9803\n",
            "Epoch 5/30\n",
            "100/100 [==============================] - 47s 468ms/step - loss: 0.0711 - acc: 0.9722 - recall_1: 0.9819 - val_loss: 0.1257 - val_acc: 0.9381 - val_recall_1: 0.9605\n",
            "Epoch 6/30\n",
            "100/100 [==============================] - 46s 457ms/step - loss: 0.0643 - acc: 0.9790 - recall_1: 0.9863 - val_loss: 0.2117 - val_acc: 0.9095 - val_recall_1: 0.9803\n",
            "Epoch 7/30\n",
            "100/100 [==============================] - 46s 465ms/step - loss: 0.0570 - acc: 0.9825 - recall_1: 0.9886 - val_loss: 0.1363 - val_acc: 0.9429 - val_recall_1: 0.9803\n",
            "Epoch 8/30\n",
            "100/100 [==============================] - 46s 460ms/step - loss: 0.0508 - acc: 0.9841 - recall_1: 0.9894 - val_loss: 0.1963 - val_acc: 0.9381 - val_recall_1: 0.9803\n",
            "Epoch 9/30\n",
            "100/100 [==============================] - 46s 459ms/step - loss: 0.0420 - acc: 0.9816 - recall_1: 0.9895 - val_loss: 0.1523 - val_acc: 0.9619 - val_recall_1: 0.9737\n",
            "Epoch 10/30\n",
            "100/100 [==============================] - 46s 460ms/step - loss: 0.0469 - acc: 0.9819 - recall_1: 0.9877 - val_loss: 0.1742 - val_acc: 0.9286 - val_recall_1: 0.9737\n",
            "Epoch 11/30\n",
            "100/100 [==============================] - 46s 458ms/step - loss: 0.0573 - acc: 0.9787 - recall_1: 0.9853 - val_loss: 0.1387 - val_acc: 0.9333 - val_recall_1: 0.9737\n",
            "Epoch 12/30\n",
            "100/100 [==============================] - 46s 459ms/step - loss: 0.0392 - acc: 0.9853 - recall_1: 0.9895 - val_loss: 0.1685 - val_acc: 0.9429 - val_recall_1: 0.9803\n",
            "Epoch 13/30\n",
            "100/100 [==============================] - 46s 459ms/step - loss: 0.0190 - acc: 0.9922 - recall_1: 0.9954 - val_loss: 0.1606 - val_acc: 0.9476 - val_recall_1: 0.9803\n",
            "Epoch 14/30\n",
            "100/100 [==============================] - 46s 458ms/step - loss: 0.0317 - acc: 0.9862 - recall_1: 0.9912 - val_loss: 0.1519 - val_acc: 0.9524 - val_recall_1: 0.9671\n",
            "Epoch 15/30\n",
            "100/100 [==============================] - 45s 448ms/step - loss: 0.0404 - acc: 0.9841 - recall_1: 0.9883 - val_loss: 0.2663 - val_acc: 0.9000 - val_recall_1: 0.9868\n",
            "Epoch 16/30\n",
            "100/100 [==============================] - 45s 451ms/step - loss: 0.0296 - acc: 0.9869 - recall_1: 0.9924 - val_loss: 0.1279 - val_acc: 0.9619 - val_recall_1: 0.9737\n",
            "Epoch 17/30\n",
            "100/100 [==============================] - 51s 507ms/step - loss: 0.0134 - acc: 0.9959 - recall_1: 0.9975 - val_loss: 0.2063 - val_acc: 0.9476 - val_recall_1: 1.0000\n",
            "Epoch 18/30\n",
            "100/100 [==============================] - 49s 491ms/step - loss: 0.0116 - acc: 0.9959 - recall_1: 0.9979 - val_loss: 0.1467 - val_acc: 0.9571 - val_recall_1: 0.9803\n",
            "Epoch 19/30\n",
            "100/100 [==============================] - 47s 473ms/step - loss: 0.0168 - acc: 0.9937 - recall_1: 0.9966 - val_loss: 0.1691 - val_acc: 0.9619 - val_recall_1: 0.9803\n",
            "Epoch 20/30\n",
            "100/100 [==============================] - 46s 463ms/step - loss: 0.0237 - acc: 0.9916 - recall_1: 0.9937 - val_loss: 0.2783 - val_acc: 0.9190 - val_recall_1: 0.9934\n",
            "Epoch 21/30\n",
            "100/100 [==============================] - 45s 451ms/step - loss: 0.0167 - acc: 0.9950 - recall_1: 0.9962 - val_loss: 0.2034 - val_acc: 0.9333 - val_recall_1: 0.9803\n",
            "Epoch 22/30\n",
            "100/100 [==============================] - 45s 450ms/step - loss: 0.0075 - acc: 0.9972 - recall_1: 0.9979 - val_loss: 0.2057 - val_acc: 0.9381 - val_recall_1: 0.9671\n",
            "Epoch 23/30\n",
            "100/100 [==============================] - 46s 457ms/step - loss: 0.0068 - acc: 0.9975 - recall_1: 0.9979 - val_loss: 0.2181 - val_acc: 0.9571 - val_recall_1: 0.9671\n",
            "Restoring model weights from the end of the best epoch.\n",
            "Epoch 00023: early stopping\n"
          ]
        }
      ],
      "source": [
        "# Fitting the model\n",
        "history2 = second_model.fit(train_set,\n",
        "                    validation_data=val_set,\n",
        "                    steps_per_epoch=100,\n",
        "                    epochs=30,\n",
        "                    callbacks=[earlystop]\n",
        "                    )"
      ]
    },
    {
      "cell_type": "code",
      "execution_count": 12,
      "metadata": {},
      "outputs": [
        {
          "name": "stdout",
          "output_type": "stream",
          "text": [
            "20/20 [==============================] - 16s 827ms/step - loss: 0.9116 - acc: 0.7676 - recall_1: 0.9897\n"
          ]
        },
        {
          "data": {
            "text/plain": [
              "[0.9116288423538208, 0.7676281929016113, 0.9897435903549194]"
            ]
          },
          "execution_count": 12,
          "metadata": {},
          "output_type": "execute_result"
        }
      ],
      "source": [
        "second_model.evaluate(test_set)"
      ]
    },
    {
      "cell_type": "code",
      "execution_count": 15,
      "metadata": {
        "id": "-6U5DmDSQFo1"
      },
      "outputs": [
        {
          "name": "stdout",
          "output_type": "stream",
          "text": [
            "Model: \"sequential_3\"\n",
            "_________________________________________________________________\n",
            "Layer (type)                 Output Shape              Param #   \n",
            "=================================================================\n",
            "conv2d_6 (Conv2D)            (None, 144, 144, 32)      1600      \n",
            "_________________________________________________________________\n",
            "max_pooling2d_6 (MaxPooling2 (None, 72, 72, 32)        0         \n",
            "_________________________________________________________________\n",
            "conv2d_7 (Conv2D)            (None, 72, 72, 64)        18496     \n",
            "_________________________________________________________________\n",
            "max_pooling2d_7 (MaxPooling2 (None, 36, 36, 64)        0         \n",
            "_________________________________________________________________\n",
            "conv2d_8 (Conv2D)            (None, 36, 36, 64)        36928     \n",
            "_________________________________________________________________\n",
            "max_pooling2d_8 (MaxPooling2 (None, 12, 12, 64)        0         \n",
            "_________________________________________________________________\n",
            "flatten_3 (Flatten)          (None, 9216)              0         \n",
            "_________________________________________________________________\n",
            "dense_8 (Dense)              (None, 64)                589888    \n",
            "_________________________________________________________________\n",
            "dense_9 (Dense)              (None, 1)                 65        \n",
            "=================================================================\n",
            "Total params: 646,977\n",
            "Trainable params: 646,977\n",
            "Non-trainable params: 0\n",
            "_________________________________________________________________\n",
            "Epoch 1/30\n",
            "100/100 [==============================] - 49s 476ms/step - loss: 0.4273 - acc: 0.7661 - recall_3: 0.9975 - val_loss: 0.3261 - val_acc: 0.8571 - val_recall_3: 0.9868\n",
            "Epoch 2/30\n",
            "100/100 [==============================] - 46s 461ms/step - loss: 0.2422 - acc: 0.9134 - recall_3: 0.9772 - val_loss: 0.1426 - val_acc: 0.9571 - val_recall_3: 0.9737\n",
            "Epoch 3/30\n",
            "100/100 [==============================] - 45s 448ms/step - loss: 0.1019 - acc: 0.9597 - recall_3: 0.9737 - val_loss: 0.0983 - val_acc: 0.9476 - val_recall_3: 0.9737\n",
            "Epoch 4/30\n",
            "100/100 [==============================] - 45s 445ms/step - loss: 0.1073 - acc: 0.9606 - recall_3: 0.9749 - val_loss: 0.2506 - val_acc: 0.9048 - val_recall_3: 0.9934\n",
            "Epoch 5/30\n",
            "100/100 [==============================] - 45s 452ms/step - loss: 0.1007 - acc: 0.9637 - recall_3: 0.9750 - val_loss: 0.1315 - val_acc: 0.9333 - val_recall_3: 0.9803\n",
            "Epoch 6/30\n",
            "100/100 [==============================] - 44s 444ms/step - loss: 0.0802 - acc: 0.9719 - recall_3: 0.9832 - val_loss: 0.1398 - val_acc: 0.9333 - val_recall_3: 0.9803\n",
            "Epoch 7/30\n",
            "100/100 [==============================] - 46s 457ms/step - loss: 0.0757 - acc: 0.9731 - recall_3: 0.9830 - val_loss: 0.1024 - val_acc: 0.9571 - val_recall_3: 0.9737\n",
            "Epoch 8/30\n",
            "100/100 [==============================] - 45s 450ms/step - loss: 0.0648 - acc: 0.9759 - recall_3: 0.9840 - val_loss: 0.1452 - val_acc: 0.9429 - val_recall_3: 0.9737\n",
            "Epoch 9/30\n",
            "100/100 [==============================] - 44s 443ms/step - loss: 0.0623 - acc: 0.9756 - recall_3: 0.9841 - val_loss: 0.1775 - val_acc: 0.9095 - val_recall_3: 0.9803\n",
            "Epoch 10/30\n",
            "100/100 [==============================] - 45s 452ms/step - loss: 0.0570 - acc: 0.9787 - recall_3: 0.9853 - val_loss: 0.1295 - val_acc: 0.9571 - val_recall_3: 0.9803\n",
            "Epoch 11/30\n",
            "100/100 [==============================] - 44s 442ms/step - loss: 0.0394 - acc: 0.9837 - recall_3: 0.9887 - val_loss: 0.1230 - val_acc: 0.9524 - val_recall_3: 0.9803\n",
            "Epoch 12/30\n",
            "100/100 [==============================] - 45s 449ms/step - loss: 0.0525 - acc: 0.9816 - recall_3: 0.9878 - val_loss: 0.1216 - val_acc: 0.9524 - val_recall_3: 0.9737\n",
            "Epoch 13/30\n",
            "100/100 [==============================] - 45s 452ms/step - loss: 0.0505 - acc: 0.9800 - recall_3: 0.9870 - val_loss: 0.1703 - val_acc: 0.9381 - val_recall_3: 0.9803\n",
            "Epoch 14/30\n",
            "100/100 [==============================] - 44s 442ms/step - loss: 0.0375 - acc: 0.9850 - recall_3: 0.9896 - val_loss: 0.1106 - val_acc: 0.9714 - val_recall_3: 0.9737\n",
            "Epoch 15/30\n",
            "100/100 [==============================] - 45s 450ms/step - loss: 0.0303 - acc: 0.9891 - recall_3: 0.9911 - val_loss: 0.1590 - val_acc: 0.9429 - val_recall_3: 0.9737\n",
            "Epoch 16/30\n",
            "100/100 [==============================] - 46s 455ms/step - loss: 0.0443 - acc: 0.9825 - recall_3: 0.9881 - val_loss: 0.1521 - val_acc: 0.9714 - val_recall_3: 0.9605\n",
            "Epoch 17/30\n",
            "100/100 [==============================] - 46s 454ms/step - loss: 0.0413 - acc: 0.9841 - recall_3: 0.9903 - val_loss: 0.1287 - val_acc: 0.9524 - val_recall_3: 0.9671\n",
            "Epoch 18/30\n",
            "100/100 [==============================] - 45s 446ms/step - loss: 0.0277 - acc: 0.9894 - recall_3: 0.9937 - val_loss: 0.2252 - val_acc: 0.9238 - val_recall_3: 0.9868\n",
            "Epoch 19/30\n",
            "100/100 [==============================] - 45s 452ms/step - loss: 0.0332 - acc: 0.9881 - recall_3: 0.9916 - val_loss: 0.0985 - val_acc: 0.9714 - val_recall_3: 0.9803\n",
            "Epoch 20/30\n",
            "100/100 [==============================] - 44s 442ms/step - loss: 0.0294 - acc: 0.9891 - recall_3: 0.9912 - val_loss: 0.2721 - val_acc: 0.9048 - val_recall_3: 0.9868\n",
            "Epoch 21/30\n",
            "100/100 [==============================] - 45s 447ms/step - loss: 0.0293 - acc: 0.9881 - recall_3: 0.9916 - val_loss: 0.1952 - val_acc: 0.9381 - val_recall_3: 0.9934\n",
            "Epoch 22/30\n",
            "100/100 [==============================] - 44s 444ms/step - loss: 0.0204 - acc: 0.9922 - recall_3: 0.9950 - val_loss: 0.1445 - val_acc: 0.9571 - val_recall_3: 0.9605\n",
            "Epoch 23/30\n",
            "100/100 [==============================] - 47s 467ms/step - loss: 0.0232 - acc: 0.9922 - recall_3: 0.9945 - val_loss: 0.1213 - val_acc: 0.9714 - val_recall_3: 0.9737\n",
            "Restoring model weights from the end of the best epoch.\n",
            "Epoch 00023: early stopping\n"
          ]
        }
      ],
      "source": [
        "# Building the model\n",
        "third_model = models.Sequential()\n",
        "third_model.add(layers.Conv2D(32, 7, input_shape=(150,150,1), padding='valid',\n",
        "                         activation='relu'))\n",
        "third_model.add(layers.MaxPooling2D(2))\n",
        "third_model.add(layers.Conv2D(64, 3, padding='same', activation='relu'))\n",
        "third_model.add(layers.MaxPooling2D(2))\n",
        "third_model.add(layers.Conv2D(64, 3, padding='same', activation='relu'))\n",
        "third_model.add(layers.MaxPooling2D(3))\n",
        "third_model.add(layers.Flatten())\n",
        "third_model.add(layers.Dense(64, activation='relu'))\n",
        "third_model.add(layers.Dense(1, activation='sigmoid'))\n",
        "third_model.compile(optimizer=\"adam\", loss=\"binary_crossentropy\", metrics=['acc', tf.metrics.Recall()])\n",
        "third_model.summary()\n",
        "\n",
        "# Fitting the model\n",
        "history3 = third_model.fit(train_set,\n",
        "                    validation_data=val_set,\n",
        "                    steps_per_epoch=100,\n",
        "                    epochs=30,\n",
        "                    callbacks=[earlystop]\n",
        "                    )"
      ]
    },
    {
      "cell_type": "code",
      "execution_count": 16,
      "metadata": {},
      "outputs": [
        {
          "name": "stdout",
          "output_type": "stream",
          "text": [
            "20/20 [==============================] - 15s 767ms/step - loss: 0.7861 - acc: 0.7644 - recall_3: 0.9923\n"
          ]
        },
        {
          "data": {
            "text/plain": [
              "[0.7861124277114868, 0.7644230723381042, 0.9923076629638672]"
            ]
          },
          "execution_count": 16,
          "metadata": {},
          "output_type": "execute_result"
        }
      ],
      "source": [
        "third_model.evaluate(test_set)"
      ]
    },
    {
      "cell_type": "code",
      "execution_count": 18,
      "metadata": {
        "id": "OI52jcQ2L5bx"
      },
      "outputs": [
        {
          "name": "stderr",
          "output_type": "stream",
          "text": [
            "/home/nathaniel/anaconda3/envs/Better-learn/lib/python3.8/site-packages/sklearn/utils/validation.py:67: FutureWarning: Pass classes=[0 1], y=[0 0 0 ... 1 1 1] as keyword args. From version 0.25 passing these as positional arguments will result in an error\n",
            "  warnings.warn(\"Pass {} as keyword args. From version 0.25 \"\n"
          ]
        },
        {
          "name": "stdout",
          "output_type": "stream",
          "text": [
            "Model: \"sequential_4\"\n",
            "_________________________________________________________________\n",
            "Layer (type)                 Output Shape              Param #   \n",
            "=================================================================\n",
            "conv2d_9 (Conv2D)            (None, 150, 150, 32)      1600      \n",
            "_________________________________________________________________\n",
            "max_pooling2d_9 (MaxPooling2 (None, 75, 75, 32)        0         \n",
            "_________________________________________________________________\n",
            "conv2d_10 (Conv2D)           (None, 75, 75, 64)        18496     \n",
            "_________________________________________________________________\n",
            "max_pooling2d_10 (MaxPooling (None, 37, 37, 64)        0         \n",
            "_________________________________________________________________\n",
            "flatten_4 (Flatten)          (None, 87616)             0         \n",
            "_________________________________________________________________\n",
            "dense_10 (Dense)             (None, 64)                5607488   \n",
            "_________________________________________________________________\n",
            "dense_11 (Dense)             (None, 32)                2080      \n",
            "_________________________________________________________________\n",
            "dense_12 (Dense)             (None, 1)                 33        \n",
            "=================================================================\n",
            "Total params: 5,629,697\n",
            "Trainable params: 5,629,697\n",
            "Non-trainable params: 0\n",
            "_________________________________________________________________\n",
            "WARNING:tensorflow:From /home/nathaniel/anaconda3/envs/Better-learn/lib/python3.8/site-packages/tensorflow/python/ops/array_ops.py:5043: calling gather (from tensorflow.python.ops.array_ops) with validate_indices is deprecated and will be removed in a future version.\n",
            "Instructions for updating:\n",
            "The `validate_indices` argument has no effect. Indices are always validated on CPU and never validated on GPU.\n",
            "Epoch 1/30\n",
            "100/100 [==============================] - 106s 1s/step - loss: 0.3114 - accuracy: 0.8481 - recall_4: 0.8309 - val_loss: 0.1810 - val_accuracy: 0.9286 - val_recall_4: 0.9211\n",
            "Epoch 2/30\n",
            "100/100 [==============================] - 68s 677ms/step - loss: 0.1379 - accuracy: 0.9466 - recall_4: 0.9445 - val_loss: 0.1888 - val_accuracy: 0.9238 - val_recall_4: 0.9803\n",
            "Epoch 3/30\n",
            "100/100 [==============================] - 56s 562ms/step - loss: 0.1360 - accuracy: 0.9522 - recall_4: 0.9540 - val_loss: 0.1646 - val_accuracy: 0.9476 - val_recall_4: 0.9276\n",
            "Epoch 4/30\n",
            "100/100 [==============================] - 65s 652ms/step - loss: 0.0919 - accuracy: 0.9619 - recall_4: 0.9596 - val_loss: 0.0965 - val_accuracy: 0.9429 - val_recall_4: 0.9868\n",
            "Epoch 5/30\n",
            "100/100 [==============================] - 56s 565ms/step - loss: 0.0809 - accuracy: 0.9675 - recall_4: 0.9651 - val_loss: 0.0865 - val_accuracy: 0.9714 - val_recall_4: 0.9803\n",
            "Epoch 6/30\n",
            "100/100 [==============================] - 52s 518ms/step - loss: 0.0932 - accuracy: 0.9638 - recall_4: 0.9615 - val_loss: 0.0868 - val_accuracy: 0.9524 - val_recall_4: 0.9737\n",
            "Epoch 7/30\n",
            "100/100 [==============================] - 48s 474ms/step - loss: 0.0698 - accuracy: 0.9731 - recall_4: 0.9706 - val_loss: 0.0823 - val_accuracy: 0.9667 - val_recall_4: 0.9737\n",
            "Epoch 8/30\n",
            "100/100 [==============================] - 50s 504ms/step - loss: 0.0599 - accuracy: 0.9766 - recall_4: 0.9739 - val_loss: 0.0987 - val_accuracy: 0.9714 - val_recall_4: 0.9605\n",
            "Epoch 9/30\n",
            "100/100 [==============================] - 48s 482ms/step - loss: 0.0442 - accuracy: 0.9831 - recall_4: 0.9806 - val_loss: 0.1249 - val_accuracy: 0.9524 - val_recall_4: 0.9934\n",
            "Epoch 10/30\n",
            "100/100 [==============================] - 46s 462ms/step - loss: 0.0540 - accuracy: 0.9787 - recall_4: 0.9763 - val_loss: 0.0713 - val_accuracy: 0.9667 - val_recall_4: 0.9737\n",
            "Epoch 11/30\n",
            "100/100 [==============================] - 46s 456ms/step - loss: 0.0388 - accuracy: 0.9834 - recall_4: 0.9810 - val_loss: 0.0986 - val_accuracy: 0.9619 - val_recall_4: 0.9934\n",
            "Epoch 12/30\n",
            "100/100 [==============================] - 45s 452ms/step - loss: 0.0427 - accuracy: 0.9847 - recall_4: 0.9839 - val_loss: 0.1509 - val_accuracy: 0.9333 - val_recall_4: 0.9342\n",
            "Epoch 13/30\n",
            "100/100 [==============================] - 45s 446ms/step - loss: 0.0442 - accuracy: 0.9828 - recall_4: 0.9803 - val_loss: 0.1518 - val_accuracy: 0.9524 - val_recall_4: 0.9737\n",
            "Epoch 14/30\n",
            "100/100 [==============================] - 45s 447ms/step - loss: 0.0657 - accuracy: 0.9750 - recall_4: 0.9726 - val_loss: 0.1157 - val_accuracy: 0.9571 - val_recall_4: 0.9605\n",
            "Epoch 15/30\n",
            "100/100 [==============================] - 44s 443ms/step - loss: 0.0564 - accuracy: 0.9762 - recall_4: 0.9740 - val_loss: 0.0693 - val_accuracy: 0.9667 - val_recall_4: 0.9803\n",
            "Epoch 16/30\n",
            "100/100 [==============================] - 44s 441ms/step - loss: 0.0328 - accuracy: 0.9862 - recall_4: 0.9857 - val_loss: 0.0733 - val_accuracy: 0.9714 - val_recall_4: 0.9671\n",
            "Epoch 17/30\n",
            "100/100 [==============================] - 45s 448ms/step - loss: 0.0240 - accuracy: 0.9903 - recall_4: 0.9885 - val_loss: 0.0772 - val_accuracy: 0.9667 - val_recall_4: 0.9803\n",
            "Epoch 18/30\n",
            "100/100 [==============================] - 44s 443ms/step - loss: 0.0112 - accuracy: 0.9953 - recall_4: 0.9949 - val_loss: 0.1296 - val_accuracy: 0.9571 - val_recall_4: 0.9868\n",
            "Epoch 19/30\n",
            "100/100 [==============================] - 45s 450ms/step - loss: 0.0145 - accuracy: 0.9944 - recall_4: 0.9936 - val_loss: 0.1292 - val_accuracy: 0.9714 - val_recall_4: 0.9934\n",
            "Epoch 20/30\n",
            "100/100 [==============================] - 45s 449ms/step - loss: 0.0047 - accuracy: 0.9978 - recall_4: 0.9975 - val_loss: 0.1886 - val_accuracy: 0.9524 - val_recall_4: 0.9934\n",
            "Epoch 21/30\n",
            "100/100 [==============================] - 45s 450ms/step - loss: 0.0027 - accuracy: 0.9991 - recall_4: 0.9987 - val_loss: 0.1590 - val_accuracy: 0.9619 - val_recall_4: 0.9868\n",
            "Epoch 22/30\n",
            "100/100 [==============================] - 47s 465ms/step - loss: 0.0015 - accuracy: 0.9994 - recall_4: 0.9991 - val_loss: 0.1514 - val_accuracy: 0.9667 - val_recall_4: 0.9868\n",
            "Epoch 23/30\n",
            "100/100 [==============================] - 45s 447ms/step - loss: 0.0012 - accuracy: 0.9994 - recall_4: 0.9992 - val_loss: 0.1492 - val_accuracy: 0.9667 - val_recall_4: 0.9868\n",
            "Epoch 24/30\n",
            "100/100 [==============================] - 45s 447ms/step - loss: 0.0038 - accuracy: 0.9984 - recall_4: 0.9979 - val_loss: 0.1265 - val_accuracy: 0.9571 - val_recall_4: 0.9671\n",
            "Epoch 25/30\n",
            "100/100 [==============================] - 45s 455ms/step - loss: 0.0618 - accuracy: 0.9787 - recall_4: 0.9761 - val_loss: 0.1291 - val_accuracy: 0.9619 - val_recall_4: 0.9934\n",
            "Epoch 26/30\n",
            "100/100 [==============================] - 45s 450ms/step - loss: 0.0369 - accuracy: 0.9856 - recall_4: 0.9845 - val_loss: 0.1125 - val_accuracy: 0.9714 - val_recall_4: 0.9737\n",
            "Epoch 27/30\n",
            "100/100 [==============================] - 45s 449ms/step - loss: 0.0124 - accuracy: 0.9950 - recall_4: 0.9949 - val_loss: 0.1035 - val_accuracy: 0.9667 - val_recall_4: 0.9803\n",
            "Epoch 28/30\n",
            "100/100 [==============================] - 44s 445ms/step - loss: 0.0068 - accuracy: 0.9981 - recall_4: 0.9983 - val_loss: 0.1298 - val_accuracy: 0.9619 - val_recall_4: 0.9868\n",
            "Epoch 29/30\n",
            "100/100 [==============================] - 47s 465ms/step - loss: 0.0032 - accuracy: 0.9987 - recall_4: 0.9987 - val_loss: 0.1376 - val_accuracy: 0.9667 - val_recall_4: 0.9934\n",
            "Epoch 30/30\n",
            "100/100 [==============================] - 46s 462ms/step - loss: 0.0029 - accuracy: 0.9991 - recall_4: 0.9987 - val_loss: 0.1447 - val_accuracy: 0.9619 - val_recall_4: 0.9868\n"
          ]
        }
      ],
      "source": [
        "from sklearn.utils.class_weight import compute_class_weight\n",
        "\n",
        "# Calculating the class weights\n",
        "weights = compute_class_weight('balanced', np.unique(train_set.labels),\n",
        "                               train_set.labels)\n",
        "# Zipping the class weights into a dictionary\n",
        "weights = dict(zip(np.unique(train_set.labels), weights))\n",
        "# Building the model\n",
        "weighted_model = models.Sequential()\n",
        "weighted_model.add(layers.Conv2D(32, 7, input_shape=(150,150,1), padding='same',\n",
        "                         activation='relu'))\n",
        "weighted_model.add(layers.MaxPooling2D(2))\n",
        "weighted_model.add(layers.Conv2D(64, 3, padding='same', activation='relu'))\n",
        "weighted_model.add(layers.MaxPooling2D(2))\n",
        "weighted_model.add(layers.Flatten())\n",
        "weighted_model.add(layers.Dense(64, activation='relu'))\n",
        "weighted_model.add(layers.Dense(32, activation='relu'))\n",
        "weighted_model.add(layers.Dense(1, activation='sigmoid'))\n",
        "# Compiling the model and looking at the summary\n",
        "weighted_model.compile(loss='binary_crossentropy',\n",
        "              optimizer='adam',\n",
        "              metrics=['accuracy', tf.metrics.Recall()])\n",
        "weighted_model.summary()\n",
        "# Fitting the model\n",
        "history3 = weighted_model.fit(train_set,\n",
        "                    validation_data=val_set,\n",
        "                    steps_per_epoch=100,\n",
        "                    epochs=30,\n",
        "                    class_weight=weights,\n",
        "                    callbacks=[earlystop]\n",
        "                    )"
      ]
    },
    {
      "cell_type": "code",
      "execution_count": 19,
      "metadata": {},
      "outputs": [
        {
          "name": "stdout",
          "output_type": "stream",
          "text": [
            "20/20 [==============================] - 16s 811ms/step - loss: 3.2626 - accuracy: 0.7292 - recall_4: 0.9923\n"
          ]
        },
        {
          "data": {
            "text/plain": [
              "[3.2625746726989746, 0.7291666865348816, 0.9923076629638672]"
            ]
          },
          "execution_count": 19,
          "metadata": {},
          "output_type": "execute_result"
        }
      ],
      "source": [
        "weighted_model.evaluate(test_set)"
      ]
    },
    {
      "cell_type": "code",
      "execution_count": 23,
      "metadata": {},
      "outputs": [
        {
          "name": "stdout",
          "output_type": "stream",
          "text": [
            "Found 5216 images belonging to 2 classes.\n",
            "Model: \"sequential_6\"\n",
            "_________________________________________________________________\n",
            "Layer (type)                 Output Shape              Param #   \n",
            "=================================================================\n",
            "conv2d_11 (Conv2D)           (None, 144, 144, 32)      1600      \n",
            "_________________________________________________________________\n",
            "max_pooling2d_11 (MaxPooling (None, 72, 72, 32)        0         \n",
            "_________________________________________________________________\n",
            "conv2d_12 (Conv2D)           (None, 72, 72, 64)        18496     \n",
            "_________________________________________________________________\n",
            "max_pooling2d_12 (MaxPooling (None, 36, 36, 64)        0         \n",
            "_________________________________________________________________\n",
            "conv2d_13 (Conv2D)           (None, 36, 36, 64)        36928     \n",
            "_________________________________________________________________\n",
            "max_pooling2d_13 (MaxPooling (None, 12, 12, 64)        0         \n",
            "_________________________________________________________________\n",
            "flatten_5 (Flatten)          (None, 9216)              0         \n",
            "_________________________________________________________________\n",
            "dense_13 (Dense)             (None, 64)                589888    \n",
            "_________________________________________________________________\n",
            "dense_14 (Dense)             (None, 1)                 65        \n",
            "=================================================================\n",
            "Total params: 646,977\n",
            "Trainable params: 646,977\n",
            "Non-trainable params: 0\n",
            "_________________________________________________________________\n",
            "Epoch 1/30\n",
            "100/100 [==============================] - 107s 1s/step - loss: 0.5437 - acc: 0.7422 - recall_5: 0.9674 - val_loss: 0.4382 - val_acc: 0.7619 - val_recall_5: 1.0000\n",
            "Epoch 2/30\n",
            "100/100 [==============================] - 74s 738ms/step - loss: 0.4128 - acc: 0.7978 - recall_5: 0.8940 - val_loss: 0.3074 - val_acc: 0.8476 - val_recall_5: 0.8816\n",
            "Epoch 3/30\n",
            "100/100 [==============================] - 63s 627ms/step - loss: 0.3657 - acc: 0.8297 - recall_5: 0.9017 - val_loss: 0.2658 - val_acc: 0.8857 - val_recall_5: 0.9539\n",
            "Epoch 4/30\n",
            "100/100 [==============================] - 62s 618ms/step - loss: 0.3276 - acc: 0.8462 - recall_5: 0.9053 - val_loss: 0.2392 - val_acc: 0.9095 - val_recall_5: 0.9079\n",
            "Epoch 5/30\n",
            "100/100 [==============================] - 66s 662ms/step - loss: 0.3215 - acc: 0.8550 - recall_5: 0.9044 - val_loss: 0.3182 - val_acc: 0.8810 - val_recall_5: 0.9868\n",
            "Epoch 6/30\n",
            "100/100 [==============================] - 61s 608ms/step - loss: 0.2919 - acc: 0.8709 - recall_5: 0.9158 - val_loss: 0.2696 - val_acc: 0.9048 - val_recall_5: 0.9803\n",
            "Epoch 7/30\n",
            "100/100 [==============================] - 58s 578ms/step - loss: 0.2764 - acc: 0.8847 - recall_5: 0.9256 - val_loss: 0.2113 - val_acc: 0.9238 - val_recall_5: 0.9474\n",
            "Epoch 8/30\n",
            "100/100 [==============================] - 55s 551ms/step - loss: 0.2829 - acc: 0.8687 - recall_5: 0.9142 - val_loss: 0.2155 - val_acc: 0.9286 - val_recall_5: 0.9474\n",
            "Epoch 9/30\n",
            "100/100 [==============================] - 54s 545ms/step - loss: 0.2591 - acc: 0.8859 - recall_5: 0.9203 - val_loss: 0.2652 - val_acc: 0.8714 - val_recall_5: 0.8421\n",
            "Epoch 10/30\n",
            "100/100 [==============================] - 53s 532ms/step - loss: 0.2737 - acc: 0.8788 - recall_5: 0.9179 - val_loss: 0.2098 - val_acc: 0.9238 - val_recall_5: 0.9342\n",
            "Epoch 11/30\n",
            "100/100 [==============================] - 52s 521ms/step - loss: 0.2562 - acc: 0.8881 - recall_5: 0.9243 - val_loss: 0.2118 - val_acc: 0.9476 - val_recall_5: 0.9803\n",
            "Epoch 12/30\n",
            "100/100 [==============================] - 52s 523ms/step - loss: 0.2551 - acc: 0.8853 - recall_5: 0.9209 - val_loss: 0.2167 - val_acc: 0.9238 - val_recall_5: 0.9408\n",
            "Epoch 13/30\n",
            "100/100 [==============================] - 52s 522ms/step - loss: 0.2531 - acc: 0.8938 - recall_5: 0.9286 - val_loss: 0.2214 - val_acc: 0.9000 - val_recall_5: 0.8816\n",
            "Epoch 14/30\n",
            "100/100 [==============================] - 52s 517ms/step - loss: 0.2352 - acc: 0.9078 - recall_5: 0.9404 - val_loss: 0.2059 - val_acc: 0.9190 - val_recall_5: 0.9079\n",
            "Epoch 15/30\n",
            "100/100 [==============================] - 52s 517ms/step - loss: 0.2096 - acc: 0.9181 - recall_5: 0.9422 - val_loss: 0.2221 - val_acc: 0.9286 - val_recall_5: 0.9737\n",
            "Epoch 16/30\n",
            "100/100 [==============================] - 52s 517ms/step - loss: 0.2177 - acc: 0.9122 - recall_5: 0.9359 - val_loss: 0.2492 - val_acc: 0.8810 - val_recall_5: 0.8553\n",
            "Epoch 17/30\n",
            "100/100 [==============================] - 53s 530ms/step - loss: 0.2069 - acc: 0.9166 - recall_5: 0.9391 - val_loss: 0.3444 - val_acc: 0.8429 - val_recall_5: 0.7895\n",
            "Epoch 18/30\n",
            "100/100 [==============================] - 53s 528ms/step - loss: 0.2079 - acc: 0.9125 - recall_5: 0.9360 - val_loss: 0.2045 - val_acc: 0.9286 - val_recall_5: 0.9276\n",
            "Epoch 19/30\n",
            "100/100 [==============================] - 53s 524ms/step - loss: 0.2186 - acc: 0.9131 - recall_5: 0.9385 - val_loss: 0.1969 - val_acc: 0.9286 - val_recall_5: 0.9342\n",
            "Epoch 20/30\n",
            "100/100 [==============================] - 52s 522ms/step - loss: 0.2121 - acc: 0.9187 - recall_5: 0.9428 - val_loss: 0.1817 - val_acc: 0.9381 - val_recall_5: 0.9671\n",
            "Epoch 21/30\n",
            "100/100 [==============================] - 57s 574ms/step - loss: 0.2021 - acc: 0.9166 - recall_5: 0.9394 - val_loss: 0.1815 - val_acc: 0.9476 - val_recall_5: 0.9671\n",
            "Epoch 22/30\n",
            "100/100 [==============================] - 64s 639ms/step - loss: 0.2067 - acc: 0.9134 - recall_5: 0.9347 - val_loss: 0.2200 - val_acc: 0.9095 - val_recall_5: 0.8947\n",
            "Epoch 23/30\n",
            "100/100 [==============================] - 58s 583ms/step - loss: 0.1978 - acc: 0.9219 - recall_5: 0.9427 - val_loss: 0.3195 - val_acc: 0.8429 - val_recall_5: 0.7895\n",
            "Epoch 24/30\n",
            "100/100 [==============================] - 56s 561ms/step - loss: 0.2178 - acc: 0.9153 - recall_5: 0.9411 - val_loss: 0.2154 - val_acc: 0.9571 - val_recall_5: 0.9737\n",
            "Epoch 25/30\n",
            "100/100 [==============================] - 53s 534ms/step - loss: 0.1839 - acc: 0.9241 - recall_5: 0.9445 - val_loss: 0.2665 - val_acc: 0.8619 - val_recall_5: 0.8224\n",
            "Epoch 26/30\n",
            "100/100 [==============================] - 54s 540ms/step - loss: 0.2025 - acc: 0.9159 - recall_5: 0.9365 - val_loss: 0.1784 - val_acc: 0.9429 - val_recall_5: 0.9474\n",
            "Epoch 27/30\n",
            "100/100 [==============================] - 55s 550ms/step - loss: 0.2018 - acc: 0.9175 - recall_5: 0.9380 - val_loss: 0.1838 - val_acc: 0.9476 - val_recall_5: 0.9605\n",
            "Epoch 28/30\n",
            "100/100 [==============================] - 54s 537ms/step - loss: 0.1917 - acc: 0.9284 - recall_5: 0.9475 - val_loss: 0.1727 - val_acc: 0.9524 - val_recall_5: 0.9737\n",
            "Epoch 29/30\n",
            "100/100 [==============================] - 53s 529ms/step - loss: 0.1623 - acc: 0.9337 - recall_5: 0.9486 - val_loss: 0.1875 - val_acc: 0.9429 - val_recall_5: 0.9868\n",
            "Epoch 30/30\n",
            "100/100 [==============================] - 53s 531ms/step - loss: 0.1761 - acc: 0.9319 - recall_5: 0.9519 - val_loss: 0.2197 - val_acc: 0.9095 - val_recall_5: 0.8882\n"
          ]
        }
      ],
      "source": [
        "# This is the same as the best previous model with image augmentation\n",
        "augment_gen = ImageDataGenerator(rescale=1./255,\n",
        "                                   rotation_range=40,\n",
        "                                   width_shift_range=.2,\n",
        "                                   height_shift_range=.2,\n",
        "                                   shear_range=.2,\n",
        "                                   zoom_range=.2,\n",
        "                                   horizontal_flip=False,\n",
        "                                   brightness_range=[.5, 1.5])\n",
        "\n",
        "augment_set = augment_gen.flow_from_directory('data/chest_xray/train',\n",
        "                                                 target_size=(150, 150),\n",
        "                                                 batch_size=32,\n",
        "                                                 class_mode='binary',\n",
        "                                                 color_mode='grayscale')\n",
        "\n",
        "augmented = models.Sequential()\n",
        "augmented.add(layers.Conv2D(32, 7, padding='valid', input_shape=(150,150,1), activation='relu'))\n",
        "augmented.add(layers.MaxPooling2D(2))\n",
        "augmented.add(layers.Conv2D(64, 3, padding='same', activation='relu'))\n",
        "augmented.add(layers.MaxPooling2D(2))\n",
        "augmented.add(layers.Conv2D(64, 3, padding='same', activation='relu'))\n",
        "augmented.add(layers.MaxPooling2D(3))\n",
        "augmented.add(layers.Flatten())\n",
        "augmented.add(layers.Dense(64, activation='relu'))\n",
        "augmented.add(layers.Dense(1, activation='sigmoid'))\n",
        "augmented.compile(optimizer=\"adam\", loss=\"binary_crossentropy\", metrics=['acc', tf.metrics.Recall()])\n",
        "augmented.summary()\n",
        "\n",
        "# Fitting the model\n",
        "historyaug = augmented.fit(augment_set,\n",
        "                    validation_data=val_set,\n",
        "                    steps_per_epoch=100,\n",
        "                    epochs=30,\n",
        "                    callbacks=[earlystop])"
      ]
    },
    {
      "cell_type": "code",
      "execution_count": 24,
      "metadata": {},
      "outputs": [
        {
          "name": "stdout",
          "output_type": "stream",
          "text": [
            "20/20 [==============================] - 17s 878ms/step - loss: 0.2459 - acc: 0.8862 - recall_5: 0.9179\n"
          ]
        },
        {
          "data": {
            "text/plain": [
              "[0.24586127698421478, 0.8862179517745972, 0.9179487228393555]"
            ]
          },
          "execution_count": 24,
          "metadata": {},
          "output_type": "execute_result"
        }
      ],
      "source": [
        "augmented.evaluate(test_set)"
      ]
    },
    {
      "cell_type": "code",
      "execution_count": null,
      "metadata": {},
      "outputs": [],
      "source": []
    }
  ],
  "metadata": {
    "accelerator": "TPU",
    "colab": {
      "authorship_tag": "ABX9TyNmW8dr6Daq9DWYqzP/y3J+",
      "include_colab_link": true,
      "name": "baseline model.ipynb",
      "provenance": []
    },
    "kernelspec": {
      "display_name": "Python 3",
      "name": "python3"
    },
    "language_info": {
      "codemirror_mode": {
        "name": "ipython",
        "version": 3
      },
      "file_extension": ".py",
      "mimetype": "text/x-python",
      "name": "python",
      "nbconvert_exporter": "python",
      "pygments_lexer": "ipython3",
      "version": "3.8.5"
    }
  },
  "nbformat": 4,
  "nbformat_minor": 0
}
